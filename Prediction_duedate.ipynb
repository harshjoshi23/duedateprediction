{
  "nbformat": 4,
  "nbformat_minor": 0,
  "metadata": {
    "kernelspec": {
      "display_name": "Python 3",
      "language": "python",
      "name": "python3"
    },
    "language_info": {
      "codemirror_mode": {
        "name": "ipython",
        "version": 3
      },
      "file_extension": ".py",
      "mimetype": "text/x-python",
      "name": "python",
      "nbconvert_exporter": "python",
      "pygments_lexer": "ipython3",
      "version": "3.7.6"
    },
    "colab": {
      "name": "Prediction_duedate.ipynb",
      "provenance": [],
      "collapsed_sections": [
        "CMvacdWl4S-_",
        "qzUVSZAX4S_A",
        "s4vlFlgu4S_A",
        "kO6fyzHb4S_B",
        "1I_aK_Pf4S_D",
        "ksN_Hon14S_E",
        "VKab_z6I4S_G",
        "okLqvxYk4S_H",
        "C1wZ4F644S_I",
        "g-abU4Z84S_J",
        "h1yA2GCH4S_L",
        "AYjUAeK14S_M",
        "WajlcfBK4S_N",
        "vvfhFigY4S_O",
        "BqO7MznL4S_U",
        "Bth2RNvn4S_U",
        "hLiVoWct4S_W",
        "3CrA1wTF4S_X",
        "cWAPbfcG4S_Y",
        "-omuN2_h4S_Y",
        "oc7veoTt4S_a",
        "T5nKOcOI4S_h",
        "4gSin8SL4S_i",
        "vCUWYRaI4S_n",
        "ueNm-fkV4S_r",
        "GmMgJ-q34S_t",
        "4tC8GQ8T4S_u",
        "ffyO7S1x4S_u",
        "lZ2mP0lX4S_v",
        "Zx5E8TdO4S_w",
        "DbDiCWej4S_2",
        "xC9ILM3C4S_5"
      ],
      "include_colab_link": true
    }
  },
  "cells": [
    {
      "cell_type": "markdown",
      "metadata": {
        "id": "view-in-github",
        "colab_type": "text"
      },
      "source": [
        "<a href=\"https://colab.research.google.com/github/harshjoshi23/duedateprediction/blob/main/Prediction_duedate.ipynb\" target=\"_parent\"><img src=\"https://colab.research.google.com/assets/colab-badge.svg\" alt=\"Open In Colab\"/></a>"
      ]
    },
    {
      "cell_type": "markdown",
      "metadata": {
        "id": "PrkFa9j04S-0"
      },
      "source": [
        ""
      ]
    },
    {
      "cell_type": "code",
      "metadata": {
        "id": "eSf0_LM14S-3"
      },
      "source": [
        "import pandas as pd\n",
        "import numpy as np\n",
        "import seaborn as sns\n",
        "import matplotlib.pyplot as plt\n",
        "\n",
        "# to remove warnings\n",
        "import warnings\n",
        "warnings.filterwarnings('ignore')"
      ],
      "execution_count": null,
      "outputs": []
    },
    {
      "cell_type": "code",
      "metadata": {
        "id": "pgIzsHq14S-4"
      },
      "source": [
        "# Reading File\n",
        "\n",
        "df = pd.read_csv(\"1830009.csv\")"
      ],
      "execution_count": null,
      "outputs": []
    },
    {
      "cell_type": "code",
      "metadata": {
        "id": "Q2IiOlTq4S-4",
        "outputId": "290741c7-0ea8-424c-c7b1-0fbaac99e27a"
      },
      "source": [
        "df.head()"
      ],
      "execution_count": null,
      "outputs": [
        {
          "output_type": "execute_result",
          "data": {
            "text/html": [
              "<div>\n",
              "<style scoped>\n",
              "    .dataframe tbody tr th:only-of-type {\n",
              "        vertical-align: middle;\n",
              "    }\n",
              "\n",
              "    .dataframe tbody tr th {\n",
              "        vertical-align: top;\n",
              "    }\n",
              "\n",
              "    .dataframe thead th {\n",
              "        text-align: right;\n",
              "    }\n",
              "</style>\n",
              "<table border=\"1\" class=\"dataframe\">\n",
              "  <thead>\n",
              "    <tr style=\"text-align: right;\">\n",
              "      <th></th>\n",
              "      <th>business_code</th>\n",
              "      <th>cust_number</th>\n",
              "      <th>name_customer</th>\n",
              "      <th>clear_date</th>\n",
              "      <th>buisness_year</th>\n",
              "      <th>doc_id</th>\n",
              "      <th>posting_date</th>\n",
              "      <th>document_create_date</th>\n",
              "      <th>document_create_date.1</th>\n",
              "      <th>due_in_date</th>\n",
              "      <th>invoice_currency</th>\n",
              "      <th>document type</th>\n",
              "      <th>posting_id</th>\n",
              "      <th>area_business</th>\n",
              "      <th>total_open_amount</th>\n",
              "      <th>baseline_create_date</th>\n",
              "      <th>cust_payment_terms</th>\n",
              "      <th>invoice_id</th>\n",
              "      <th>isOpen</th>\n",
              "    </tr>\n",
              "  </thead>\n",
              "  <tbody>\n",
              "    <tr>\n",
              "      <th>0</th>\n",
              "      <td>U001</td>\n",
              "      <td>200782001</td>\n",
              "      <td>GORDO trust</td>\n",
              "      <td>2019-04-17 00:00:00</td>\n",
              "      <td>2019.0</td>\n",
              "      <td>1.929081e+09</td>\n",
              "      <td>2019-04-04</td>\n",
              "      <td>20190404</td>\n",
              "      <td>20190404</td>\n",
              "      <td>20190419.0</td>\n",
              "      <td>USD</td>\n",
              "      <td>RV</td>\n",
              "      <td>1.0</td>\n",
              "      <td>NaN</td>\n",
              "      <td>20157.40</td>\n",
              "      <td>20190404.0</td>\n",
              "      <td>NAA8</td>\n",
              "      <td>1.929081e+09</td>\n",
              "      <td>0</td>\n",
              "    </tr>\n",
              "    <tr>\n",
              "      <th>1</th>\n",
              "      <td>U001</td>\n",
              "      <td>0200769623</td>\n",
              "      <td>WAL-MAR systems</td>\n",
              "      <td>2019-01-22 00:00:00</td>\n",
              "      <td>2019.0</td>\n",
              "      <td>1.928609e+09</td>\n",
              "      <td>2019-01-11</td>\n",
              "      <td>20190111</td>\n",
              "      <td>20190111</td>\n",
              "      <td>20190126.0</td>\n",
              "      <td>USD</td>\n",
              "      <td>RV</td>\n",
              "      <td>1.0</td>\n",
              "      <td>NaN</td>\n",
              "      <td>71.11</td>\n",
              "      <td>20190111.0</td>\n",
              "      <td>NAH4</td>\n",
              "      <td>1.928609e+09</td>\n",
              "      <td>0</td>\n",
              "    </tr>\n",
              "    <tr>\n",
              "      <th>2</th>\n",
              "      <td>U001</td>\n",
              "      <td>0200762301</td>\n",
              "      <td>C&amp;S WH co</td>\n",
              "      <td>2019-04-26 00:00:00</td>\n",
              "      <td>2019.0</td>\n",
              "      <td>1.929128e+09</td>\n",
              "      <td>2019-04-12</td>\n",
              "      <td>20190411</td>\n",
              "      <td>20190412</td>\n",
              "      <td>20190427.0</td>\n",
              "      <td>USD</td>\n",
              "      <td>RV</td>\n",
              "      <td>1.0</td>\n",
              "      <td>NaN</td>\n",
              "      <td>5624.96</td>\n",
              "      <td>20190412.0</td>\n",
              "      <td>NAC6</td>\n",
              "      <td>1.929128e+09</td>\n",
              "      <td>0</td>\n",
              "    </tr>\n",
              "    <tr>\n",
              "      <th>3</th>\n",
              "      <td>U001</td>\n",
              "      <td>0200769623</td>\n",
              "      <td>WAL-MAR associates</td>\n",
              "      <td>2019-12-11 00:00:00</td>\n",
              "      <td>2019.0</td>\n",
              "      <td>1.930206e+09</td>\n",
              "      <td>2019-11-30</td>\n",
              "      <td>20191130</td>\n",
              "      <td>20191130</td>\n",
              "      <td>20191215.0</td>\n",
              "      <td>USD</td>\n",
              "      <td>RV</td>\n",
              "      <td>1.0</td>\n",
              "      <td>NaN</td>\n",
              "      <td>13467.99</td>\n",
              "      <td>20191130.0</td>\n",
              "      <td>NAH4</td>\n",
              "      <td>1.930206e+09</td>\n",
              "      <td>0</td>\n",
              "    </tr>\n",
              "    <tr>\n",
              "      <th>4</th>\n",
              "      <td>U001</td>\n",
              "      <td>0200761734</td>\n",
              "      <td>H E BUT corporation</td>\n",
              "      <td>2019-06-27 00:00:00</td>\n",
              "      <td>2019.0</td>\n",
              "      <td>1.929486e+09</td>\n",
              "      <td>2019-06-13</td>\n",
              "      <td>20190613</td>\n",
              "      <td>20190613</td>\n",
              "      <td>20190628.0</td>\n",
              "      <td>USD</td>\n",
              "      <td>RV</td>\n",
              "      <td>1.0</td>\n",
              "      <td>NaN</td>\n",
              "      <td>74716.83</td>\n",
              "      <td>20190613.0</td>\n",
              "      <td>NAA8</td>\n",
              "      <td>1.929486e+09</td>\n",
              "      <td>0</td>\n",
              "    </tr>\n",
              "  </tbody>\n",
              "</table>\n",
              "</div>"
            ],
            "text/plain": [
              "  business_code cust_number        name_customer           clear_date  \\\n",
              "0          U001   200782001          GORDO trust  2019-04-17 00:00:00   \n",
              "1          U001  0200769623      WAL-MAR systems  2019-01-22 00:00:00   \n",
              "2          U001  0200762301            C&S WH co  2019-04-26 00:00:00   \n",
              "3          U001  0200769623   WAL-MAR associates  2019-12-11 00:00:00   \n",
              "4          U001  0200761734  H E BUT corporation  2019-06-27 00:00:00   \n",
              "\n",
              "   buisness_year        doc_id posting_date  document_create_date  \\\n",
              "0         2019.0  1.929081e+09   2019-04-04              20190404   \n",
              "1         2019.0  1.928609e+09   2019-01-11              20190111   \n",
              "2         2019.0  1.929128e+09   2019-04-12              20190411   \n",
              "3         2019.0  1.930206e+09   2019-11-30              20191130   \n",
              "4         2019.0  1.929486e+09   2019-06-13              20190613   \n",
              "\n",
              "   document_create_date.1  due_in_date invoice_currency document type  \\\n",
              "0                20190404   20190419.0              USD            RV   \n",
              "1                20190111   20190126.0              USD            RV   \n",
              "2                20190412   20190427.0              USD            RV   \n",
              "3                20191130   20191215.0              USD            RV   \n",
              "4                20190613   20190628.0              USD            RV   \n",
              "\n",
              "   posting_id  area_business  total_open_amount  baseline_create_date  \\\n",
              "0         1.0            NaN           20157.40            20190404.0   \n",
              "1         1.0            NaN              71.11            20190111.0   \n",
              "2         1.0            NaN            5624.96            20190412.0   \n",
              "3         1.0            NaN           13467.99            20191130.0   \n",
              "4         1.0            NaN           74716.83            20190613.0   \n",
              "\n",
              "  cust_payment_terms    invoice_id  isOpen  \n",
              "0               NAA8  1.929081e+09       0  \n",
              "1               NAH4  1.928609e+09       0  \n",
              "2               NAC6  1.929128e+09       0  \n",
              "3               NAH4  1.930206e+09       0  \n",
              "4               NAA8  1.929486e+09       0  "
            ]
          },
          "metadata": {
            "tags": []
          },
          "execution_count": 3
        }
      ]
    },
    {
      "cell_type": "markdown",
      "metadata": {
        "id": "UoC3OZ-S4S-5"
      },
      "source": [
        "#### Converting Date from object type to datetime type\n",
        "\n"
      ]
    },
    {
      "cell_type": "code",
      "metadata": {
        "id": "1Gm0-bQI4S-6"
      },
      "source": [
        "# Converting Date from object type to datetime type\n",
        "# We could have done this step in Pre-processing. But since we have to sort our data according to date for splitting, we are doing it earlier.\n",
        "\n",
        "df['clear_date']= pd.to_datetime(df['clear_date'])\n",
        "df['posting_date']=pd.to_datetime(df['posting_date'])\n",
        "df['due_in_date'] = pd.to_datetime(df['due_in_date'], format='%Y%m%d')\n",
        "df['document_create_date'] = pd.to_datetime(df['document_create_date'], format='%Y%m%d')\n",
        "df['document_create_date.1'] = pd.to_datetime(df['document_create_date.1'], format='%Y%m%d')\n",
        "df['baseline_create_date'] = pd.to_datetime(df['baseline_create_date'], format='%Y%m%d')"
      ],
      "execution_count": null,
      "outputs": []
    },
    {
      "cell_type": "code",
      "metadata": {
        "id": "I86pqN_O4S-6",
        "outputId": "f3ccd830-4805-4cae-a0c3-97354c8f48ab"
      },
      "source": [
        "df.info()"
      ],
      "execution_count": null,
      "outputs": [
        {
          "output_type": "stream",
          "text": [
            "<class 'pandas.core.frame.DataFrame'>\n",
            "RangeIndex: 50000 entries, 0 to 49999\n",
            "Data columns (total 19 columns):\n",
            " #   Column                  Non-Null Count  Dtype         \n",
            "---  ------                  --------------  -----         \n",
            " 0   business_code           50000 non-null  object        \n",
            " 1   cust_number             50000 non-null  object        \n",
            " 2   name_customer           50000 non-null  object        \n",
            " 3   clear_date              45627 non-null  datetime64[ns]\n",
            " 4   buisness_year           50000 non-null  float64       \n",
            " 5   doc_id                  50000 non-null  float64       \n",
            " 6   posting_date            50000 non-null  datetime64[ns]\n",
            " 7   document_create_date    50000 non-null  datetime64[ns]\n",
            " 8   document_create_date.1  50000 non-null  datetime64[ns]\n",
            " 9   due_in_date             50000 non-null  datetime64[ns]\n",
            " 10  invoice_currency        50000 non-null  object        \n",
            " 11  document type           50000 non-null  object        \n",
            " 12  posting_id              50000 non-null  float64       \n",
            " 13  area_business           0 non-null      float64       \n",
            " 14  total_open_amount       50000 non-null  float64       \n",
            " 15  baseline_create_date    50000 non-null  datetime64[ns]\n",
            " 16  cust_payment_terms      50000 non-null  object        \n",
            " 17  invoice_id              49996 non-null  float64       \n",
            " 18  isOpen                  50000 non-null  int64         \n",
            "dtypes: datetime64[ns](6), float64(6), int64(1), object(6)\n",
            "memory usage: 7.2+ MB\n"
          ],
          "name": "stdout"
        }
      ]
    },
    {
      "cell_type": "code",
      "metadata": {
        "id": "2Y6u-bZ54S-7",
        "outputId": "786f1c1f-26d4-46c2-d7d4-a35f0b1878d4"
      },
      "source": [
        "# Sorting according to document_create_date.1\n",
        "\n",
        "df = df.sort_values(by=\"document_create_date.1\")\n",
        "df.head()"
      ],
      "execution_count": null,
      "outputs": [
        {
          "output_type": "execute_result",
          "data": {
            "text/html": [
              "<div>\n",
              "<style scoped>\n",
              "    .dataframe tbody tr th:only-of-type {\n",
              "        vertical-align: middle;\n",
              "    }\n",
              "\n",
              "    .dataframe tbody tr th {\n",
              "        vertical-align: top;\n",
              "    }\n",
              "\n",
              "    .dataframe thead th {\n",
              "        text-align: right;\n",
              "    }\n",
              "</style>\n",
              "<table border=\"1\" class=\"dataframe\">\n",
              "  <thead>\n",
              "    <tr style=\"text-align: right;\">\n",
              "      <th></th>\n",
              "      <th>business_code</th>\n",
              "      <th>cust_number</th>\n",
              "      <th>name_customer</th>\n",
              "      <th>clear_date</th>\n",
              "      <th>buisness_year</th>\n",
              "      <th>doc_id</th>\n",
              "      <th>posting_date</th>\n",
              "      <th>document_create_date</th>\n",
              "      <th>document_create_date.1</th>\n",
              "      <th>due_in_date</th>\n",
              "      <th>invoice_currency</th>\n",
              "      <th>document type</th>\n",
              "      <th>posting_id</th>\n",
              "      <th>area_business</th>\n",
              "      <th>total_open_amount</th>\n",
              "      <th>baseline_create_date</th>\n",
              "      <th>cust_payment_terms</th>\n",
              "      <th>invoice_id</th>\n",
              "      <th>isOpen</th>\n",
              "    </tr>\n",
              "  </thead>\n",
              "  <tbody>\n",
              "    <tr>\n",
              "      <th>27305</th>\n",
              "      <td>U001</td>\n",
              "      <td>0200769623</td>\n",
              "      <td>WAL-MAR co</td>\n",
              "      <td>2019-01-15</td>\n",
              "      <td>2019.0</td>\n",
              "      <td>1.928541e+09</td>\n",
              "      <td>2018-12-30</td>\n",
              "      <td>2018-12-29</td>\n",
              "      <td>2018-12-30</td>\n",
              "      <td>2019-01-14</td>\n",
              "      <td>USD</td>\n",
              "      <td>RV</td>\n",
              "      <td>1.0</td>\n",
              "      <td>NaN</td>\n",
              "      <td>8494.34</td>\n",
              "      <td>2018-12-30</td>\n",
              "      <td>NAH4</td>\n",
              "      <td>1.928541e+09</td>\n",
              "      <td>0</td>\n",
              "    </tr>\n",
              "    <tr>\n",
              "      <th>25048</th>\n",
              "      <td>U001</td>\n",
              "      <td>0200780383</td>\n",
              "      <td>MEIJ foundation</td>\n",
              "      <td>2019-01-18</td>\n",
              "      <td>2019.0</td>\n",
              "      <td>1.928544e+09</td>\n",
              "      <td>2018-12-30</td>\n",
              "      <td>2018-12-30</td>\n",
              "      <td>2018-12-30</td>\n",
              "      <td>2019-01-14</td>\n",
              "      <td>USD</td>\n",
              "      <td>RV</td>\n",
              "      <td>1.0</td>\n",
              "      <td>NaN</td>\n",
              "      <td>80237.74</td>\n",
              "      <td>2018-12-30</td>\n",
              "      <td>NAA8</td>\n",
              "      <td>1.928544e+09</td>\n",
              "      <td>0</td>\n",
              "    </tr>\n",
              "    <tr>\n",
              "      <th>19368</th>\n",
              "      <td>U001</td>\n",
              "      <td>0200711029</td>\n",
              "      <td>WEGMAN foundation</td>\n",
              "      <td>2019-01-14</td>\n",
              "      <td>2019.0</td>\n",
              "      <td>1.928543e+09</td>\n",
              "      <td>2018-12-30</td>\n",
              "      <td>2018-12-30</td>\n",
              "      <td>2018-12-30</td>\n",
              "      <td>2019-01-14</td>\n",
              "      <td>USD</td>\n",
              "      <td>RV</td>\n",
              "      <td>1.0</td>\n",
              "      <td>NaN</td>\n",
              "      <td>16626.31</td>\n",
              "      <td>2018-12-30</td>\n",
              "      <td>NAA8</td>\n",
              "      <td>1.928543e+09</td>\n",
              "      <td>0</td>\n",
              "    </tr>\n",
              "    <tr>\n",
              "      <th>42391</th>\n",
              "      <td>U001</td>\n",
              "      <td>0200799538</td>\n",
              "      <td>UNITE llc</td>\n",
              "      <td>2019-01-15</td>\n",
              "      <td>2019.0</td>\n",
              "      <td>1.928543e+09</td>\n",
              "      <td>2018-12-30</td>\n",
              "      <td>2018-12-30</td>\n",
              "      <td>2018-12-30</td>\n",
              "      <td>2019-01-14</td>\n",
              "      <td>USD</td>\n",
              "      <td>RV</td>\n",
              "      <td>1.0</td>\n",
              "      <td>NaN</td>\n",
              "      <td>97366.37</td>\n",
              "      <td>2018-12-30</td>\n",
              "      <td>NAA8</td>\n",
              "      <td>1.928543e+09</td>\n",
              "      <td>0</td>\n",
              "    </tr>\n",
              "    <tr>\n",
              "      <th>39761</th>\n",
              "      <td>U001</td>\n",
              "      <td>0200769623</td>\n",
              "      <td>WAL-MAR</td>\n",
              "      <td>2019-01-09</td>\n",
              "      <td>2019.0</td>\n",
              "      <td>1.928541e+09</td>\n",
              "      <td>2018-12-30</td>\n",
              "      <td>2018-12-29</td>\n",
              "      <td>2018-12-30</td>\n",
              "      <td>2019-01-14</td>\n",
              "      <td>USD</td>\n",
              "      <td>RV</td>\n",
              "      <td>1.0</td>\n",
              "      <td>NaN</td>\n",
              "      <td>8406.56</td>\n",
              "      <td>2018-12-30</td>\n",
              "      <td>NAH4</td>\n",
              "      <td>1.928541e+09</td>\n",
              "      <td>0</td>\n",
              "    </tr>\n",
              "  </tbody>\n",
              "</table>\n",
              "</div>"
            ],
            "text/plain": [
              "      business_code cust_number      name_customer clear_date  buisness_year  \\\n",
              "27305          U001  0200769623         WAL-MAR co 2019-01-15         2019.0   \n",
              "25048          U001  0200780383    MEIJ foundation 2019-01-18         2019.0   \n",
              "19368          U001  0200711029  WEGMAN foundation 2019-01-14         2019.0   \n",
              "42391          U001  0200799538          UNITE llc 2019-01-15         2019.0   \n",
              "39761          U001  0200769623           WAL-MAR  2019-01-09         2019.0   \n",
              "\n",
              "             doc_id posting_date document_create_date document_create_date.1  \\\n",
              "27305  1.928541e+09   2018-12-30           2018-12-29             2018-12-30   \n",
              "25048  1.928544e+09   2018-12-30           2018-12-30             2018-12-30   \n",
              "19368  1.928543e+09   2018-12-30           2018-12-30             2018-12-30   \n",
              "42391  1.928543e+09   2018-12-30           2018-12-30             2018-12-30   \n",
              "39761  1.928541e+09   2018-12-30           2018-12-29             2018-12-30   \n",
              "\n",
              "      due_in_date invoice_currency document type  posting_id  area_business  \\\n",
              "27305  2019-01-14              USD            RV         1.0            NaN   \n",
              "25048  2019-01-14              USD            RV         1.0            NaN   \n",
              "19368  2019-01-14              USD            RV         1.0            NaN   \n",
              "42391  2019-01-14              USD            RV         1.0            NaN   \n",
              "39761  2019-01-14              USD            RV         1.0            NaN   \n",
              "\n",
              "       total_open_amount baseline_create_date cust_payment_terms  \\\n",
              "27305            8494.34           2018-12-30               NAH4   \n",
              "25048           80237.74           2018-12-30               NAA8   \n",
              "19368           16626.31           2018-12-30               NAA8   \n",
              "42391           97366.37           2018-12-30               NAA8   \n",
              "39761            8406.56           2018-12-30               NAH4   \n",
              "\n",
              "         invoice_id  isOpen  \n",
              "27305  1.928541e+09       0  \n",
              "25048  1.928544e+09       0  \n",
              "19368  1.928543e+09       0  \n",
              "42391  1.928543e+09       0  \n",
              "39761  1.928541e+09       0  "
            ]
          },
          "metadata": {
            "tags": []
          },
          "execution_count": 6
        }
      ]
    },
    {
      "cell_type": "markdown",
      "metadata": {
        "id": "-STKNvgg4S-8"
      },
      "source": [
        "# Splitting of dataset"
      ]
    },
    {
      "cell_type": "code",
      "metadata": {
        "scrolled": true,
        "id": "Yiq5NB2a4S-8",
        "outputId": "06770d06-9f80-4dd4-edca-464234ea27b3"
      },
      "source": [
        "Test = df[df['clear_date'].isnull()]\n",
        "Rest = df[df['clear_date'].notnull()]\n",
        "Test.shape\n",
        "\n",
        "# So here basically we are dividing the data set into Test And Rest, where all clear_date columns having NULL goes into Test and the rest into Rest."
      ],
      "execution_count": null,
      "outputs": [
        {
          "output_type": "execute_result",
          "data": {
            "text/plain": [
              "(4373, 19)"
            ]
          },
          "metadata": {
            "tags": []
          },
          "execution_count": 7
        }
      ]
    },
    {
      "cell_type": "code",
      "metadata": {
        "id": "2iJS49bK4S-8",
        "outputId": "f7470245-92d2-4747-9143-9917bf249aad"
      },
      "source": [
        "Test.shape"
      ],
      "execution_count": null,
      "outputs": [
        {
          "output_type": "execute_result",
          "data": {
            "text/plain": [
              "(4373, 19)"
            ]
          },
          "metadata": {
            "tags": []
          },
          "execution_count": 8
        }
      ]
    },
    {
      "cell_type": "code",
      "metadata": {
        "id": "CIdGXCUr4S-9"
      },
      "source": [
        "from sklearn.model_selection import train_test_split   \n",
        "from sklearn.feature_selection import VarianceThreshold"
      ],
      "execution_count": null,
      "outputs": []
    },
    {
      "cell_type": "code",
      "metadata": {
        "id": "kfixp2jF4S-9"
      },
      "source": [
        "# Now using the sklearn train_test_split, we will splitt the Rest dataset into Train Set , Validation Set and Local test Set.\n",
        "\n",
        "train,val = train_test_split(Rest,shuffle=False,test_size=0.3)"
      ],
      "execution_count": null,
      "outputs": []
    },
    {
      "cell_type": "code",
      "metadata": {
        "id": "A1uxMeI74S-9"
      },
      "source": [
        "val1,local_test = train_test_split(val,shuffle=False,test_size=0.5)\n",
        "\n",
        "# So we have 4 datasets now. train(70% of Rest dataset), val1(15% of Rest dataset), local_test(Again 15% of Rest dataset) and finally our Test Set(with all null values in clear_date which the model has to finally predict)"
      ],
      "execution_count": null,
      "outputs": []
    },
    {
      "cell_type": "markdown",
      "metadata": {
        "id": "FG3ybp0w4S--"
      },
      "source": [
        "### Representation of 4 datasets(Test, train, val1, local_test)"
      ]
    },
    {
      "cell_type": "code",
      "metadata": {
        "scrolled": false,
        "id": "yn968RTb4S--",
        "outputId": "2fbec64e-abf0-4a10-fd49-07b23004825e"
      },
      "source": [
        "Test.head()"
      ],
      "execution_count": null,
      "outputs": [
        {
          "output_type": "execute_result",
          "data": {
            "text/html": [
              "<div>\n",
              "<style scoped>\n",
              "    .dataframe tbody tr th:only-of-type {\n",
              "        vertical-align: middle;\n",
              "    }\n",
              "\n",
              "    .dataframe tbody tr th {\n",
              "        vertical-align: top;\n",
              "    }\n",
              "\n",
              "    .dataframe thead th {\n",
              "        text-align: right;\n",
              "    }\n",
              "</style>\n",
              "<table border=\"1\" class=\"dataframe\">\n",
              "  <thead>\n",
              "    <tr style=\"text-align: right;\">\n",
              "      <th></th>\n",
              "      <th>business_code</th>\n",
              "      <th>cust_number</th>\n",
              "      <th>name_customer</th>\n",
              "      <th>clear_date</th>\n",
              "      <th>buisness_year</th>\n",
              "      <th>doc_id</th>\n",
              "      <th>posting_date</th>\n",
              "      <th>document_create_date</th>\n",
              "      <th>document_create_date.1</th>\n",
              "      <th>due_in_date</th>\n",
              "      <th>invoice_currency</th>\n",
              "      <th>document type</th>\n",
              "      <th>posting_id</th>\n",
              "      <th>area_business</th>\n",
              "      <th>total_open_amount</th>\n",
              "      <th>baseline_create_date</th>\n",
              "      <th>cust_payment_terms</th>\n",
              "      <th>invoice_id</th>\n",
              "      <th>isOpen</th>\n",
              "    </tr>\n",
              "  </thead>\n",
              "  <tbody>\n",
              "    <tr>\n",
              "      <th>46639</th>\n",
              "      <td>U001</td>\n",
              "      <td>0200794332</td>\n",
              "      <td>COST systems</td>\n",
              "      <td>NaT</td>\n",
              "      <td>2020.0</td>\n",
              "      <td>1.930565e+09</td>\n",
              "      <td>2020-02-27</td>\n",
              "      <td>2020-02-24</td>\n",
              "      <td>2020-02-27</td>\n",
              "      <td>2020-03-13</td>\n",
              "      <td>USD</td>\n",
              "      <td>RV</td>\n",
              "      <td>1.0</td>\n",
              "      <td>NaN</td>\n",
              "      <td>9872.03</td>\n",
              "      <td>2020-02-27</td>\n",
              "      <td>NAAX</td>\n",
              "      <td>1.930565e+09</td>\n",
              "      <td>1</td>\n",
              "    </tr>\n",
              "    <tr>\n",
              "      <th>46688</th>\n",
              "      <td>U001</td>\n",
              "      <td>0200769623</td>\n",
              "      <td>WAL-MAR corporation</td>\n",
              "      <td>NaT</td>\n",
              "      <td>2020.0</td>\n",
              "      <td>1.930574e+09</td>\n",
              "      <td>2020-02-27</td>\n",
              "      <td>2020-02-26</td>\n",
              "      <td>2020-02-27</td>\n",
              "      <td>2020-03-13</td>\n",
              "      <td>USD</td>\n",
              "      <td>RV</td>\n",
              "      <td>1.0</td>\n",
              "      <td>NaN</td>\n",
              "      <td>29400.46</td>\n",
              "      <td>2020-02-27</td>\n",
              "      <td>NAH4</td>\n",
              "      <td>1.930574e+09</td>\n",
              "      <td>1</td>\n",
              "    </tr>\n",
              "    <tr>\n",
              "      <th>49351</th>\n",
              "      <td>CA02</td>\n",
              "      <td>0140104440</td>\n",
              "      <td>SO llc</td>\n",
              "      <td>NaT</td>\n",
              "      <td>2020.0</td>\n",
              "      <td>2.960617e+09</td>\n",
              "      <td>2020-02-27</td>\n",
              "      <td>2020-02-27</td>\n",
              "      <td>2020-02-27</td>\n",
              "      <td>2020-03-09</td>\n",
              "      <td>CAD</td>\n",
              "      <td>RV</td>\n",
              "      <td>1.0</td>\n",
              "      <td>NaN</td>\n",
              "      <td>125849.28</td>\n",
              "      <td>2020-02-28</td>\n",
              "      <td>CA10</td>\n",
              "      <td>2.960617e+09</td>\n",
              "      <td>1</td>\n",
              "    </tr>\n",
              "    <tr>\n",
              "      <th>46721</th>\n",
              "      <td>CA02</td>\n",
              "      <td>0140104440</td>\n",
              "      <td>SO trust</td>\n",
              "      <td>NaT</td>\n",
              "      <td>2020.0</td>\n",
              "      <td>2.960617e+09</td>\n",
              "      <td>2020-02-27</td>\n",
              "      <td>2020-02-27</td>\n",
              "      <td>2020-02-27</td>\n",
              "      <td>2020-03-17</td>\n",
              "      <td>CAD</td>\n",
              "      <td>RV</td>\n",
              "      <td>1.0</td>\n",
              "      <td>NaN</td>\n",
              "      <td>65058.62</td>\n",
              "      <td>2020-03-07</td>\n",
              "      <td>CA10</td>\n",
              "      <td>2.960617e+09</td>\n",
              "      <td>1</td>\n",
              "    </tr>\n",
              "    <tr>\n",
              "      <th>46746</th>\n",
              "      <td>U001</td>\n",
              "      <td>0200783609</td>\n",
              "      <td>PROFIC foundation</td>\n",
              "      <td>NaT</td>\n",
              "      <td>2020.0</td>\n",
              "      <td>1.930571e+09</td>\n",
              "      <td>2020-02-27</td>\n",
              "      <td>2020-02-26</td>\n",
              "      <td>2020-02-27</td>\n",
              "      <td>2020-03-13</td>\n",
              "      <td>USD</td>\n",
              "      <td>RV</td>\n",
              "      <td>1.0</td>\n",
              "      <td>NaN</td>\n",
              "      <td>18716.92</td>\n",
              "      <td>2020-02-27</td>\n",
              "      <td>NAA8</td>\n",
              "      <td>1.930571e+09</td>\n",
              "      <td>1</td>\n",
              "    </tr>\n",
              "  </tbody>\n",
              "</table>\n",
              "</div>"
            ],
            "text/plain": [
              "      business_code cust_number        name_customer clear_date  \\\n",
              "46639          U001  0200794332         COST systems        NaT   \n",
              "46688          U001  0200769623  WAL-MAR corporation        NaT   \n",
              "49351          CA02  0140104440               SO llc        NaT   \n",
              "46721          CA02  0140104440             SO trust        NaT   \n",
              "46746          U001  0200783609    PROFIC foundation        NaT   \n",
              "\n",
              "       buisness_year        doc_id posting_date document_create_date  \\\n",
              "46639         2020.0  1.930565e+09   2020-02-27           2020-02-24   \n",
              "46688         2020.0  1.930574e+09   2020-02-27           2020-02-26   \n",
              "49351         2020.0  2.960617e+09   2020-02-27           2020-02-27   \n",
              "46721         2020.0  2.960617e+09   2020-02-27           2020-02-27   \n",
              "46746         2020.0  1.930571e+09   2020-02-27           2020-02-26   \n",
              "\n",
              "      document_create_date.1 due_in_date invoice_currency document type  \\\n",
              "46639             2020-02-27  2020-03-13              USD            RV   \n",
              "46688             2020-02-27  2020-03-13              USD            RV   \n",
              "49351             2020-02-27  2020-03-09              CAD            RV   \n",
              "46721             2020-02-27  2020-03-17              CAD            RV   \n",
              "46746             2020-02-27  2020-03-13              USD            RV   \n",
              "\n",
              "       posting_id  area_business  total_open_amount baseline_create_date  \\\n",
              "46639         1.0            NaN            9872.03           2020-02-27   \n",
              "46688         1.0            NaN           29400.46           2020-02-27   \n",
              "49351         1.0            NaN          125849.28           2020-02-28   \n",
              "46721         1.0            NaN           65058.62           2020-03-07   \n",
              "46746         1.0            NaN           18716.92           2020-02-27   \n",
              "\n",
              "      cust_payment_terms    invoice_id  isOpen  \n",
              "46639               NAAX  1.930565e+09       1  \n",
              "46688               NAH4  1.930574e+09       1  \n",
              "49351               CA10  2.960617e+09       1  \n",
              "46721               CA10  2.960617e+09       1  \n",
              "46746               NAA8  1.930571e+09       1  "
            ]
          },
          "metadata": {
            "tags": []
          },
          "execution_count": 12
        }
      ]
    },
    {
      "cell_type": "code",
      "metadata": {
        "scrolled": true,
        "id": "SC7O5E8B4S--",
        "outputId": "964cbb7f-f02d-4de3-c9a7-5e5cb46f9b72"
      },
      "source": [
        "train.head()"
      ],
      "execution_count": null,
      "outputs": [
        {
          "output_type": "execute_result",
          "data": {
            "text/html": [
              "<div>\n",
              "<style scoped>\n",
              "    .dataframe tbody tr th:only-of-type {\n",
              "        vertical-align: middle;\n",
              "    }\n",
              "\n",
              "    .dataframe tbody tr th {\n",
              "        vertical-align: top;\n",
              "    }\n",
              "\n",
              "    .dataframe thead th {\n",
              "        text-align: right;\n",
              "    }\n",
              "</style>\n",
              "<table border=\"1\" class=\"dataframe\">\n",
              "  <thead>\n",
              "    <tr style=\"text-align: right;\">\n",
              "      <th></th>\n",
              "      <th>business_code</th>\n",
              "      <th>cust_number</th>\n",
              "      <th>name_customer</th>\n",
              "      <th>clear_date</th>\n",
              "      <th>buisness_year</th>\n",
              "      <th>doc_id</th>\n",
              "      <th>posting_date</th>\n",
              "      <th>document_create_date</th>\n",
              "      <th>document_create_date.1</th>\n",
              "      <th>due_in_date</th>\n",
              "      <th>invoice_currency</th>\n",
              "      <th>document type</th>\n",
              "      <th>posting_id</th>\n",
              "      <th>area_business</th>\n",
              "      <th>total_open_amount</th>\n",
              "      <th>baseline_create_date</th>\n",
              "      <th>cust_payment_terms</th>\n",
              "      <th>invoice_id</th>\n",
              "      <th>isOpen</th>\n",
              "    </tr>\n",
              "  </thead>\n",
              "  <tbody>\n",
              "    <tr>\n",
              "      <th>27305</th>\n",
              "      <td>U001</td>\n",
              "      <td>0200769623</td>\n",
              "      <td>WAL-MAR co</td>\n",
              "      <td>2019-01-15</td>\n",
              "      <td>2019.0</td>\n",
              "      <td>1.928541e+09</td>\n",
              "      <td>2018-12-30</td>\n",
              "      <td>2018-12-29</td>\n",
              "      <td>2018-12-30</td>\n",
              "      <td>2019-01-14</td>\n",
              "      <td>USD</td>\n",
              "      <td>RV</td>\n",
              "      <td>1.0</td>\n",
              "      <td>NaN</td>\n",
              "      <td>8494.34</td>\n",
              "      <td>2018-12-30</td>\n",
              "      <td>NAH4</td>\n",
              "      <td>1.928541e+09</td>\n",
              "      <td>0</td>\n",
              "    </tr>\n",
              "    <tr>\n",
              "      <th>25048</th>\n",
              "      <td>U001</td>\n",
              "      <td>0200780383</td>\n",
              "      <td>MEIJ foundation</td>\n",
              "      <td>2019-01-18</td>\n",
              "      <td>2019.0</td>\n",
              "      <td>1.928544e+09</td>\n",
              "      <td>2018-12-30</td>\n",
              "      <td>2018-12-30</td>\n",
              "      <td>2018-12-30</td>\n",
              "      <td>2019-01-14</td>\n",
              "      <td>USD</td>\n",
              "      <td>RV</td>\n",
              "      <td>1.0</td>\n",
              "      <td>NaN</td>\n",
              "      <td>80237.74</td>\n",
              "      <td>2018-12-30</td>\n",
              "      <td>NAA8</td>\n",
              "      <td>1.928544e+09</td>\n",
              "      <td>0</td>\n",
              "    </tr>\n",
              "    <tr>\n",
              "      <th>19368</th>\n",
              "      <td>U001</td>\n",
              "      <td>0200711029</td>\n",
              "      <td>WEGMAN foundation</td>\n",
              "      <td>2019-01-14</td>\n",
              "      <td>2019.0</td>\n",
              "      <td>1.928543e+09</td>\n",
              "      <td>2018-12-30</td>\n",
              "      <td>2018-12-30</td>\n",
              "      <td>2018-12-30</td>\n",
              "      <td>2019-01-14</td>\n",
              "      <td>USD</td>\n",
              "      <td>RV</td>\n",
              "      <td>1.0</td>\n",
              "      <td>NaN</td>\n",
              "      <td>16626.31</td>\n",
              "      <td>2018-12-30</td>\n",
              "      <td>NAA8</td>\n",
              "      <td>1.928543e+09</td>\n",
              "      <td>0</td>\n",
              "    </tr>\n",
              "    <tr>\n",
              "      <th>42391</th>\n",
              "      <td>U001</td>\n",
              "      <td>0200799538</td>\n",
              "      <td>UNITE llc</td>\n",
              "      <td>2019-01-15</td>\n",
              "      <td>2019.0</td>\n",
              "      <td>1.928543e+09</td>\n",
              "      <td>2018-12-30</td>\n",
              "      <td>2018-12-30</td>\n",
              "      <td>2018-12-30</td>\n",
              "      <td>2019-01-14</td>\n",
              "      <td>USD</td>\n",
              "      <td>RV</td>\n",
              "      <td>1.0</td>\n",
              "      <td>NaN</td>\n",
              "      <td>97366.37</td>\n",
              "      <td>2018-12-30</td>\n",
              "      <td>NAA8</td>\n",
              "      <td>1.928543e+09</td>\n",
              "      <td>0</td>\n",
              "    </tr>\n",
              "    <tr>\n",
              "      <th>39761</th>\n",
              "      <td>U001</td>\n",
              "      <td>0200769623</td>\n",
              "      <td>WAL-MAR</td>\n",
              "      <td>2019-01-09</td>\n",
              "      <td>2019.0</td>\n",
              "      <td>1.928541e+09</td>\n",
              "      <td>2018-12-30</td>\n",
              "      <td>2018-12-29</td>\n",
              "      <td>2018-12-30</td>\n",
              "      <td>2019-01-14</td>\n",
              "      <td>USD</td>\n",
              "      <td>RV</td>\n",
              "      <td>1.0</td>\n",
              "      <td>NaN</td>\n",
              "      <td>8406.56</td>\n",
              "      <td>2018-12-30</td>\n",
              "      <td>NAH4</td>\n",
              "      <td>1.928541e+09</td>\n",
              "      <td>0</td>\n",
              "    </tr>\n",
              "  </tbody>\n",
              "</table>\n",
              "</div>"
            ],
            "text/plain": [
              "      business_code cust_number      name_customer clear_date  buisness_year  \\\n",
              "27305          U001  0200769623         WAL-MAR co 2019-01-15         2019.0   \n",
              "25048          U001  0200780383    MEIJ foundation 2019-01-18         2019.0   \n",
              "19368          U001  0200711029  WEGMAN foundation 2019-01-14         2019.0   \n",
              "42391          U001  0200799538          UNITE llc 2019-01-15         2019.0   \n",
              "39761          U001  0200769623           WAL-MAR  2019-01-09         2019.0   \n",
              "\n",
              "             doc_id posting_date document_create_date document_create_date.1  \\\n",
              "27305  1.928541e+09   2018-12-30           2018-12-29             2018-12-30   \n",
              "25048  1.928544e+09   2018-12-30           2018-12-30             2018-12-30   \n",
              "19368  1.928543e+09   2018-12-30           2018-12-30             2018-12-30   \n",
              "42391  1.928543e+09   2018-12-30           2018-12-30             2018-12-30   \n",
              "39761  1.928541e+09   2018-12-30           2018-12-29             2018-12-30   \n",
              "\n",
              "      due_in_date invoice_currency document type  posting_id  area_business  \\\n",
              "27305  2019-01-14              USD            RV         1.0            NaN   \n",
              "25048  2019-01-14              USD            RV         1.0            NaN   \n",
              "19368  2019-01-14              USD            RV         1.0            NaN   \n",
              "42391  2019-01-14              USD            RV         1.0            NaN   \n",
              "39761  2019-01-14              USD            RV         1.0            NaN   \n",
              "\n",
              "       total_open_amount baseline_create_date cust_payment_terms  \\\n",
              "27305            8494.34           2018-12-30               NAH4   \n",
              "25048           80237.74           2018-12-30               NAA8   \n",
              "19368           16626.31           2018-12-30               NAA8   \n",
              "42391           97366.37           2018-12-30               NAA8   \n",
              "39761            8406.56           2018-12-30               NAH4   \n",
              "\n",
              "         invoice_id  isOpen  \n",
              "27305  1.928541e+09       0  \n",
              "25048  1.928544e+09       0  \n",
              "19368  1.928543e+09       0  \n",
              "42391  1.928543e+09       0  \n",
              "39761  1.928541e+09       0  "
            ]
          },
          "metadata": {
            "tags": []
          },
          "execution_count": 13
        }
      ]
    },
    {
      "cell_type": "code",
      "metadata": {
        "scrolled": false,
        "id": "m2X2MEdw4S-_",
        "outputId": "ea2db461-a902-4c4e-9625-c936de765e16"
      },
      "source": [
        "val1.head()"
      ],
      "execution_count": null,
      "outputs": [
        {
          "output_type": "execute_result",
          "data": {
            "text/html": [
              "<div>\n",
              "<style scoped>\n",
              "    .dataframe tbody tr th:only-of-type {\n",
              "        vertical-align: middle;\n",
              "    }\n",
              "\n",
              "    .dataframe tbody tr th {\n",
              "        vertical-align: top;\n",
              "    }\n",
              "\n",
              "    .dataframe thead th {\n",
              "        text-align: right;\n",
              "    }\n",
              "</style>\n",
              "<table border=\"1\" class=\"dataframe\">\n",
              "  <thead>\n",
              "    <tr style=\"text-align: right;\">\n",
              "      <th></th>\n",
              "      <th>business_code</th>\n",
              "      <th>cust_number</th>\n",
              "      <th>name_customer</th>\n",
              "      <th>clear_date</th>\n",
              "      <th>buisness_year</th>\n",
              "      <th>doc_id</th>\n",
              "      <th>posting_date</th>\n",
              "      <th>document_create_date</th>\n",
              "      <th>document_create_date.1</th>\n",
              "      <th>due_in_date</th>\n",
              "      <th>invoice_currency</th>\n",
              "      <th>document type</th>\n",
              "      <th>posting_id</th>\n",
              "      <th>area_business</th>\n",
              "      <th>total_open_amount</th>\n",
              "      <th>baseline_create_date</th>\n",
              "      <th>cust_payment_terms</th>\n",
              "      <th>invoice_id</th>\n",
              "      <th>isOpen</th>\n",
              "    </tr>\n",
              "  </thead>\n",
              "  <tbody>\n",
              "    <tr>\n",
              "      <th>1294</th>\n",
              "      <td>U001</td>\n",
              "      <td>0200936373</td>\n",
              "      <td>SUPE co</td>\n",
              "      <td>2019-10-23</td>\n",
              "      <td>2019.0</td>\n",
              "      <td>1.929982e+09</td>\n",
              "      <td>2019-10-08</td>\n",
              "      <td>2019-10-08</td>\n",
              "      <td>2019-10-08</td>\n",
              "      <td>2019-10-23</td>\n",
              "      <td>USD</td>\n",
              "      <td>RV</td>\n",
              "      <td>1.0</td>\n",
              "      <td>NaN</td>\n",
              "      <td>7787.03</td>\n",
              "      <td>2019-10-08</td>\n",
              "      <td>NAA8</td>\n",
              "      <td>1.929982e+09</td>\n",
              "      <td>0</td>\n",
              "    </tr>\n",
              "    <tr>\n",
              "      <th>45293</th>\n",
              "      <td>U001</td>\n",
              "      <td>0200769623</td>\n",
              "      <td>WAL-MAR</td>\n",
              "      <td>2019-10-18</td>\n",
              "      <td>2019.0</td>\n",
              "      <td>1.929975e+09</td>\n",
              "      <td>2019-10-08</td>\n",
              "      <td>2019-10-06</td>\n",
              "      <td>2019-10-08</td>\n",
              "      <td>2019-10-23</td>\n",
              "      <td>USD</td>\n",
              "      <td>RV</td>\n",
              "      <td>1.0</td>\n",
              "      <td>NaN</td>\n",
              "      <td>35514.19</td>\n",
              "      <td>2019-10-08</td>\n",
              "      <td>NAH4</td>\n",
              "      <td>1.929975e+09</td>\n",
              "      <td>0</td>\n",
              "    </tr>\n",
              "    <tr>\n",
              "      <th>2688</th>\n",
              "      <td>U001</td>\n",
              "      <td>0200875006</td>\n",
              "      <td>KROGER llc</td>\n",
              "      <td>2019-10-23</td>\n",
              "      <td>2019.0</td>\n",
              "      <td>1.929983e+09</td>\n",
              "      <td>2019-10-08</td>\n",
              "      <td>2019-10-08</td>\n",
              "      <td>2019-10-08</td>\n",
              "      <td>2019-10-23</td>\n",
              "      <td>USD</td>\n",
              "      <td>RV</td>\n",
              "      <td>1.0</td>\n",
              "      <td>NaN</td>\n",
              "      <td>42706.90</td>\n",
              "      <td>2019-10-08</td>\n",
              "      <td>NAA8</td>\n",
              "      <td>1.929983e+09</td>\n",
              "      <td>0</td>\n",
              "    </tr>\n",
              "    <tr>\n",
              "      <th>8901</th>\n",
              "      <td>CA02</td>\n",
              "      <td>0140105678</td>\n",
              "      <td>SAPUTO</td>\n",
              "      <td>2019-10-24</td>\n",
              "      <td>2019.0</td>\n",
              "      <td>2.960584e+09</td>\n",
              "      <td>2019-10-08</td>\n",
              "      <td>2019-10-08</td>\n",
              "      <td>2019-10-08</td>\n",
              "      <td>2019-10-20</td>\n",
              "      <td>CAD</td>\n",
              "      <td>RV</td>\n",
              "      <td>1.0</td>\n",
              "      <td>NaN</td>\n",
              "      <td>17860.02</td>\n",
              "      <td>2019-10-10</td>\n",
              "      <td>CA10</td>\n",
              "      <td>2.960584e+09</td>\n",
              "      <td>0</td>\n",
              "    </tr>\n",
              "    <tr>\n",
              "      <th>28082</th>\n",
              "      <td>U001</td>\n",
              "      <td>0200765011</td>\n",
              "      <td>MAINES co</td>\n",
              "      <td>2019-11-12</td>\n",
              "      <td>2019.0</td>\n",
              "      <td>1.929984e+09</td>\n",
              "      <td>2019-10-08</td>\n",
              "      <td>2019-10-08</td>\n",
              "      <td>2019-10-08</td>\n",
              "      <td>2019-11-09</td>\n",
              "      <td>USD</td>\n",
              "      <td>RV</td>\n",
              "      <td>1.0</td>\n",
              "      <td>NaN</td>\n",
              "      <td>33912.89</td>\n",
              "      <td>2019-10-08</td>\n",
              "      <td>NA32</td>\n",
              "      <td>1.929984e+09</td>\n",
              "      <td>0</td>\n",
              "    </tr>\n",
              "  </tbody>\n",
              "</table>\n",
              "</div>"
            ],
            "text/plain": [
              "      business_code cust_number name_customer clear_date  buisness_year  \\\n",
              "1294           U001  0200936373       SUPE co 2019-10-23         2019.0   \n",
              "45293          U001  0200769623      WAL-MAR  2019-10-18         2019.0   \n",
              "2688           U001  0200875006    KROGER llc 2019-10-23         2019.0   \n",
              "8901           CA02  0140105678      SAPUTO   2019-10-24         2019.0   \n",
              "28082          U001  0200765011     MAINES co 2019-11-12         2019.0   \n",
              "\n",
              "             doc_id posting_date document_create_date document_create_date.1  \\\n",
              "1294   1.929982e+09   2019-10-08           2019-10-08             2019-10-08   \n",
              "45293  1.929975e+09   2019-10-08           2019-10-06             2019-10-08   \n",
              "2688   1.929983e+09   2019-10-08           2019-10-08             2019-10-08   \n",
              "8901   2.960584e+09   2019-10-08           2019-10-08             2019-10-08   \n",
              "28082  1.929984e+09   2019-10-08           2019-10-08             2019-10-08   \n",
              "\n",
              "      due_in_date invoice_currency document type  posting_id  area_business  \\\n",
              "1294   2019-10-23              USD            RV         1.0            NaN   \n",
              "45293  2019-10-23              USD            RV         1.0            NaN   \n",
              "2688   2019-10-23              USD            RV         1.0            NaN   \n",
              "8901   2019-10-20              CAD            RV         1.0            NaN   \n",
              "28082  2019-11-09              USD            RV         1.0            NaN   \n",
              "\n",
              "       total_open_amount baseline_create_date cust_payment_terms  \\\n",
              "1294             7787.03           2019-10-08               NAA8   \n",
              "45293           35514.19           2019-10-08               NAH4   \n",
              "2688            42706.90           2019-10-08               NAA8   \n",
              "8901            17860.02           2019-10-10               CA10   \n",
              "28082           33912.89           2019-10-08               NA32   \n",
              "\n",
              "         invoice_id  isOpen  \n",
              "1294   1.929982e+09       0  \n",
              "45293  1.929975e+09       0  \n",
              "2688   1.929983e+09       0  \n",
              "8901   2.960584e+09       0  \n",
              "28082  1.929984e+09       0  "
            ]
          },
          "metadata": {
            "tags": []
          },
          "execution_count": 14
        }
      ]
    },
    {
      "cell_type": "code",
      "metadata": {
        "scrolled": true,
        "id": "gfh0WJMJ4S-_",
        "outputId": "8d273829-7590-43f1-ba19-011c428d421b"
      },
      "source": [
        "local_test.head()"
      ],
      "execution_count": null,
      "outputs": [
        {
          "output_type": "execute_result",
          "data": {
            "text/html": [
              "<div>\n",
              "<style scoped>\n",
              "    .dataframe tbody tr th:only-of-type {\n",
              "        vertical-align: middle;\n",
              "    }\n",
              "\n",
              "    .dataframe tbody tr th {\n",
              "        vertical-align: top;\n",
              "    }\n",
              "\n",
              "    .dataframe thead th {\n",
              "        text-align: right;\n",
              "    }\n",
              "</style>\n",
              "<table border=\"1\" class=\"dataframe\">\n",
              "  <thead>\n",
              "    <tr style=\"text-align: right;\">\n",
              "      <th></th>\n",
              "      <th>business_code</th>\n",
              "      <th>cust_number</th>\n",
              "      <th>name_customer</th>\n",
              "      <th>clear_date</th>\n",
              "      <th>buisness_year</th>\n",
              "      <th>doc_id</th>\n",
              "      <th>posting_date</th>\n",
              "      <th>document_create_date</th>\n",
              "      <th>document_create_date.1</th>\n",
              "      <th>due_in_date</th>\n",
              "      <th>invoice_currency</th>\n",
              "      <th>document type</th>\n",
              "      <th>posting_id</th>\n",
              "      <th>area_business</th>\n",
              "      <th>total_open_amount</th>\n",
              "      <th>baseline_create_date</th>\n",
              "      <th>cust_payment_terms</th>\n",
              "      <th>invoice_id</th>\n",
              "      <th>isOpen</th>\n",
              "    </tr>\n",
              "  </thead>\n",
              "  <tbody>\n",
              "    <tr>\n",
              "      <th>4617</th>\n",
              "      <td>U001</td>\n",
              "      <td>0200763814</td>\n",
              "      <td>SYSCO F corp</td>\n",
              "      <td>2019-12-26</td>\n",
              "      <td>2019.0</td>\n",
              "      <td>1.930255e+09</td>\n",
              "      <td>2019-12-09</td>\n",
              "      <td>2019-12-09</td>\n",
              "      <td>2019-12-09</td>\n",
              "      <td>2019-12-24</td>\n",
              "      <td>USD</td>\n",
              "      <td>RV</td>\n",
              "      <td>1.0</td>\n",
              "      <td>NaN</td>\n",
              "      <td>26574.90</td>\n",
              "      <td>2019-12-09</td>\n",
              "      <td>NAA8</td>\n",
              "      <td>1.930255e+09</td>\n",
              "      <td>0</td>\n",
              "    </tr>\n",
              "    <tr>\n",
              "      <th>37302</th>\n",
              "      <td>CA02</td>\n",
              "      <td>0140104409</td>\n",
              "      <td>LOB trust</td>\n",
              "      <td>2019-12-20</td>\n",
              "      <td>2019.0</td>\n",
              "      <td>2.960599e+09</td>\n",
              "      <td>2019-12-09</td>\n",
              "      <td>2019-12-09</td>\n",
              "      <td>2019-12-09</td>\n",
              "      <td>2019-12-20</td>\n",
              "      <td>CAD</td>\n",
              "      <td>RV</td>\n",
              "      <td>1.0</td>\n",
              "      <td>NaN</td>\n",
              "      <td>124303.02</td>\n",
              "      <td>2019-12-10</td>\n",
              "      <td>CA10</td>\n",
              "      <td>2.960599e+09</td>\n",
              "      <td>0</td>\n",
              "    </tr>\n",
              "    <tr>\n",
              "      <th>21087</th>\n",
              "      <td>U001</td>\n",
              "      <td>0200771157</td>\n",
              "      <td>WEIS co</td>\n",
              "      <td>2019-12-26</td>\n",
              "      <td>2019.0</td>\n",
              "      <td>1.930256e+09</td>\n",
              "      <td>2019-12-09</td>\n",
              "      <td>2019-12-10</td>\n",
              "      <td>2019-12-09</td>\n",
              "      <td>2019-12-24</td>\n",
              "      <td>USD</td>\n",
              "      <td>RV</td>\n",
              "      <td>1.0</td>\n",
              "      <td>NaN</td>\n",
              "      <td>45543.52</td>\n",
              "      <td>2019-12-09</td>\n",
              "      <td>NAA8</td>\n",
              "      <td>1.930256e+09</td>\n",
              "      <td>0</td>\n",
              "    </tr>\n",
              "    <tr>\n",
              "      <th>36978</th>\n",
              "      <td>U001</td>\n",
              "      <td>0200769623</td>\n",
              "      <td>WAL-MAR systems</td>\n",
              "      <td>2019-12-19</td>\n",
              "      <td>2019.0</td>\n",
              "      <td>1.930254e+09</td>\n",
              "      <td>2019-12-09</td>\n",
              "      <td>2019-12-09</td>\n",
              "      <td>2019-12-09</td>\n",
              "      <td>2019-12-24</td>\n",
              "      <td>USD</td>\n",
              "      <td>RV</td>\n",
              "      <td>1.0</td>\n",
              "      <td>NaN</td>\n",
              "      <td>69495.26</td>\n",
              "      <td>2019-12-09</td>\n",
              "      <td>NAH4</td>\n",
              "      <td>1.930254e+09</td>\n",
              "      <td>0</td>\n",
              "    </tr>\n",
              "    <tr>\n",
              "      <th>30547</th>\n",
              "      <td>U001</td>\n",
              "      <td>0200792734</td>\n",
              "      <td>MDV/ associates</td>\n",
              "      <td>2019-12-23</td>\n",
              "      <td>2019.0</td>\n",
              "      <td>1.930250e+09</td>\n",
              "      <td>2019-12-09</td>\n",
              "      <td>2019-12-09</td>\n",
              "      <td>2019-12-09</td>\n",
              "      <td>2019-12-24</td>\n",
              "      <td>USD</td>\n",
              "      <td>RV</td>\n",
              "      <td>1.0</td>\n",
              "      <td>NaN</td>\n",
              "      <td>81224.88</td>\n",
              "      <td>2019-12-09</td>\n",
              "      <td>NAA8</td>\n",
              "      <td>1.930250e+09</td>\n",
              "      <td>0</td>\n",
              "    </tr>\n",
              "  </tbody>\n",
              "</table>\n",
              "</div>"
            ],
            "text/plain": [
              "      business_code cust_number    name_customer clear_date  buisness_year  \\\n",
              "4617           U001  0200763814     SYSCO F corp 2019-12-26         2019.0   \n",
              "37302          CA02  0140104409        LOB trust 2019-12-20         2019.0   \n",
              "21087          U001  0200771157          WEIS co 2019-12-26         2019.0   \n",
              "36978          U001  0200769623  WAL-MAR systems 2019-12-19         2019.0   \n",
              "30547          U001  0200792734  MDV/ associates 2019-12-23         2019.0   \n",
              "\n",
              "             doc_id posting_date document_create_date document_create_date.1  \\\n",
              "4617   1.930255e+09   2019-12-09           2019-12-09             2019-12-09   \n",
              "37302  2.960599e+09   2019-12-09           2019-12-09             2019-12-09   \n",
              "21087  1.930256e+09   2019-12-09           2019-12-10             2019-12-09   \n",
              "36978  1.930254e+09   2019-12-09           2019-12-09             2019-12-09   \n",
              "30547  1.930250e+09   2019-12-09           2019-12-09             2019-12-09   \n",
              "\n",
              "      due_in_date invoice_currency document type  posting_id  area_business  \\\n",
              "4617   2019-12-24              USD            RV         1.0            NaN   \n",
              "37302  2019-12-20              CAD            RV         1.0            NaN   \n",
              "21087  2019-12-24              USD            RV         1.0            NaN   \n",
              "36978  2019-12-24              USD            RV         1.0            NaN   \n",
              "30547  2019-12-24              USD            RV         1.0            NaN   \n",
              "\n",
              "       total_open_amount baseline_create_date cust_payment_terms  \\\n",
              "4617            26574.90           2019-12-09               NAA8   \n",
              "37302          124303.02           2019-12-10               CA10   \n",
              "21087           45543.52           2019-12-09               NAA8   \n",
              "36978           69495.26           2019-12-09               NAH4   \n",
              "30547           81224.88           2019-12-09               NAA8   \n",
              "\n",
              "         invoice_id  isOpen  \n",
              "4617   1.930255e+09       0  \n",
              "37302  2.960599e+09       0  \n",
              "21087  1.930256e+09       0  \n",
              "36978  1.930254e+09       0  \n",
              "30547  1.930250e+09       0  "
            ]
          },
          "metadata": {
            "tags": []
          },
          "execution_count": 15
        }
      ]
    },
    {
      "cell_type": "markdown",
      "metadata": {
        "id": "CMvacdWl4S-_"
      },
      "source": [
        "# Preprocessing"
      ]
    },
    {
      "cell_type": "markdown",
      "metadata": {
        "id": "qzUVSZAX4S_A"
      },
      "source": [
        "#### Creating our Target column"
      ]
    },
    {
      "cell_type": "code",
      "metadata": {
        "scrolled": false,
        "id": "59X27suf4S_A"
      },
      "source": [
        "train['Target_days'] = train['clear_date'].sub(train['due_in_date'], axis=0).dt.days\n",
        "val1['Target_days'] = val1['clear_date'].sub(val1['due_in_date'], axis=0).dt.days\n",
        "local_test['Target_days'] = local_test['clear_date'].sub(local_test['due_in_date'], axis=0).dt.days\n",
        "Test['Target_days'] = Test['clear_date'].sub(Test['due_in_date'], axis=0).dt.days\n",
        "## Subracting Due date from Clear date give the number of days extended for paying the amount."
      ],
      "execution_count": null,
      "outputs": []
    },
    {
      "cell_type": "code",
      "metadata": {
        "id": "t2WnthAv4S_A",
        "outputId": "0774edc9-d324-4788-a66c-d2dfeec29dd5"
      },
      "source": [
        "train.shape"
      ],
      "execution_count": null,
      "outputs": [
        {
          "output_type": "execute_result",
          "data": {
            "text/plain": [
              "(31938, 20)"
            ]
          },
          "metadata": {
            "tags": []
          },
          "execution_count": 17
        }
      ]
    },
    {
      "cell_type": "markdown",
      "metadata": {
        "id": "s4vlFlgu4S_A"
      },
      "source": [
        "#### Checking for Null Columns"
      ]
    },
    {
      "cell_type": "code",
      "metadata": {
        "scrolled": true,
        "id": "CTTpbga_4S_B",
        "outputId": "9c27f219-f888-4ad3-9018-211d8b187e22"
      },
      "source": [
        "# Checking for columns with all values null in it.\n",
        "\n",
        "[col for col in train.columns if train[col].isnull().sum()==len(train.index)] "
      ],
      "execution_count": null,
      "outputs": [
        {
          "output_type": "execute_result",
          "data": {
            "text/plain": [
              "['area_business']"
            ]
          },
          "metadata": {
            "tags": []
          },
          "execution_count": 18
        }
      ]
    },
    {
      "cell_type": "code",
      "metadata": {
        "scrolled": true,
        "id": "KTRSP_VY4S_B",
        "outputId": "244f1253-9a4b-4328-9c15-d5b37de143b0"
      },
      "source": [
        "# Checking for number of null values in a column\n",
        "\n",
        "df.isnull().sum() # We got 4 null values in 'invoice_id' but since it has same values as that of doc_id , dropping this column won't make much changes rather of imputing it with median."
      ],
      "execution_count": null,
      "outputs": [
        {
          "output_type": "execute_result",
          "data": {
            "text/plain": [
              "business_code                 0\n",
              "cust_number                   0\n",
              "name_customer                 0\n",
              "clear_date                 4373\n",
              "buisness_year                 0\n",
              "doc_id                        0\n",
              "posting_date                  0\n",
              "document_create_date          0\n",
              "document_create_date.1        0\n",
              "due_in_date                   0\n",
              "invoice_currency              0\n",
              "document type                 0\n",
              "posting_id                    0\n",
              "area_business             50000\n",
              "total_open_amount             0\n",
              "baseline_create_date          0\n",
              "cust_payment_terms            0\n",
              "invoice_id                    4\n",
              "isOpen                        0\n",
              "dtype: int64"
            ]
          },
          "metadata": {
            "tags": []
          },
          "execution_count": 19
        }
      ]
    },
    {
      "cell_type": "markdown",
      "metadata": {
        "id": "kO6fyzHb4S_B"
      },
      "source": [
        "#### Checking for Constant column"
      ]
    },
    {
      "cell_type": "code",
      "metadata": {
        "scrolled": false,
        "id": "PWtpZLrw4S_C",
        "outputId": "71cf33df-b6fd-43e6-826f-1293586b54b2"
      },
      "source": [
        "df.nunique()"
      ],
      "execution_count": null,
      "outputs": [
        {
          "output_type": "execute_result",
          "data": {
            "text/plain": [
              "business_code                 6\n",
              "cust_number                1450\n",
              "name_customer              4311\n",
              "clear_date                  403\n",
              "buisness_year                 2\n",
              "doc_id                    50000\n",
              "posting_date                503\n",
              "document_create_date        503\n",
              "document_create_date.1      503\n",
              "due_in_date                 546\n",
              "invoice_currency              2\n",
              "document type                 2\n",
              "posting_id                    1\n",
              "area_business                 0\n",
              "total_open_amount         45187\n",
              "baseline_create_date        506\n",
              "cust_payment_terms           72\n",
              "invoice_id                49996\n",
              "isOpen                        2\n",
              "dtype: int64"
            ]
          },
          "metadata": {
            "tags": []
          },
          "execution_count": 20
        }
      ]
    },
    {
      "cell_type": "code",
      "metadata": {
        "scrolled": true,
        "id": "jPntHDpD4S_C",
        "outputId": "3951f224-d296-4bc2-ddc5-cd56f6c596c2"
      },
      "source": [
        "len(df['posting_id'].unique())"
      ],
      "execution_count": null,
      "outputs": [
        {
          "output_type": "execute_result",
          "data": {
            "text/plain": [
              "1"
            ]
          },
          "metadata": {
            "tags": []
          },
          "execution_count": 21
        }
      ]
    },
    {
      "cell_type": "code",
      "metadata": {
        "id": "inlaKnlm4S_C",
        "outputId": "eee2eb6b-14a4-46a8-e365-16184b9c8dbf"
      },
      "source": [
        "train['document type'].value_counts(normalize=True).plot(kind = 'bar', title = \"document type\")\n",
        "\n",
        "# We can clearly see through the graph that 99 percent of the data in document type is RV.So it is approriate to drop this column"
      ],
      "execution_count": null,
      "outputs": [
        {
          "output_type": "execute_result",
          "data": {
            "text/plain": [
              "<AxesSubplot:title={'center':'document type'}>"
            ]
          },
          "metadata": {
            "tags": []
          },
          "execution_count": 22
        },
        {
          "output_type": "display_data",
          "data": {
            "image/png": "[encoded data removed]",
            "text/plain": [
              "<Figure size 432x288 with 1 Axes>"
            ]
          },
          "metadata": {
            "tags": [],
            "needs_background": "light"
          }
        }
      ]
    },
    {
      "cell_type": "markdown",
      "metadata": {
        "id": "1I_aK_Pf4S_D"
      },
      "source": [
        "#### So we have to drop 5 columns from our datasets.\n",
        "\n",
        "* posting id (all constant values)\n",
        "* area_business (all null values)\n",
        "* document_create_date (as we are getting 2 columns of document_create_date)\n",
        "* invoice_id (since it has same values as that of doc_id , dropping this column won't make much changes instead of null imputation)\n",
        "* document type (99 % of the data is constant)"
      ]
    },
    {
      "cell_type": "code",
      "metadata": {
        "scrolled": true,
        "id": "7viVi_674S_D"
      },
      "source": [
        "train.drop(labels =['posting_id', 'area_business','document_create_date','invoice_id','document type'], axis = 1,inplace=True)\n",
        "val1.drop(labels = ['posting_id', 'area_business','document_create_date','invoice_id','document type'], axis = 1,inplace=True)\n",
        "local_test.drop(labels =['posting_id', 'area_business','document_create_date','invoice_id','document type'], axis = 1,inplace=True)\n",
        "Test.drop(labels =['posting_id', 'area_business','document_create_date','invoice_id','document type'], axis = 1,inplace=True)\n",
        "#customer_name and buisness_year"
      ],
      "execution_count": null,
      "outputs": []
    },
    {
      "cell_type": "code",
      "metadata": {
        "id": "52T2lbuj4S_D",
        "outputId": "28e53ea1-dcf4-468d-963e-ce54d2101353"
      },
      "source": [
        "len(train.columns)"
      ],
      "execution_count": null,
      "outputs": [
        {
          "output_type": "execute_result",
          "data": {
            "text/plain": [
              "15"
            ]
          },
          "metadata": {
            "tags": []
          },
          "execution_count": 24
        }
      ]
    },
    {
      "cell_type": "code",
      "metadata": {
        "scrolled": false,
        "id": "vDwoPUCg4S_E",
        "outputId": "a35dfe03-e5d0-49a8-86db-94c61b650353"
      },
      "source": [
        "train.head()"
      ],
      "execution_count": null,
      "outputs": [
        {
          "output_type": "execute_result",
          "data": {
            "text/html": [
              "<div>\n",
              "<style scoped>\n",
              "    .dataframe tbody tr th:only-of-type {\n",
              "        vertical-align: middle;\n",
              "    }\n",
              "\n",
              "    .dataframe tbody tr th {\n",
              "        vertical-align: top;\n",
              "    }\n",
              "\n",
              "    .dataframe thead th {\n",
              "        text-align: right;\n",
              "    }\n",
              "</style>\n",
              "<table border=\"1\" class=\"dataframe\">\n",
              "  <thead>\n",
              "    <tr style=\"text-align: right;\">\n",
              "      <th></th>\n",
              "      <th>business_code</th>\n",
              "      <th>cust_number</th>\n",
              "      <th>name_customer</th>\n",
              "      <th>clear_date</th>\n",
              "      <th>buisness_year</th>\n",
              "      <th>doc_id</th>\n",
              "      <th>posting_date</th>\n",
              "      <th>document_create_date.1</th>\n",
              "      <th>due_in_date</th>\n",
              "      <th>invoice_currency</th>\n",
              "      <th>total_open_amount</th>\n",
              "      <th>baseline_create_date</th>\n",
              "      <th>cust_payment_terms</th>\n",
              "      <th>isOpen</th>\n",
              "      <th>Target_days</th>\n",
              "    </tr>\n",
              "  </thead>\n",
              "  <tbody>\n",
              "    <tr>\n",
              "      <th>27305</th>\n",
              "      <td>U001</td>\n",
              "      <td>0200769623</td>\n",
              "      <td>WAL-MAR co</td>\n",
              "      <td>2019-01-15</td>\n",
              "      <td>2019.0</td>\n",
              "      <td>1.928541e+09</td>\n",
              "      <td>2018-12-30</td>\n",
              "      <td>2018-12-30</td>\n",
              "      <td>2019-01-14</td>\n",
              "      <td>USD</td>\n",
              "      <td>8494.34</td>\n",
              "      <td>2018-12-30</td>\n",
              "      <td>NAH4</td>\n",
              "      <td>0</td>\n",
              "      <td>1</td>\n",
              "    </tr>\n",
              "    <tr>\n",
              "      <th>25048</th>\n",
              "      <td>U001</td>\n",
              "      <td>0200780383</td>\n",
              "      <td>MEIJ foundation</td>\n",
              "      <td>2019-01-18</td>\n",
              "      <td>2019.0</td>\n",
              "      <td>1.928544e+09</td>\n",
              "      <td>2018-12-30</td>\n",
              "      <td>2018-12-30</td>\n",
              "      <td>2019-01-14</td>\n",
              "      <td>USD</td>\n",
              "      <td>80237.74</td>\n",
              "      <td>2018-12-30</td>\n",
              "      <td>NAA8</td>\n",
              "      <td>0</td>\n",
              "      <td>4</td>\n",
              "    </tr>\n",
              "    <tr>\n",
              "      <th>19368</th>\n",
              "      <td>U001</td>\n",
              "      <td>0200711029</td>\n",
              "      <td>WEGMAN foundation</td>\n",
              "      <td>2019-01-14</td>\n",
              "      <td>2019.0</td>\n",
              "      <td>1.928543e+09</td>\n",
              "      <td>2018-12-30</td>\n",
              "      <td>2018-12-30</td>\n",
              "      <td>2019-01-14</td>\n",
              "      <td>USD</td>\n",
              "      <td>16626.31</td>\n",
              "      <td>2018-12-30</td>\n",
              "      <td>NAA8</td>\n",
              "      <td>0</td>\n",
              "      <td>0</td>\n",
              "    </tr>\n",
              "    <tr>\n",
              "      <th>42391</th>\n",
              "      <td>U001</td>\n",
              "      <td>0200799538</td>\n",
              "      <td>UNITE llc</td>\n",
              "      <td>2019-01-15</td>\n",
              "      <td>2019.0</td>\n",
              "      <td>1.928543e+09</td>\n",
              "      <td>2018-12-30</td>\n",
              "      <td>2018-12-30</td>\n",
              "      <td>2019-01-14</td>\n",
              "      <td>USD</td>\n",
              "      <td>97366.37</td>\n",
              "      <td>2018-12-30</td>\n",
              "      <td>NAA8</td>\n",
              "      <td>0</td>\n",
              "      <td>1</td>\n",
              "    </tr>\n",
              "    <tr>\n",
              "      <th>39761</th>\n",
              "      <td>U001</td>\n",
              "      <td>0200769623</td>\n",
              "      <td>WAL-MAR</td>\n",
              "      <td>2019-01-09</td>\n",
              "      <td>2019.0</td>\n",
              "      <td>1.928541e+09</td>\n",
              "      <td>2018-12-30</td>\n",
              "      <td>2018-12-30</td>\n",
              "      <td>2019-01-14</td>\n",
              "      <td>USD</td>\n",
              "      <td>8406.56</td>\n",
              "      <td>2018-12-30</td>\n",
              "      <td>NAH4</td>\n",
              "      <td>0</td>\n",
              "      <td>-5</td>\n",
              "    </tr>\n",
              "  </tbody>\n",
              "</table>\n",
              "</div>"
            ],
            "text/plain": [
              "      business_code cust_number      name_customer clear_date  buisness_year  \\\n",
              "27305          U001  0200769623         WAL-MAR co 2019-01-15         2019.0   \n",
              "25048          U001  0200780383    MEIJ foundation 2019-01-18         2019.0   \n",
              "19368          U001  0200711029  WEGMAN foundation 2019-01-14         2019.0   \n",
              "42391          U001  0200799538          UNITE llc 2019-01-15         2019.0   \n",
              "39761          U001  0200769623           WAL-MAR  2019-01-09         2019.0   \n",
              "\n",
              "             doc_id posting_date document_create_date.1 due_in_date  \\\n",
              "27305  1.928541e+09   2018-12-30             2018-12-30  2019-01-14   \n",
              "25048  1.928544e+09   2018-12-30             2018-12-30  2019-01-14   \n",
              "19368  1.928543e+09   2018-12-30             2018-12-30  2019-01-14   \n",
              "42391  1.928543e+09   2018-12-30             2018-12-30  2019-01-14   \n",
              "39761  1.928541e+09   2018-12-30             2018-12-30  2019-01-14   \n",
              "\n",
              "      invoice_currency  total_open_amount baseline_create_date  \\\n",
              "27305              USD            8494.34           2018-12-30   \n",
              "25048              USD           80237.74           2018-12-30   \n",
              "19368              USD           16626.31           2018-12-30   \n",
              "42391              USD           97366.37           2018-12-30   \n",
              "39761              USD            8406.56           2018-12-30   \n",
              "\n",
              "      cust_payment_terms  isOpen  Target_days  \n",
              "27305               NAH4       0            1  \n",
              "25048               NAA8       0            4  \n",
              "19368               NAA8       0            0  \n",
              "42391               NAA8       0            1  \n",
              "39761               NAH4       0           -5  "
            ]
          },
          "metadata": {
            "tags": []
          },
          "execution_count": 25
        }
      ]
    },
    {
      "cell_type": "markdown",
      "metadata": {
        "id": "ksN_Hon14S_E"
      },
      "source": [
        "# Exploratory Data Analysis"
      ]
    },
    {
      "cell_type": "code",
      "metadata": {
        "id": "dp9sYz7u4S_E",
        "outputId": "87c2c554-d8a5-4118-9ffa-d323ec96bbfc"
      },
      "source": [
        "train.columns\n",
        "\n",
        "# Let us start with the names of the features"
      ],
      "execution_count": null,
      "outputs": [
        {
          "output_type": "execute_result",
          "data": {
            "text/plain": [
              "Index(['business_code', 'cust_number', 'name_customer', 'clear_date',\n",
              "       'buisness_year', 'doc_id', 'posting_date', 'document_create_date.1',\n",
              "       'due_in_date', 'invoice_currency', 'total_open_amount',\n",
              "       'baseline_create_date', 'cust_payment_terms', 'isOpen', 'Target_days'],\n",
              "      dtype='object')"
            ]
          },
          "metadata": {
            "tags": []
          },
          "execution_count": 26
        }
      ]
    },
    {
      "cell_type": "markdown",
      "metadata": {
        "id": "VmPWXDs44S_E"
      },
      "source": [
        "Let's see the behaviour of our Target_days(delay in payment) "
      ]
    },
    {
      "cell_type": "code",
      "metadata": {
        "id": "wjhcKH6j4S_F",
        "outputId": "f62a3f2d-b8c2-432e-bef8-5736e4ddffa1"
      },
      "source": [
        "train['Target_days'].describe()"
      ],
      "execution_count": null,
      "outputs": [
        {
          "output_type": "execute_result",
          "data": {
            "text/plain": [
              "count    31938.000000\n",
              "mean         1.022512\n",
              "std         11.451619\n",
              "min        -83.000000\n",
              "25%         -3.000000\n",
              "50%          0.000000\n",
              "75%          2.000000\n",
              "max        238.000000\n",
              "Name: Target_days, dtype: float64"
            ]
          },
          "metadata": {
            "tags": []
          },
          "execution_count": 27
        }
      ]
    },
    {
      "cell_type": "code",
      "metadata": {
        "id": "c1c6GgOy4S_F",
        "outputId": "77a2f3b8-b31a-4e0c-8b60-58e9c89444b5"
      },
      "source": [
        "g = sns.distplot(train['Target_days'])"
      ],
      "execution_count": null,
      "outputs": [
        {
          "output_type": "display_data",
          "data": {
            "image/png": "[encoded data removed]",
            "text/plain": [
              "<Figure size 432x288 with 1 Axes>"
            ]
          },
          "metadata": {
            "tags": [],
            "needs_background": "light"
          }
        }
      ]
    },
    {
      "cell_type": "markdown",
      "metadata": {
        "id": "K40fqycr4S_F"
      },
      "source": [
        "Okay so through this we can say that our we can handle our Target_days (DELAY) into more appropriate Gaussian Distribution through Log or sqrt transformation in Feature Engineering."
      ]
    },
    {
      "cell_type": "markdown",
      "metadata": {
        "id": "VKab_z6I4S_G"
      },
      "source": [
        "## Analysing Categorical Features"
      ]
    },
    {
      "cell_type": "code",
      "metadata": {
        "id": "rwV-OWIV4S_G",
        "outputId": "30624b30-69a6-414c-fd72-e996f1d35fab"
      },
      "source": [
        "x = train.describe(include=\"O\")\n",
        "x"
      ],
      "execution_count": null,
      "outputs": [
        {
          "output_type": "execute_result",
          "data": {
            "text/html": [
              "<div>\n",
              "<style scoped>\n",
              "    .dataframe tbody tr th:only-of-type {\n",
              "        vertical-align: middle;\n",
              "    }\n",
              "\n",
              "    .dataframe tbody tr th {\n",
              "        vertical-align: top;\n",
              "    }\n",
              "\n",
              "    .dataframe thead th {\n",
              "        text-align: right;\n",
              "    }\n",
              "</style>\n",
              "<table border=\"1\" class=\"dataframe\">\n",
              "  <thead>\n",
              "    <tr style=\"text-align: right;\">\n",
              "      <th></th>\n",
              "      <th>business_code</th>\n",
              "      <th>cust_number</th>\n",
              "      <th>name_customer</th>\n",
              "      <th>invoice_currency</th>\n",
              "      <th>cust_payment_terms</th>\n",
              "    </tr>\n",
              "  </thead>\n",
              "  <tbody>\n",
              "    <tr>\n",
              "      <th>count</th>\n",
              "      <td>31938</td>\n",
              "      <td>31938</td>\n",
              "      <td>31938</td>\n",
              "      <td>31938</td>\n",
              "      <td>31938</td>\n",
              "    </tr>\n",
              "    <tr>\n",
              "      <th>unique</th>\n",
              "      <td>6</td>\n",
              "      <td>1290</td>\n",
              "      <td>3631</td>\n",
              "      <td>2</td>\n",
              "      <td>64</td>\n",
              "    </tr>\n",
              "    <tr>\n",
              "      <th>top</th>\n",
              "      <td>U001</td>\n",
              "      <td>0200769623</td>\n",
              "      <td>WAL-MAR llc</td>\n",
              "      <td>USD</td>\n",
              "      <td>NAA8</td>\n",
              "    </tr>\n",
              "    <tr>\n",
              "      <th>freq</th>\n",
              "      <td>28916</td>\n",
              "      <td>6873</td>\n",
              "      <td>725</td>\n",
              "      <td>29465</td>\n",
              "      <td>12600</td>\n",
              "    </tr>\n",
              "  </tbody>\n",
              "</table>\n",
              "</div>"
            ],
            "text/plain": [
              "       business_code cust_number name_customer invoice_currency  \\\n",
              "count          31938       31938         31938            31938   \n",
              "unique             6        1290          3631                2   \n",
              "top             U001  0200769623   WAL-MAR llc              USD   \n",
              "freq           28916        6873           725            29465   \n",
              "\n",
              "       cust_payment_terms  \n",
              "count               31938  \n",
              "unique                 64  \n",
              "top                  NAA8  \n",
              "freq                12600  "
            ]
          },
          "metadata": {
            "tags": []
          },
          "execution_count": 29
        }
      ]
    },
    {
      "cell_type": "code",
      "metadata": {
        "id": "RJG9HnlL4S_G",
        "outputId": "3e31f85c-0b68-4544-f333-ac2b35b33e96"
      },
      "source": [
        "x.columns"
      ],
      "execution_count": null,
      "outputs": [
        {
          "output_type": "execute_result",
          "data": {
            "text/plain": [
              "Index(['business_code', 'cust_number', 'name_customer', 'invoice_currency',\n",
              "       'cust_payment_terms'],\n",
              "      dtype='object')"
            ]
          },
          "metadata": {
            "tags": []
          },
          "execution_count": 30
        }
      ]
    },
    {
      "cell_type": "code",
      "metadata": {
        "id": "TtIlGOk94S_G",
        "outputId": "ffe0b34d-c55a-4601-e3c6-62fbce67f237"
      },
      "source": [
        "train.invoice_currency.value_counts(normalize=True).plot(kind = 'bar', title = \"invoice_currency\")"
      ],
      "execution_count": null,
      "outputs": [
        {
          "output_type": "execute_result",
          "data": {
            "text/plain": [
              "<AxesSubplot:title={'center':'invoice_currency'}>"
            ]
          },
          "metadata": {
            "tags": []
          },
          "execution_count": 31
        },
        {
          "output_type": "display_data",
          "data": {
            "image/png": "[encoded data removed]",
            "text/plain": [
              "<Figure size 432x288 with 1 Axes>"
            ]
          },
          "metadata": {
            "tags": [],
            "needs_background": "light"
          }
        }
      ]
    },
    {
      "cell_type": "markdown",
      "metadata": {
        "id": "3K2A0lI94S_H"
      },
      "source": [
        "Okay so we have two invoice_currency where most of them are in USD which we can clearly see through the bar graph."
      ]
    },
    {
      "cell_type": "code",
      "metadata": {
        "id": "OQncOpXk4S_H",
        "outputId": "297fa83a-7f31-49d3-f8b0-cdcd1b021d6f"
      },
      "source": [
        "train.business_code.value_counts(normalize=True).plot(kind = 'bar', title = \"business_code\")"
      ],
      "execution_count": null,
      "outputs": [
        {
          "output_type": "execute_result",
          "data": {
            "text/plain": [
              "<AxesSubplot:title={'center':'business_code'}>"
            ]
          },
          "metadata": {
            "tags": []
          },
          "execution_count": 32
        },
        {
          "output_type": "display_data",
          "data": {
            "image/png": "[encoded data removed]",
            "text/plain": [
              "<Figure size 432x288 with 1 Axes>"
            ]
          },
          "metadata": {
            "tags": [],
            "needs_background": "light"
          }
        }
      ]
    },
    {
      "cell_type": "markdown",
      "metadata": {
        "id": "ZJaZFaaF4S_H"
      },
      "source": [
        "So we can say that we have most of our datasets from Buisness Code U001."
      ]
    },
    {
      "cell_type": "markdown",
      "metadata": {
        "id": "okLqvxYk4S_H"
      },
      "source": [
        "## Numerical Variables"
      ]
    },
    {
      "cell_type": "code",
      "metadata": {
        "id": "Pi4nKAhs4S_H",
        "outputId": "e34e8c65-272f-48ee-b0b1-375a52145aa6"
      },
      "source": [
        "num_cols = train._get_numeric_data().columns\n",
        "num_cols"
      ],
      "execution_count": null,
      "outputs": [
        {
          "output_type": "execute_result",
          "data": {
            "text/plain": [
              "Index(['buisness_year', 'doc_id', 'total_open_amount', 'isOpen',\n",
              "       'Target_days'],\n",
              "      dtype='object')"
            ]
          },
          "metadata": {
            "tags": []
          },
          "execution_count": 33
        }
      ]
    },
    {
      "cell_type": "code",
      "metadata": {
        "id": "4ynRYBk64S_I",
        "outputId": "dd04a4df-6783-4515-abd4-34b3b051b7cc"
      },
      "source": [
        "g = sns.distplot(train['total_open_amount'])   # We have to apply some transformation to remove skewness.We will do this in Fearure Engineering."
      ],
      "execution_count": null,
      "outputs": [
        {
          "output_type": "display_data",
          "data": {
            "image/png": "[encoded data removed]",
            "text/plain": [
              "<Figure size 432x288 with 1 Axes>"
            ]
          },
          "metadata": {
            "tags": [],
            "needs_background": "light"
          }
        }
      ]
    },
    {
      "cell_type": "code",
      "metadata": {
        "id": "Yrub9s6q4S_I",
        "outputId": "b31e52ce-e0bb-469e-ea34-d1fd2eaab319"
      },
      "source": [
        "g = sns.distplot(train['doc_id'])\n"
      ],
      "execution_count": null,
      "outputs": [
        {
          "output_type": "display_data",
          "data": {
            "image/png": "[encoded data removed]",
            "text/plain": [
              "<Figure size 432x288 with 1 Axes>"
            ]
          },
          "metadata": {
            "tags": [],
            "needs_background": "light"
          }
        }
      ]
    },
    {
      "cell_type": "markdown",
      "metadata": {
        "id": "C1wZ4F644S_I"
      },
      "source": [
        "#### Multivariate Analysis"
      ]
    },
    {
      "cell_type": "code",
      "metadata": {
        "id": "Hw3YFewi4S_J"
      },
      "source": [
        "#sns.pairplot(train)"
      ],
      "execution_count": null,
      "outputs": []
    },
    {
      "cell_type": "markdown",
      "metadata": {
        "id": "ju6NOZT14S_J"
      },
      "source": [
        "Not getting any essential information from here.We will have more detailed Multivariate Analysis while working on Correlation"
      ]
    },
    {
      "cell_type": "markdown",
      "metadata": {
        "id": "g-abU4Z84S_J"
      },
      "source": [
        "## Outliers"
      ]
    },
    {
      "cell_type": "code",
      "metadata": {
        "id": "_bW1H5lB4S_K",
        "outputId": "473a6cfb-1459-47e5-e0e2-c5c1c57173db"
      },
      "source": [
        "# Outliers are checked for Numerical columns. So here's graphical representation of outliers using boxplot.\n",
        "train_copy = train.copy()\n",
        "for feature in num_cols:\n",
        "    train_copy[feature] = (train_copy[feature])\n",
        "    train_copy.boxplot(column=feature)\n",
        "    plt.titile = feature\n",
        "    plt.show()"
      ],
      "execution_count": null,
      "outputs": [
        {
          "output_type": "display_data",
          "data": {
            "image/png": "[encoded data removed]",
            "text/plain": [
              "<Figure size 432x288 with 1 Axes>"
            ]
          },
          "metadata": {
            "tags": [],
            "needs_background": "light"
          }
        },
        {
          "output_type": "display_data",
          "data": {
            "image/png": "[encoded data removed]",
            "text/plain": [
              "<Figure size 432x288 with 1 Axes>"
            ]
          },
          "metadata": {
            "tags": [],
            "needs_background": "light"
          }
        },
        {
          "output_type": "display_data",
          "data": {
            "image/png": "[encoded data removed]",
            "text/plain": [
              "<Figure size 432x288 with 1 Axes>"
            ]
          },
          "metadata": {
            "tags": [],
            "needs_background": "light"
          }
        },
        {
          "output_type": "display_data",
          "data": {
            "image/png": "[encoded data removed]",
            "text/plain": [
              "<Figure size 432x288 with 1 Axes>"
            ]
          },
          "metadata": {
            "tags": [],
            "needs_background": "light"
          }
        },
        {
          "output_type": "display_data",
          "data": {
            "image/png": "[encoded data removed]",
            "text/plain": [
              "<Figure size 432x288 with 1 Axes>"
            ]
          },
          "metadata": {
            "tags": [],
            "needs_background": "light"
          }
        }
      ]
    },
    {
      "cell_type": "markdown",
      "metadata": {
        "id": "h1yA2GCH4S_L"
      },
      "source": [
        "### Handling Outliers"
      ]
    },
    {
      "cell_type": "code",
      "metadata": {
        "id": "nhn1WU5F4S_L"
      },
      "source": [
        "upper_lim = train['doc_id'].quantile(.95)\n",
        "lower_lim = train['doc_id'].quantile(.05)\n",
        "train = train[(train['doc_id'] < upper_lim) & (train['doc_id'] > lower_lim)]"
      ],
      "execution_count": null,
      "outputs": []
    },
    {
      "cell_type": "code",
      "metadata": {
        "id": "U-X4T0Vd4S_L",
        "outputId": "67c0bff9-611b-4b85-8108-a28bb0be6e61"
      },
      "source": [
        "train.boxplot(column=['doc_id'])"
      ],
      "execution_count": null,
      "outputs": [
        {
          "output_type": "execute_result",
          "data": {
            "text/plain": [
              "<AxesSubplot:>"
            ]
          },
          "metadata": {
            "tags": []
          },
          "execution_count": 39
        },
        {
          "output_type": "display_data",
          "data": {
            "image/png": "[encoded data removed]",
            "text/plain": [
              "<Figure size 432x288 with 1 Axes>"
            ]
          },
          "metadata": {
            "tags": [],
            "needs_background": "light"
          }
        }
      ]
    },
    {
      "cell_type": "code",
      "metadata": {
        "id": "NO6ktTQZ4S_L",
        "outputId": "6e48fded-fb22-4a6f-e96d-825777052270"
      },
      "source": [
        "train.boxplot(column=['total_open_amount'])"
      ],
      "execution_count": null,
      "outputs": [
        {
          "output_type": "execute_result",
          "data": {
            "text/plain": [
              "<AxesSubplot:>"
            ]
          },
          "metadata": {
            "tags": []
          },
          "execution_count": 40
        },
        {
          "output_type": "display_data",
          "data": {
            "image/png": "[encoded data removed]",
            "text/plain": [
              "<Figure size 432x288 with 1 Axes>"
            ]
          },
          "metadata": {
            "tags": [],
            "needs_background": "light"
          }
        }
      ]
    },
    {
      "cell_type": "code",
      "metadata": {
        "id": "ob657XuI4S_M",
        "outputId": "1d2e854c-b6c6-4a85-dafa-22d4bcc289d9"
      },
      "source": [
        "upper_lim = train['total_open_amount'].quantile(.95)\n",
        "lower_lim = train['total_open_amount'].quantile(.05)\n",
        "train = train[(train['total_open_amount'] < upper_lim) & (train['total_open_amount'] > lower_lim)]\n",
        "train.boxplot(column=['total_open_amount'])"
      ],
      "execution_count": null,
      "outputs": [
        {
          "output_type": "execute_result",
          "data": {
            "text/plain": [
              "<AxesSubplot:>"
            ]
          },
          "metadata": {
            "tags": []
          },
          "execution_count": 41
        },
        {
          "output_type": "display_data",
          "data": {
            "image/png": "[encoded data removed]",
            "text/plain": [
              "<Figure size 432x288 with 1 Axes>"
            ]
          },
          "metadata": {
            "tags": [],
            "needs_background": "light"
          }
        }
      ]
    },
    {
      "cell_type": "markdown",
      "metadata": {
        "id": "AYjUAeK14S_M"
      },
      "source": [
        "# Feature Engineering"
      ]
    },
    {
      "cell_type": "code",
      "metadata": {
        "id": "d8moicAe4S_N",
        "outputId": "e1d8cd2c-b93a-4440-ccd0-7edaf2b31bb6"
      },
      "source": [
        "train.shape"
      ],
      "execution_count": null,
      "outputs": [
        {
          "output_type": "execute_result",
          "data": {
            "text/plain": [
              "(25868, 15)"
            ]
          },
          "metadata": {
            "tags": []
          },
          "execution_count": 42
        }
      ]
    },
    {
      "cell_type": "code",
      "metadata": {
        "id": "5bORjFsZ4S_N",
        "outputId": "25848249-ba48-490d-9d51-9aa0888c3e02"
      },
      "source": [
        "train[train['due_in_date']<train['document_create_date.1']].shape"
      ],
      "execution_count": null,
      "outputs": [
        {
          "output_type": "execute_result",
          "data": {
            "text/plain": [
              "(87, 15)"
            ]
          },
          "metadata": {
            "tags": []
          },
          "execution_count": 43
        }
      ]
    },
    {
      "cell_type": "markdown",
      "metadata": {
        "id": "WajlcfBK4S_N"
      },
      "source": [
        "#### Dropping all rows where due_in_date is less than document_create_date because these are errors or noise in the dataset."
      ]
    },
    {
      "cell_type": "code",
      "metadata": {
        "id": "tws_hyB24S_N"
      },
      "source": [
        "train = train[train['due_in_date']>=train['document_create_date.1']]\n",
        "val1 = val1[val1['due_in_date']>=val1['document_create_date.1']]\n",
        "local_test = local_test[local_test['due_in_date']>=local_test['document_create_date.1']]\n",
        "Test = Test[Test['due_in_date']>=Test['document_create_date.1']]"
      ],
      "execution_count": null,
      "outputs": []
    },
    {
      "cell_type": "code",
      "metadata": {
        "id": "63255HJB4S_O",
        "outputId": "d71f4873-2554-409e-f626-9acd90245f3f"
      },
      "source": [
        "train.shape"
      ],
      "execution_count": null,
      "outputs": [
        {
          "output_type": "execute_result",
          "data": {
            "text/plain": [
              "(25781, 15)"
            ]
          },
          "metadata": {
            "tags": []
          },
          "execution_count": 45
        }
      ]
    },
    {
      "cell_type": "markdown",
      "metadata": {
        "id": "vvfhFigY4S_O"
      },
      "source": [
        "### Converting Categorical Variables to Numeric form using Encoding techniques."
      ]
    },
    {
      "cell_type": "code",
      "metadata": {
        "id": "jHTDmcTg4S_O",
        "outputId": "1bc44269-cad2-4edd-a662-bd6e9363e9cb"
      },
      "source": [
        "train.head()"
      ],
      "execution_count": null,
      "outputs": [
        {
          "output_type": "execute_result",
          "data": {
            "text/html": [
              "<div>\n",
              "<style scoped>\n",
              "    .dataframe tbody tr th:only-of-type {\n",
              "        vertical-align: middle;\n",
              "    }\n",
              "\n",
              "    .dataframe tbody tr th {\n",
              "        vertical-align: top;\n",
              "    }\n",
              "\n",
              "    .dataframe thead th {\n",
              "        text-align: right;\n",
              "    }\n",
              "</style>\n",
              "<table border=\"1\" class=\"dataframe\">\n",
              "  <thead>\n",
              "    <tr style=\"text-align: right;\">\n",
              "      <th></th>\n",
              "      <th>business_code</th>\n",
              "      <th>cust_number</th>\n",
              "      <th>name_customer</th>\n",
              "      <th>clear_date</th>\n",
              "      <th>buisness_year</th>\n",
              "      <th>doc_id</th>\n",
              "      <th>posting_date</th>\n",
              "      <th>document_create_date.1</th>\n",
              "      <th>due_in_date</th>\n",
              "      <th>invoice_currency</th>\n",
              "      <th>total_open_amount</th>\n",
              "      <th>baseline_create_date</th>\n",
              "      <th>cust_payment_terms</th>\n",
              "      <th>isOpen</th>\n",
              "      <th>Target_days</th>\n",
              "    </tr>\n",
              "  </thead>\n",
              "  <tbody>\n",
              "    <tr>\n",
              "      <th>12094</th>\n",
              "      <td>U002</td>\n",
              "      <td>0200501669</td>\n",
              "      <td>WAL MA in</td>\n",
              "      <td>2019-02-14</td>\n",
              "      <td>2019.0</td>\n",
              "      <td>1.990563e+09</td>\n",
              "      <td>2018-12-30</td>\n",
              "      <td>2018-12-30</td>\n",
              "      <td>2019-02-03</td>\n",
              "      <td>USD</td>\n",
              "      <td>16416.00</td>\n",
              "      <td>2018-12-30</td>\n",
              "      <td>NAG2</td>\n",
              "      <td>0</td>\n",
              "      <td>11</td>\n",
              "    </tr>\n",
              "    <tr>\n",
              "      <th>12464</th>\n",
              "      <td>CA02</td>\n",
              "      <td>0140106271</td>\n",
              "      <td>LONGO</td>\n",
              "      <td>2019-01-16</td>\n",
              "      <td>2019.0</td>\n",
              "      <td>2.960521e+09</td>\n",
              "      <td>2018-12-30</td>\n",
              "      <td>2018-12-30</td>\n",
              "      <td>2019-01-12</td>\n",
              "      <td>CAD</td>\n",
              "      <td>52525.82</td>\n",
              "      <td>2019-01-02</td>\n",
              "      <td>CA10</td>\n",
              "      <td>0</td>\n",
              "      <td>4</td>\n",
              "    </tr>\n",
              "    <tr>\n",
              "      <th>33048</th>\n",
              "      <td>CA02</td>\n",
              "      <td>0140104429</td>\n",
              "      <td>COSTCO</td>\n",
              "      <td>2019-01-18</td>\n",
              "      <td>2019.0</td>\n",
              "      <td>2.960520e+09</td>\n",
              "      <td>2018-12-31</td>\n",
              "      <td>2018-12-31</td>\n",
              "      <td>2019-01-13</td>\n",
              "      <td>CAD</td>\n",
              "      <td>80827.93</td>\n",
              "      <td>2019-01-03</td>\n",
              "      <td>CA10</td>\n",
              "      <td>0</td>\n",
              "      <td>5</td>\n",
              "    </tr>\n",
              "    <tr>\n",
              "      <th>41158</th>\n",
              "      <td>U013</td>\n",
              "      <td>CC7470</td>\n",
              "      <td>ALIMENTO corp</td>\n",
              "      <td>2019-05-24</td>\n",
              "      <td>2019.0</td>\n",
              "      <td>1.991820e+09</td>\n",
              "      <td>2018-12-31</td>\n",
              "      <td>2018-12-31</td>\n",
              "      <td>2019-02-14</td>\n",
              "      <td>USD</td>\n",
              "      <td>18409.73</td>\n",
              "      <td>2018-12-31</td>\n",
              "      <td>NAVF</td>\n",
              "      <td>0</td>\n",
              "      <td>99</td>\n",
              "    </tr>\n",
              "    <tr>\n",
              "      <th>8045</th>\n",
              "      <td>U002</td>\n",
              "      <td>0100036009</td>\n",
              "      <td>JOSE us</td>\n",
              "      <td>2019-02-12</td>\n",
              "      <td>2019.0</td>\n",
              "      <td>1.990563e+09</td>\n",
              "      <td>2018-12-31</td>\n",
              "      <td>2018-12-31</td>\n",
              "      <td>2019-02-04</td>\n",
              "      <td>USD</td>\n",
              "      <td>29841.11</td>\n",
              "      <td>2018-12-31</td>\n",
              "      <td>NAG2</td>\n",
              "      <td>0</td>\n",
              "      <td>8</td>\n",
              "    </tr>\n",
              "  </tbody>\n",
              "</table>\n",
              "</div>"
            ],
            "text/plain": [
              "      business_code cust_number  name_customer clear_date  buisness_year  \\\n",
              "12094          U002  0200501669      WAL MA in 2019-02-14         2019.0   \n",
              "12464          CA02  0140106271        LONGO   2019-01-16         2019.0   \n",
              "33048          CA02  0140104429        COSTCO  2019-01-18         2019.0   \n",
              "41158          U013      CC7470  ALIMENTO corp 2019-05-24         2019.0   \n",
              "8045           U002  0100036009        JOSE us 2019-02-12         2019.0   \n",
              "\n",
              "             doc_id posting_date document_create_date.1 due_in_date  \\\n",
              "12094  1.990563e+09   2018-12-30             2018-12-30  2019-02-03   \n",
              "12464  2.960521e+09   2018-12-30             2018-12-30  2019-01-12   \n",
              "33048  2.960520e+09   2018-12-31             2018-12-31  2019-01-13   \n",
              "41158  1.991820e+09   2018-12-31             2018-12-31  2019-02-14   \n",
              "8045   1.990563e+09   2018-12-31             2018-12-31  2019-02-04   \n",
              "\n",
              "      invoice_currency  total_open_amount baseline_create_date  \\\n",
              "12094              USD           16416.00           2018-12-30   \n",
              "12464              CAD           52525.82           2019-01-02   \n",
              "33048              CAD           80827.93           2019-01-03   \n",
              "41158              USD           18409.73           2018-12-31   \n",
              "8045               USD           29841.11           2018-12-31   \n",
              "\n",
              "      cust_payment_terms  isOpen  Target_days  \n",
              "12094               NAG2       0           11  \n",
              "12464               CA10       0            4  \n",
              "33048               CA10       0            5  \n",
              "41158               NAVF       0           99  \n",
              "8045                NAG2       0            8  "
            ]
          },
          "metadata": {
            "tags": []
          },
          "execution_count": 46
        }
      ]
    },
    {
      "cell_type": "code",
      "metadata": {
        "id": "gqLhK_vt4S_O"
      },
      "source": [
        "from sklearn import preprocessing\n",
        "label_encoder = preprocessing.LabelEncoder()"
      ],
      "execution_count": null,
      "outputs": []
    },
    {
      "cell_type": "code",
      "metadata": {
        "id": "k_52NPo64S_P"
      },
      "source": [
        "train[\"business_code\"]  = label_encoder.fit_transform(train[['business_code']])\n",
        "val1[\"business_code\"]  = label_encoder.fit_transform(val1[['business_code']])\n",
        "local_test[\"business_code\"]  = label_encoder.fit_transform(local_test[['business_code']])\n",
        "Test[\"business_code\"]  = label_encoder.fit_transform(Test[['business_code']])\n",
        "\n",
        "# business_code is label encoded and cust_payment_terms is Target encoded.\n",
        "\n",
        "\n",
        "from category_encoders import TargetEncoder\n",
        "targ_enc = TargetEncoder(cols=['cust_payment_terms'], smoothing=8, min_samples_leaf=5).fit(train['cust_payment_terms'], train['Target_days'])"
      ],
      "execution_count": null,
      "outputs": []
    },
    {
      "cell_type": "code",
      "metadata": {
        "id": "sxxGy1Cp4S_P"
      },
      "source": [
        "values = targ_enc.transform(train['cust_payment_terms'].reset_index(drop=True))"
      ],
      "execution_count": null,
      "outputs": []
    },
    {
      "cell_type": "code",
      "metadata": {
        "id": "xC-6Yf894S_P"
      },
      "source": [
        "map_values = list(values['cust_payment_terms'])\n",
        "map_keys = list(train['cust_payment_terms'])"
      ],
      "execution_count": null,
      "outputs": []
    },
    {
      "cell_type": "code",
      "metadata": {
        "id": "4VpSxrfF4S_P",
        "outputId": "c3c4ce22-148b-412a-97ba-c76b8013e83f"
      },
      "source": [
        "res = dict(zip(map_keys, map_values)) \n",
        "res"
      ],
      "execution_count": null,
      "outputs": [
        {
          "output_type": "execute_result",
          "data": {
            "text/plain": [
              "{'NAG2': 8.673076923076923,\n",
              " 'CA10': 6.314074074074074,\n",
              " 'NAVF': 19.695906414244575,\n",
              " 'NAVE': 1.0641711229454272,\n",
              " 'NA38': 5.5959553685054155,\n",
              " 'NAA8': 1.3106462384600275,\n",
              " 'NAUP': 1.6147986301773962,\n",
              " 'NAUZ': 2.5421206224554647,\n",
              " 'CA30': -0.7663415618138749,\n",
              " 'NAH4': -1.8909497500657722,\n",
              " 'NA10': 2.452107279693464,\n",
              " 'NA32': -3.7213822894168467,\n",
              " 'NAC6': 0.5944055944055944,\n",
              " 'NA3B': -6.543184544912941,\n",
              " 'NAD5': 10.985849056544172,\n",
              " 'NAAX': 0.09918478260869565,\n",
              " 'NA9X': -3.8890045401969635,\n",
              " 'NAAW': -14.965200675558037,\n",
              " 'NAU5': 1.5808966861598441,\n",
              " 'NAD1': 0.690671031096563,\n",
              " 'NAM4': -7.3311688311688314,\n",
              " 'NAM1': 2.108902176653892,\n",
              " 'NAVQ': 4.6379787785534035,\n",
              " 'NAX2': 44.014925373134325,\n",
              " 'NAWP': -7.628161198334424,\n",
              " 'BR56': 1.2420134238768237,\n",
              " 'NAM2': -1.0437710437710432,\n",
              " 'NACB': 8.113208034496669,\n",
              " 'C106': 1.3668380865950107,\n",
              " 'NAB1': 6.570391106354425,\n",
              " 'NAWM': 0.690586090531787,\n",
              " 'NAVM': 4.786696150833039,\n",
              " 'NAGD': -13.502824858757062,\n",
              " 'NABG': -1.5555446888053757,\n",
              " 'NA3F': 5.9857148048386595,\n",
              " 'NABD': 0.690586090531787,\n",
              " 'NA8Q': 2.4452930452658936,\n",
              " 'NAD4': -5.56034297635567,\n",
              " 'NAVC': 2.853287710526629,\n",
              " 'NA84': 1.2178017779922767,\n",
              " 'NAVL': 0.38266574729419517,\n",
              " 'NAUI': 28.554876381615884,\n",
              " 'NATH': 0.8260547710497649,\n",
              " 'NAD8': 0.5341724383069636,\n",
              " 'NAV9': 0.690586090531787,\n",
              " 'CAB1': 0.690586090531787,\n",
              " 'NATJ': 0.8260547710497649,\n",
              " 'NATK': 1.2638782701639668,\n",
              " 'NAV2': -24.234383392527732,\n",
              " 'NAVD': -1.3547069547341064,\n",
              " 'NAVR': -9.15363504050444,\n",
              " 'NAWN': -9.082830541281233,\n",
              " 'NATL': 0.690586090531787,\n",
              " 'NA25': 0.0019539102051172597,\n",
              " 'NATM': 0.8356364310382665,\n",
              " 'NAUW': 8.555955311169653,\n",
              " 'NATU': 0.8356364310382665,\n",
              " 'B112': 0.690586090531787,\n",
              " 'NATV': 0.8166207102969778,\n",
              " 'NAWU': -6.8165394134570825,\n",
              " 'NATW': 0.690586090531787}"
            ]
          },
          "metadata": {
            "tags": []
          },
          "execution_count": 51
        }
      ]
    },
    {
      "cell_type": "code",
      "metadata": {
        "id": "fnqHQqNF4S_Q"
      },
      "source": [
        "# cust_number is also target encoded.\n",
        "targ_enc = TargetEncoder(cols=['cust_number'], smoothing=8, min_samples_leaf=5).fit(train['cust_number'], train['Target_days'])"
      ],
      "execution_count": null,
      "outputs": []
    },
    {
      "cell_type": "code",
      "metadata": {
        "id": "I7Ejueg94S_Q"
      },
      "source": [
        "values1 = targ_enc.transform(train['cust_number'].reset_index(drop=True))"
      ],
      "execution_count": null,
      "outputs": []
    },
    {
      "cell_type": "code",
      "metadata": {
        "id": "azXTGoYn4S_Q"
      },
      "source": [
        "map_values1 = list(values1['cust_number'])\n",
        "map_keys1 = list(train['cust_number'])"
      ],
      "execution_count": null,
      "outputs": []
    },
    {
      "cell_type": "code",
      "metadata": {
        "id": "EZ6_33YX4S_Q",
        "outputId": "df2bdcc7-23c6-4311-ce11-10ef245e7cdc"
      },
      "source": [
        "res1 = dict(zip(map_keys1, map_values1)) \n",
        "res1"
      ],
      "execution_count": null,
      "outputs": [
        {
          "output_type": "execute_result",
          "data": {
            "text/plain": [
              "{'0200501669': 5.258795768668979,\n",
              " '0140106271': 1.0202874103199429,\n",
              " '0140104429': 2.492783994663319,\n",
              " 'CC7470': 0.690586090531787,\n",
              " '0100036009': 2.0452930452658933,\n",
              " '0140104409': 2.5488102976723868,\n",
              " '0100034330': 1.552501094840219,\n",
              " '0200825136': 5.040699611776522,\n",
              " '0140106408': 11.441118178533138,\n",
              " '0140105686': 5.694231709034286,\n",
              " '140106181': 25.745293045265893,\n",
              " '0140105785': 4.484880377547522,\n",
              " '0140104440': 5.7969321558229785,\n",
              " '0140104423': 1.468770832350363,\n",
              " '0140103335': -2.437205919016714,\n",
              " '0140106316': 0.40928731025104753,\n",
              " '0200704045': 0.5978278424533406,\n",
              " '0140105847': 3.586617109998499,\n",
              " '0100046479': -1.9771073287191963,\n",
              " '0140105508': -0.6090461898637782,\n",
              " '0140103435': 5.2042897621917845,\n",
              " 'CCU001': 8.958430148326027,\n",
              " '0100010183': 0.690586090531787,\n",
              " '0140103480': 0.2625101740035153,\n",
              " '0140104240': -1.0711803917784435,\n",
              " '0140101584': 1.1054641055759356,\n",
              " '0140106343': 0.015252834442339824,\n",
              " '0140103423': -0.7386784606277483,\n",
              " '0140104472': 3.8359822372812107,\n",
              " 'CC6600': 23.89353862499574,\n",
              " '0100031686': 2.551060822139416,\n",
              " '0140106181': 43.4908887701616,\n",
              " '0140101682': 3.8908192648491786,\n",
              " '0140104249': 3.973389829033439,\n",
              " '0140103699': -0.2191424788707821,\n",
              " '0100031628': 0.690586090531787,\n",
              " 'CC3411': -1.0395260754667086,\n",
              " '0200726979': 0.8907407407407407,\n",
              " '0100011958': -3.300859862546364,\n",
              " '0140106184': 0.6129540102740126,\n",
              " '0140104225': 0.28129878028073946,\n",
              " '0140104223': 2.853287710526629,\n",
              " '0140106376': 0.690586090531787,\n",
              " '0100049621': 0.690586090531787,\n",
              " '0140103470': -0.207469087253992,\n",
              " 'CC3620': 18.54755196579843,\n",
              " '0200806643': 1.2452930452658935,\n",
              " '0100034822': 0.690586090531787,\n",
              " '0140118172': -5.449415382920463,\n",
              " 'CC6050': 34.433009849817736,\n",
              " '0140104234': 0.690586090531787,\n",
              " '0140104340': 2.1229532665414736,\n",
              " '0140106231': 1.0202874103199429,\n",
              " '0140104265': 1.99358410202097,\n",
              " '0140104552': 1.2239541103429081,\n",
              " '0140105704': 0.690586090531787,\n",
              " '0200769623': -2.245273873000485,\n",
              " '0100036722': 0.690586090531787,\n",
              " '0100034022': 1.7017017692781689,\n",
              " '0100043973': -1.9468273900068473,\n",
              " '0200434439': 3.8484493443654495,\n",
              " '0100043892': -0.15168444690941998,\n",
              " '0200705742': -6.4034334763948495,\n",
              " '0200711029': 0.24298965142413287,\n",
              " 'CC6000': 26.63913243200882,\n",
              " '0200762301': 0.11214953271028037,\n",
              " '0200782001': -1.460316879664318,\n",
              " '0200718130': 3.7324362669029427,\n",
              " '0100009932': 2.1559058716371458,\n",
              " '0200315290': 1.5748051447970939,\n",
              " '0200792293': 1.0963618876050343,\n",
              " '0100035138': 0.690586090531787,\n",
              " '0200103402': -0.4874157262928409,\n",
              " '0100047674': 1.8904153409473148,\n",
              " '0200331749': 1.3396205069910836,\n",
              " '0200794332': -0.4492307692307692,\n",
              " '0200785971': 1.7362288234659566,\n",
              " '0200387798': 1.4216247143210712,\n",
              " '0200707822': 0.9592592592592581,\n",
              " '0100031704': 0.06060606062704861,\n",
              " '0200706844': 0.427272727273288,\n",
              " '0200984794': 1.1857750342739068,\n",
              " '0200920735': 0.40361246482028346,\n",
              " '0200761497': 0.8356364310382665,\n",
              " '0200799367': 2.541436463572109,\n",
              " '0200712187': 0.046574102851357914,\n",
              " '0200337148': -0.3778927080666385,\n",
              " '0100027239': 0.690586090531787,\n",
              " '0200900909': 1.591549262858119,\n",
              " '0200749782': 0.5564592947963779,\n",
              " '0200229974': -0.8988202269272509,\n",
              " '0200486270': 0.14436534841553936,\n",
              " '0200714710': 1.2180450534242684,\n",
              " '0200772670': 1.7666666666666666,\n",
              " '0200974851': 1.1555555554085841,\n",
              " '0200799538': -10.098442006055606,\n",
              " '0200353024': -4.40243901249501,\n",
              " '0200759878': 1.3394018205461637,\n",
              " '0200707005': 0.3398831787087416,\n",
              " '0200148860': -7.590643266791029,\n",
              " '0140106257': 0.690586090531787,\n",
              " '0200722444': 0.014261202706713872,\n",
              " '0200739534': 0.7941170856880537,\n",
              " '0140106379': 1.8349542104118035,\n",
              " '0200729290': 1.1357691463694382,\n",
              " '0200704858': -5.256410218653965,\n",
              " '0200778870': 8.07215466724554,\n",
              " '200752302': 0.412275181682057,\n",
              " '200704045': 1.0242204632848886,\n",
              " '0200793568': 0.6781609195485443,\n",
              " '0200764795': 1.6551715049168552,\n",
              " '0200774000': 0.5506355472651584,\n",
              " '0200777735': -4.755737795838083,\n",
              " '0200658936': 2.445954310480699,\n",
              " '0200780383': 1.6424870465728767,\n",
              " '200793513': 1.2452930452658935,\n",
              " '0200881076': 0.5580645334724256,\n",
              " '0200749225': 1.1763587426816855,\n",
              " '0200782772': -0.7045980437070207,\n",
              " '200743123': 0.5776320802577743,\n",
              " '0200744019': 2.4893203883495145,\n",
              " 'CCCA02': 9.254054054054054,\n",
              " 'CCU013': 44.014925373134325,\n",
              " '200707005': 0.468210778216019,\n",
              " '200776463': 3.580507434225292,\n",
              " 'CC7080': 18.047112402875044,\n",
              " '0200936373': 1.7235294106251051,\n",
              " '0200772595': 0.510204085160146,\n",
              " '200761734': -4.009984467916258,\n",
              " '0200782669': 0.22789257150433462,\n",
              " '0200942148': 54.98533774052055,\n",
              " '0140103409': -3.6114392524743653,\n",
              " '0200792734': 1.011103322275947,\n",
              " '0100001196': 2.9978960056994137,\n",
              " '0200750051': 2.413785173710591,\n",
              " '0200573068': 0.35538210527499814,\n",
              " '0200915438': 0.6417226407035911,\n",
              " '0200780825': 1.9496715348214078,\n",
              " '0200743123': 0.07726229672726997,\n",
              " '0200719839': -0.3401326109875451,\n",
              " '0100033394': 1.2420134238768237,\n",
              " '0200781803': 0.5350879074303888,\n",
              " '100033268': 0.40928731025104753,\n",
              " '0140103400': -2.774981058560481,\n",
              " '0200729942': -0.9384612717250487,\n",
              " '0100026902': 0.6129540102740126,\n",
              " '0200727272': 3.9534922095897045,\n",
              " '0200752302': 1.55553453658932,\n",
              " '200772670': 1.397828345665814,\n",
              " '0200020431': -4.6647058764446845,\n",
              " '0200742791': 1.3794943793725716,\n",
              " '0200775094': -0.04350827409762062,\n",
              " '0200779719': 0.43852304536896963,\n",
              " '0200230690': -3.8399999973245516,\n",
              " '0200741174': 2.337459097387206,\n",
              " '0200721222': 3.644809049533915,\n",
              " '0200700919': 3.8987139103602,\n",
              " '0200689451': -0.4874157262928409,\n",
              " '0200721530': -6.122519477241468,\n",
              " '0200725393': -2.4458979553454396,\n",
              " '0200793513': 0.6811625815249506,\n",
              " '0200455322': 4.973550116199516,\n",
              " '0200779906': 1.6121616035697872,\n",
              " '0200725421': -0.6662835142169359,\n",
              " '0200980828': -4.123673255714905,\n",
              " '0200555117': -0.34615687585937904,\n",
              " '0200744410': 0.14529304526589348,\n",
              " '0100000843': 0.690586090531787,\n",
              " '0200806580': -4.2504475491496825,\n",
              " '0200763814': 2.5504545116810444,\n",
              " '0200678532': 0.8260547710497649,\n",
              " '140105785': 3.0452930452658937,\n",
              " '0200763229': 0.9211742398781553,\n",
              " '0200014556': 1.0865534516418855,\n",
              " '0200396637': -3.6065433947291545,\n",
              " '0200418007': -0.8364312267657922,\n",
              " '0100007009': -2.8493798901163947,\n",
              " '0200076137': -0.25982168228957403,\n",
              " '0200972004': 0.690586090531787,\n",
              " '0200763152': -0.5353955548676141,\n",
              " '0200795490': 1.8625961905923636,\n",
              " '0200779051': -11.379948886425337,\n",
              " '0100025658': 8.33344768839334,\n",
              " '0200754278': 1.4383045661167266,\n",
              " '0140142846': 8.113208034496669,\n",
              " '0200886415': 1.4564250900328657,\n",
              " '0200707741': -2.034894084363972,\n",
              " '200744019': 3.0464912221460616,\n",
              " '0200366118': -2.034713090024534,\n",
              " '0100000217': -0.1547069547341065,\n",
              " '0200776463': 1.6881885743845995,\n",
              " '0200622385': 1.8039626566762503,\n",
              " '0200078795': 0.18120992736777436,\n",
              " '0200793088': -0.9679496548291636,\n",
              " '0200466603': 0.38036273864619996,\n",
              " '0200743618': 0.5432876046901375,\n",
              " '0100043936': 0.5771712296907815,\n",
              " '0200770677': 0.6315823997928279,\n",
              " '0100030964': -7.0948841327309005,\n",
              " '0200736337': 1.178095997743989,\n",
              " '0200895669': -0.2925728488084699,\n",
              " '0200895843': 1.579226005814439,\n",
              " '0200743996': -0.4866009291322623,\n",
              " '0200778355': 5.460222420001973,\n",
              " '0200875006': 1.401903739837451,\n",
              " '0200711460': 0.690586090531787,\n",
              " '0200723406': 1.8904153409473148,\n",
              " '0200132251': 1.1598322573291906,\n",
              " '0200416837': -4.844827582502828,\n",
              " '200706844': 0.8389899089643267,\n",
              " '0200748108': 2.1497476692749053,\n",
              " '0100043909': 1.4098194365353676,\n",
              " '0200761734': -2.7853881278454926,\n",
              " '0100030014': -3.8547069547341066,\n",
              " '200704858': -1.7129397719392558,\n",
              " '0200223640': 0.8166207102969778,\n",
              " '0200759082': -7.130209477624918,\n",
              " '0200705372': 0.2577870047509285,\n",
              " '0200580232': -1.000365268531394,\n",
              " '0200739006': 0.4849488554048416,\n",
              " '200424504': 0.690586090531787,\n",
              " '0200275115': 0.6275752138855278,\n",
              " '0200186937': -0.6895487116945084,\n",
              " '0100035578': -0.5317401867386385,\n",
              " '0200561861': -0.12683128559226786,\n",
              " '0200769369': 0.5335954242524594,\n",
              " '200769072': 0.690586090531787,\n",
              " '0200002965': -1.44695762512609,\n",
              " '0200697207': 0.5883494666569545,\n",
              " '0100000158': 12.086611470068117,\n",
              " '0200756072': 1.453212486544053,\n",
              " '0200508557': 1.4132538386563127,\n",
              " '200707822': 0.4609563049527046,\n",
              " 'CCU002': 8.663194032791525,\n",
              " '0200696090': 0.8974274255429514,\n",
              " '0100007916': -8.348380790736455,\n",
              " '0200539926': -0.925239225407043,\n",
              " '0100006311': -1.1244274931151628,\n",
              " '0200771157': 2.4590943668161573,\n",
              " '0200786288': 1.7378822952997663,\n",
              " '100030443': 0.690586090531787,\n",
              " '0100001222': 1.7017017692781689,\n",
              " '0140104475': 4.912407429448983,\n",
              " '0200378008': 0.690586090531787,\n",
              " '0200152991': 0.35106883399971517,\n",
              " '0200550425': 0.690586090531787,\n",
              " '200762950': -0.11893419169169928,\n",
              " '0200732755': 0.5006848906669178,\n",
              " '0140104331': -2.5547069547341064,\n",
              " '0200803720': -4.993630541400899,\n",
              " '140105686': 3.78478482263676,\n",
              " '0100033558': -11.470117517900633,\n",
              " '0100012638': 6.62463697331284,\n",
              " 'CC6530': 8.380415782288402,\n",
              " '0200780849': 0.3452930452658935,\n",
              " '0200439158': 4.009725923753685,\n",
              " '200769623': -2.5537065052950076,\n",
              " '100000533': 0.690586090531787,\n",
              " '0200735528': 1.0889451118739424,\n",
              " '0200729828': 2.270189311106436,\n",
              " '0140105357': 0.6129540102740126,\n",
              " '0200571849': 3.938577822578177,\n",
              " '0200723794': 0.5560732813204625,\n",
              " '0200773364': -7.2336617215088825,\n",
              " '0200037027': 0.44529304526589353,\n",
              " '0200701314': 3.4924636665665894,\n",
              " '0200820380': 0.7667826312195536,\n",
              " '0200357714': 4.6313853640422575,\n",
              " '0200555693': 0.690586090531787,\n",
              " '0200592182': -5.729120310486181,\n",
              " '0200932247': 3.4642878105955246,\n",
              " '0200459173': 5.297288110802211,\n",
              " '200779051': -7.554706954734107,\n",
              " '0100036066': 1.9006702439332401,\n",
              " '200718130': 1.3184653302003613,\n",
              " '200782001': -1.9738370588713885,\n",
              " '0100009866': 0.690586090531787,\n",
              " '0200421258': 4.07528791066442,\n",
              " '0200727278': 0.883183665683922,\n",
              " '0200722369': -1.3991672153895447,\n",
              " '0200751137': 26.657641218787678,\n",
              " '0200789077': 1.9378999019926189,\n",
              " '200619670': 0.690586090531787,\n",
              " '0140049310': 0.09634893919276166,\n",
              " '0200407025': 1.0134940967536339,\n",
              " '0140118168': 3.675413823911012,\n",
              " '0200783189': -1.4008061041171258,\n",
              " '0100049207': 0.14529304526589348,\n",
              " '0200762950': -0.5331940555652221,\n",
              " '200762301': 0.3232800742935657,\n",
              " '0100043948': -0.34147455992144027,\n",
              " '0200679800': 7.945293045265893,\n",
              " '0100015557': -0.33710730009024803,\n",
              " '0200725511': -1.6240274162506754,\n",
              " '0200712105': 4.629263507259235,\n",
              " '0200078854': 0.3452930452658935,\n",
              " '0200797984': 0.5013114268596172,\n",
              " '0100050364': 0.14436534841553936,\n",
              " '0200742521': 4.949931387261446,\n",
              " '0200879892': 3.5452930452658937,\n",
              " '0100029649': -1.2200462899326736,\n",
              " '0200149567': -0.44337624379576934,\n",
              " '200822900': 0.690586090531787,\n",
              " '0200403703': 1.8452930452658936,\n",
              " '0200783734': -1.3167979581019025,\n",
              " '0200743129': -7.803111645949551,\n",
              " '0200519201': 0.635609406999816,\n",
              " '140103480': 0.690586090531787,\n",
              " '0200646464': 0.6778798683689351,\n",
              " '0100012006': 0.690586090531787,\n",
              " '0200861551': -0.6879331054970259,\n",
              " '0200747369': 0.06140730294306938,\n",
              " '0100047469': 0.690586090531787,\n",
              " '200943275': 1.8476429356495694,\n",
              " '200895843': 1.4746939284295695,\n",
              " '0200738514': 0.09634893919276166,\n",
              " '0200877212': 0.690586090531787,\n",
              " '0100021540': 1.4780365304231682,\n",
              " '0200468954': 1.170298680211844,\n",
              " '0200063296': -0.3341369350658974,\n",
              " '0200135060': -2.8493798901163947,\n",
              " '0200437182': 0.34504176410949555,\n",
              " '0100028450': 1.4492933868567415,\n",
              " '0200719526': -1.3167979581019025,\n",
              " '0200865666': 0.21555303258237318,\n",
              " '0200728652': 0.40928731025104753,\n",
              " '0200784489': 0.9448422481799932,\n",
              " '0200754118': -0.09919982489363172,\n",
              " '0200101621': -1.0395260754667086,\n",
              " '0200792283': 0.8605505081167407,\n",
              " '0200816226': 0.690586090531787,\n",
              " '0200197349': -1.2547069547341065,\n",
              " '0100001452': 0.0019539102051172597,\n",
              " '200152991': 0.9448422481799932,\n",
              " '0200117492': -0.207469087253992,\n",
              " '200748108': 1.0452930452658935,\n",
              " '0200797452': 1.977941041584634,\n",
              " '0140105000': 0.09634893919276166,\n",
              " '0100013335': 0.690586090531787,\n",
              " '0140103278': 2.692973164736247,\n",
              " '0200608118': 0.5341724383069636,\n",
              " '200749782': 0.7998820552405503,\n",
              " '0100025924': 0.690586090531787,\n",
              " '200732755': 0.6012411177251445,\n",
              " '0200760666': 5.033927085691121,\n",
              " '0100030194': 3.648380190795729,\n",
              " '0200126819': 2.1138643602545586,\n",
              " '0100043881': 0.690586090531787,\n",
              " '0200858049': -0.453537792183904,\n",
              " '200571849': 1.555760602906768,\n",
              " '200700919': 1.4666319801888787,\n",
              " '0200727524': 0.690586090531787,\n",
              " '0200921307': 7.7412885110777925,\n",
              " '0200790107': 0.2625101740035153,\n",
              " '0140103592': -0.9801496443751081,\n",
              " '0140103293': -2.4458979553454396,\n",
              " '200875006': 0.40928731025104753,\n",
              " '100015557': 4.07528791066442,\n",
              " '0200830009': -4.886046890346045,\n",
              " '0200705089': -0.8334216093956685,\n",
              " '200742791': 1.555760602906768,\n",
              " '0200752393': 3.367272831390255,\n",
              " '0200758883': -0.9547069547341065,\n",
              " '0200435191': -0.40303824941488914,\n",
              " '200759878': 1.2250901911368108,\n",
              " '0200769556': -6.944538248260721,\n",
              " '200353024': -1.815366030076961,\n",
              " '0100036292': 7.140927244416304,\n",
              " '0200093491': 0.690586090531787,\n",
              " '200865666': 0.38823127193556295,\n",
              " '0100036538': -4.285722093904548,\n",
              " '0200719300': 1.896265913212471,\n",
              " '200974851': 0.3389160986133229,\n",
              " '200780383': 0.9624769451780346,\n",
              " '0200796637': -1.814140102857448,\n",
              " '0200609331': 0.38823127193556295,\n",
              " '0100012991': 0.8166207102969778,\n",
              " '200797452': 1.8370486051601722,\n",
              " '0200712102': 10.652285112564094,\n",
              " '140104340': 2.038620910434769,\n",
              " '0200702946': 0.690586090531787,\n",
              " '0200526831': -0.15712632623762016,\n",
              " '200622385': 1.1872294010079494,\n",
              " '0200833713': 1.172830547871836,\n",
              " '0200765011': 1.4364229180053019,\n",
              " '200778355': 1.0700317443513883,\n",
              " '0100044037': 0.690586090531787,\n",
              " '0140104285': 0.6129540102740126,\n",
              " '0200024233': 15.276956411927502,\n",
              " '0140106293': 0.5373729261273361,\n",
              " '0100051641': 11.852216156754995,\n",
              " '0200755701': 0.6315823997928279,\n",
              " '0200575905': 0.690586090531787,\n",
              " '0200724432': 0.38823127193556295,\n",
              " '0200231309': -0.34147455992144027,\n",
              " '0200207008': 0.09634893919276166,\n",
              " '200337148': 0.13313213029222204,\n",
              " '200148860': -2.114343318002643,\n",
              " '0200673194': -2.0547069547341064,\n",
              " '0200781831': 0.795346085881315,\n",
              " '0200791699': 0.38823127193556295,\n",
              " '0100050962': 8.148621911123723,\n",
              " '0200779111': -0.20171278981784785,\n",
              " '0100027281': 0.690586090531787,\n",
              " '0200799342': -9.738296176250438,\n",
              " '0200390794': -0.1547069547341065,\n",
              " '0200219770': 1.117937103792566,\n",
              " '200794332': -0.20908911447845818,\n",
              " '0200122145': 1.117937103792566,\n",
              " '200721222': 1.0202874103199429,\n",
              " '200729942': -5.911289544061132,\n",
              " '200774000': -0.04959222717863898,\n",
              " '200111853': 0.690586090531787,\n",
              " '0200788848': 2.5452930452658937,\n",
              " '0200708411': -4.574378177251651,\n",
              " '200978592': 5.3930482048845905,\n",
              " '0100004536': -3.2665452089951086,\n",
              " '0200741831': 7.045852387314517,\n",
              " 'CC7455': 13.794590839855378,\n",
              " '0200290370': 3.70920842385994,\n",
              " '0200966888': 0.690586090531787,\n",
              " '0140104229': 0.7184387743817054,\n",
              " '100029677': 0.690586090531787,\n",
              " '0200078245': 1.0452930452658935,\n",
              " '200936373': 1.137102876352944,\n",
              " '0100011895': 0.690586090531787,\n",
              " '200793568': 1.332938053819158,\n",
              " '0100036318': 1.4267078203678203,\n",
              " '140104409': -0.19553339355003962,\n",
              " '0200559683': 2.3101280360455028,\n",
              " '0100032284': 0.690586090531787,\n",
              " '0100024102': 1.5748051447970939,\n",
              " '0200743592': -2.0547069547341064,\n",
              " '0140103392': -1.3911190454363915,\n",
              " '0200493614': 2.1643847663600337,\n",
              " '0200956366': 0.2528600371237614,\n",
              " '0140120967': 1.0202874103199429,\n",
              " '140103335': 0.690586090531787,\n",
              " '0100013048': 0.690586090531787,\n",
              " '0200793830': -11.024192922121632,\n",
              " '0200637319': 2.3556318801199834,\n",
              " '0200769643': 0.690586090531787,\n",
              " '0200770567': -3.3329679963998258,\n",
              " '0100054231': 0.690586090531787,\n",
              " '0100028184': 0.690586090531787,\n",
              " '200455322': 4.5734152731098145,\n",
              " '0200703836': 0.690586090531787,\n",
              " '0100000161': 0.690586090531787,\n",
              " '0200458253': 4.484880377547522,\n",
              " '0200943275': 2.1794557798465584,\n",
              " '0100054264': 0.690586090531787,\n",
              " '100031704': -2.8076690617491353,\n",
              " '0200134334': 2.5773487675065727,\n",
              " '0200387240': 1.4276208103658732,\n",
              " '200942148': 19.118470869461774,\n",
              " '0200769072': 0.412275181682057,\n",
              " '0100049661': 0.690586090531787,\n",
              " '0200610381': -0.6333568926642417,\n",
              " '140106408': 9.976030916563495,\n",
              " '0100003940': 0.8452930452658936,\n",
              " '0200720419': 0.690586090531787,\n",
              " '200793830': -3.941450744392007,\n",
              " '200747369': 0.690586090531787,\n",
              " '0200258814': 0.2056206102280824,\n",
              " '0200965912': 0.3018428059644236,\n",
              " '200799367': 1.1417268845128963,\n",
              " '0100043903': 0.690586090531787,\n",
              " '200418007': -5.034691715972287,\n",
              " '100016691': 0.690586090531787,\n",
              " '0100013947': 0.690586090531787,\n",
              " '0200702238': 2.8692311002493742,\n",
              " '0140106372': 0.4840434610685836,\n",
              " '0200978592': 7.038898763015125,\n",
              " '0140104392': 3.4529957657349764,\n",
              " '0200192492': -3.5547069547341064,\n",
              " '0200515231': 2.4311120878402392,\n",
              " '140101772': 0.690586090531787,\n",
              " '0200129450': 3.9366529426157526,\n",
              " '0200029010': 0.5506355472651584,\n",
              " '200816950': 2.853287710526629,\n",
              " '0100047575': 0.690586090531787,\n",
              " '0200783609': 1.6416556443534274,\n",
              " '0200803094': 0.690586090531787,\n",
              " '0200847305': 2.8027173618639605,\n",
              " '0140103983': 4.484880377547522,\n",
              " '0200158897': -1.831046390001569,\n",
              " '0100018142': 2.038620910434769,\n",
              " '0200071186': 0.9434845550558133,\n",
              " '0100043969': 0.690586090531787,\n",
              " '0200755288': -1.3911190454363915,\n",
              " '200726979': 0.9498393231217189,\n",
              " '0200940645': 0.690586090531787,\n",
              " '0100029323': 0.690586090531787,\n",
              " '0200713007': 0.8452930452658936,\n",
              " '0200739941': -0.6333568926642417,\n",
              " '0100030223': 0.690586090531787,\n",
              " '0200756811': 0.690586090531787,\n",
              " '0100028396': 0.690586090531787,\n",
              " '100035971': 0.690586090531787,\n",
              " '0100006671': 0.690586090531787,\n",
              " '0100044041': -3.719200769409231,\n",
              " '0200375138': 10.684139618151839,\n",
              " '0100032178': 0.690586090531787,\n",
              " '0200701040': -1.257346707738729,\n",
              " '0200724999': 5.0761997157066,\n",
              " '0140104336': 0.8166207102969778,\n",
              " '0200345943': 0.015252834442339824,\n",
              " '0100032505': 0.40928731025104753,\n",
              " '0200718164': 0.40928731025104753,\n",
              " '0200378414': 0.2056206102280824,\n",
              " '0200397082': 1.6147986301773962,\n",
              " '200637319': 7.393407257762794,\n",
              " '0200822900': 17.545293045265893,\n",
              " '0140104950': 0.690586090531787,\n",
              " '0200778998': -3.68088569689622,\n",
              " '200674526': 0.690586090531787,\n",
              " '0200799420': 0.9719959374211655,\n",
              " '200416837': -1.0319430313128126,\n",
              " '0100036530': -5.089713590369011,\n",
              " '0140106212': 0.690586090531787,\n",
              " '140103409': 0.690586090531787,\n",
              " '0140103713': 4.32864276396338,\n",
              " '0100034087': 0.690586090531787,\n",
              " '0200576926': 1.0215079615065563,\n",
              " '0200661137': -3.719200769409231,\n",
              " '0200457993': -3.719200769409231,\n",
              " '200891601': 9.582524753333804,\n",
              " '0100010265': 0.690586090531787,\n",
              " '0100049232': 0.690586090531787,\n",
              " '200797984': 0.690586090531787,\n",
              " '0200799180': 3.437737319814962,\n",
              " '0100000051': 0.40928731025104753,\n",
              " '200779166': 0.690586090531787,\n",
              " '0200609718': 0.690586090531787,\n",
              " '200792293': 0.7480799575582784,\n",
              " '0200790012': -1.4237129899556387,\n",
              " '0100050887': 0.690586090531787,\n",
              " '200275115': 0.40928731025104753,\n",
              " '200799180': 0.8260547710497649,\n",
              " '0100014724': -3.571795118621115,\n",
              " '0140105678': 0.690586090531787,\n",
              " '200772595': 0.5452930452658935,\n",
              " '0200735226': -1.0042831473146265,\n",
              " '0200792200': 1.4098194365353676,\n",
              " '0200115792': 0.40928731025104753,\n",
              " '0100049079': 0.8356364310382665,\n",
              " '0100033300': 0.8260547710497649,\n",
              " '200472086': 0.690586090531787,\n",
              " '0200200412': -0.7767078841876903,\n",
              " '100024776': 1.99358410202097,\n",
              " '0200568183': 0.40928731025104753,\n",
              " '0200657619': 0.015252834442339824,\n",
              " '0100049740': 0.690586090531787,\n",
              " '0200984655': -3.2176555363719443,\n",
              " '0200048886': -0.405379489840813,\n",
              " '100006311': 0.8166207102969778,\n",
              " '0200752607': -7.024656045550532,\n",
              " '0200763489': 0.20721545528648075,\n",
              " '0100030961': 3.161113432992175,\n",
              " '0140103499': 2.7141824663016676,\n",
              " '0100019293': 3.598936932106377,\n",
              " '0200257211': 0.40928731025104753,\n",
              " 'CC5102': 0.690586090531787,\n",
              " '200720238': 0.690586090531787,\n",
              " '0200768357': 0.2422901055641623,\n",
              " '0100033083': 1.8349542104118035,\n",
              " '100047339': 0.8166207102969778,\n",
              " '0200277896': 9.245293045265894,\n",
              " '0140106260': 0.690586090531787,\n",
              " '200741831': 1.4276208103658732,\n",
              " '200561861': 0.690586090531787,\n",
              " '200764795': 0.2452930452658935,\n",
              " '200982294': 0.690586090531787,\n",
              " '200741174': 2.0592985801429484,\n",
              " '200501669': 3.015172266620775,\n",
              " '0200840091': 0.690586090531787,\n",
              " '0140104837': 0.690586090531787,\n",
              " '200498283': 0.690586090531787,\n",
              " '200712187': 0.2220438898982529,\n",
              " '0200748335': -0.336340135527343,\n",
              " '200790710': 1.2239541103429081,\n",
              " '200713007': 0.690586090531787,\n",
              " '0100048904': 0.690586090531787,\n",
              " '200935892': 0.690586090531787,\n",
              " '200493614': 1.2239541103429081,\n",
              " '0200749091': -3.0530465901393598,\n",
              " '200783189': 0.690586090531787,\n",
              " '0200399141': 4.2029667654271465,\n",
              " '0200458131': 0.3610735812121739,\n",
              " '0100008001': -1.5083167020929524,\n",
              " '0200744707': -2.094304985375757,\n",
              " '0140106249': 1.8904153409473148,\n",
              " '200707741': -6.854706954734107,\n",
              " '100036066': 0.6012411177251445,\n",
              " '0200714519': 0.690586090531787,\n",
              " '0200096390': -0.17951075359160285,\n",
              " '200915438': 0.38823127193556295,\n",
              " '0100031920': 0.690586090531787,\n",
              " '200920735': 0.38823127193556295,\n",
              " '0200854853': 3.0223818050683118,\n",
              " '200331749': -0.03039929612940656,\n",
              " '200774517': 0.690586090531787,\n",
              " '200782669': 1.032019450618106,\n",
              " '0200306844': -0.405379489840813,\n",
              " '0200955827': 5.458764228732742,\n",
              " '200793088': 0.015252834442339824,\n",
              " '200736337': 0.6801136046783642,\n",
              " '0100013928': 2.1395252683923704,\n",
              " '200780825': 0.8260547710497649,\n",
              " '200782249': 0.690586090531787,\n",
              " '0200447006': 0.690586090531787,\n",
              " '200722444': 0.36684580441202264,\n",
              " '200101145': 0.690586090531787,\n",
              " '100008524': 0.690586090531787,\n",
              " '100030964': -3.1143567209780523,\n",
              " '0200934569': 19.352866182774896,\n",
              " '0140103343': 0.690586090531787,\n",
              " '0200424504': 2.137513061847612,\n",
              " '0200270148': 0.690586090531787,\n",
              " '0200793122': -0.8013983024724914,\n",
              " '200429605': 0.690586090531787,\n",
              " '0140103551': -1.217121558149844,\n",
              " '0200703851': 0.690586090531787,\n",
              " '200705742': -5.899086716687466,\n",
              " '0100031970': 0.690586090531787,\n",
              " '140104878': 0.690586090531787,\n",
              " '0100050402': 0.690586090531787,\n",
              " '0100036168': 1.5452930452658935,\n",
              " '0140104258': 0.690586090531787,\n",
              " '0200308132': 2.360042884052497,\n",
              " '0100012836': 0.690586090531787,\n",
              " '0100019410': -1.0163795899097086,\n",
              " '0100043933': -4.071380090254185,\n",
              " '0100034443': 0.0019539102051172597,\n",
              " '200711029': 0.44529304526589353,\n",
              " '0200930547': 0.2056206102280824,\n",
              " '0100030443': 0.9452930452658934,\n",
              " '0100036153': 0.690586090531787,\n",
              " '0200656729': -0.336340135527343,\n",
              " '100050364': -0.20171278981784785,\n",
              " '0100049859': 0.690586090531787,\n",
              " '0100035877': 1.4783437238586985,\n",
              " '140104263': 0.690586090531787,\n",
              " '0100031483': -2.092768556378248,\n",
              " '0200078595': 0.690586090531787,\n",
              " '0100047339': -0.20171278981784785,\n",
              " '0200452014': 1.4267078203678203,\n",
              " '200978899': 1.6312875103888382,\n",
              " '0200326954': 0.5341724383069636,\n",
              " '0200684768': -1.3584227295637972,\n",
              " '0200790710': 1.7323816610488145,\n",
              " '140104240': 0.09634893919276166,\n",
              " '0200560331': 0.36684580441202264,\n",
              " '200739534': 1.2981565531518253,\n",
              " '0100034821': 1.6312875103888382,\n",
              " '0200565499': 0.690586090531787,\n",
              " '200754278': 1.2638782701639668,\n",
              " '0100007796': 0.8260547710497649,\n",
              " '0200390937': 0.6129540102740126,\n",
              " '0200268458': -0.20171278981784785,\n",
              " '0200210681': -0.8127128898867433,\n",
              " '0100043910': 0.690586090531787,\n",
              " '0100036172': 0.690586090531787,\n",
              " '0200005597': 0.690586090531787,\n",
              " '0200742344': 0.9434845550558133,\n",
              " '0200733702': 0.690586090531787,\n",
              " '200668077': 0.690586090531787,\n",
              " '0100033020': 0.690586090531787,\n",
              " '0140103461': 1.30442705766451,\n",
              " '140104277': 2.649621010503664,\n",
              " '0200947949': 0.690586090531787,\n",
              " '0200793000': 1.917368406241033,\n",
              " '0100047397': 0.690586090531787,\n",
              " '0140106165': 0.690586090531787,\n",
              " '0100000222': -1.225680095909611,\n",
              " '0100034820': 0.0019539102051172597,\n",
              " '100049079': 2.445954310480699,\n",
              " '0100025721': 0.690586090531787,\n",
              " '0200358522': 0.690586090531787,\n",
              " '0200790165': -0.405379489840813,\n",
              " '0200767520': 1.1872294010079494,\n",
              " '0100043902': -2.914688581971684,\n",
              " '140105975': 0.690586090531787,\n",
              " '0200978899': 1.032019450618106,\n",
              " '0200740393': -0.2547069547341065,\n",
              " '200494102': 0.40928731025104753,\n",
              " '0200306170': 0.690586090531787,\n",
              " '0200943457': 1.8476429356495694,\n",
              " '140106184': 0.690586090531787,\n",
              " '0200982294': 0.3452930452658935,\n",
              " '200020431': -2.2305576667889158,\n",
              " '0200445343': 0.690586090531787,\n",
              " '0100012482': -0.20171278981784785,\n",
              " '0200731999': 0.5341724383069636,\n",
              " '140104429': 2.0738602711014047,\n",
              " '0200737918': -0.453537792183904,\n",
              " '0200722352': -5.303474216549062,\n",
              " '200290370': 1.117937103792566,\n",
              " '0140106078': 0.690586090531787,\n",
              " '140106209': 0.690586090531787,\n",
              " '200714710': 0.4629766759921663,\n",
              " '100049075': 0.690586090531787,\n",
              " '200778870': 2.6452930452658934,\n",
              " '0100021489': 0.690586090531787,\n",
              " '200763489': 0.690586090531787,\n",
              " '200078795': -0.8547069547341064,\n",
              " '200881076': 0.7257987302462917,\n",
              " '200763152': 3.6679545106184896,\n",
              " '0100049075': 0.690586090531787,\n",
              " '200729290': 1.087530805059066,\n",
              " '200606231': 0.2056206102280824,\n",
              " '0200726025': -1.8896321029375538,\n",
              " '0200378310': 1.346396891669849,\n",
              " '0100050924': 0.690586090531787,\n",
              " '200466603': 0.8356364310382665,\n",
              " '100032523': 0.690586090531787,\n",
              " '0200719448': 0.690586090531787,\n",
              " '140104249': 0.690586090531787,\n",
              " '0100046892': 0.690586090531787,\n",
              " '200375138': -1.217121558149844,\n",
              " '200608118': 0.690586090531787,\n",
              " '200357714': 0.8166207102969778,\n",
              " '140105847': 1.651763719554155,\n",
              " '0200891601': 14.054956211789712,\n",
              " '0100030565': -0.405379489840813,\n",
              " '200132251': 0.690586090531787,\n",
              " '200778998': 0.690586090531787,\n",
              " '200172815': 0.690586090531787,\n",
              " '0100053763': 16.498956612065296,\n",
              " '0200253680': 0.2220438898982529,\n",
              " '200434439': 0.8356364310382665,\n",
              " '200771157': 0.4629766759921663,\n",
              " '200705089': -6.908827046634469,\n",
              " '140104423': 0.7452930452658935,\n",
              " '0200745469': -1.627379689978604,\n",
              " '0200992849': -1.4237129899556387,\n",
              " '200712105': 0.8260547710497649,\n",
              " '0100037174': 0.690586090531787,\n",
              " '140104440': 2.5936012808866806,\n",
              " '0100033268': 0.690586090531787,\n",
              " '200758883': -0.8127128898867433,\n",
              " '140104475': 0.690586090531787,\n",
              " '0200738884': 0.9528340876948274,\n",
              " '200793000': 0.690586090531787,\n",
              " '100052024': 0.690586090531787,\n",
              " '200785971': 1.0452930452658935,\n",
              " '0200935607': 0.690586090531787,\n",
              " '0100034596': 0.690586090531787,\n",
              " '200725421': 0.8166207102969778,\n",
              " '200795490': 2.0452930452658933,\n",
              " '200712102': 4.482621310710351,\n",
              " '200345943': 0.690586090531787,\n",
              " '200749225': 0.4840434610685836,\n",
              " '0100053505': 0.690586090531787,\n",
              " '0200557600': -0.35470695473410646,\n",
              " '200657619': -3.4603799901852903,\n",
              " '0200403651': 0.28129878028073946,\n",
              " '0100017545': -1.0395260754667086,\n",
              " '100029811': 0.690586090531787,\n",
              " '0200463411': 0.690586090531787,\n",
              " '200515231': 0.40928731025104753,\n",
              " '0100033439': -1.7125623118129685,\n",
              " '0140105713': 0.690586090531787,\n",
              " '0200862925': 0.690586090531787,\n",
              " '0100035734': 3.3070545993635756,\n",
              " '0200783190': 0.9528340876948274,\n",
              " '0100043949': 0.2452930452658935,\n",
              " '200743996': -4.90704874513322,\n",
              " '100011958': -0.8127128898867433,\n",
              " '200729828': 0.690586090531787,\n",
              " '0200738648': 0.690586090531787,\n",
              " '0200816950': 3.32039797368209,\n",
              " '0200386051': -1.644867669569987,\n",
              " '140104472': 0.690586090531787,\n",
              " '0200870809': 0.6129540102740126,\n",
              " '0200172815': -1.831046390001569,\n",
              " '0200131514': 0.6129540102740126,\n",
              " '140103713': 4.912407429448983,\n",
              " '200555117': 1.4276208103658732,\n",
              " '140106372': 0.690586090531787,\n",
              " '0200716210': 0.9719959374211655,\n",
              " '140118172': 0.690586090531787,\n",
              " '140106322': 0.690586090531787,\n",
              " '0200762678': -3.3834792085979277,\n",
              " '200122006': 0.690586090531787,\n",
              " '0200687457': -2.238379790047499,\n",
              " '200230690': -0.8665337889390966,\n",
              " '200781803': 0.38266574729419517,\n",
              " '0140104277': 0.690586090531787,\n",
              " '0100032791': 0.690586090531787,\n",
              " '100011895': 0.690586090531787,\n",
              " '0140106224': 0.690586090531787,\n",
              " '200592182': -2.2547069547341065,\n",
              " '100029323': 0.690586090531787,\n",
              " '0200084659': 5.171949727331022,\n",
              " '200783317': 0.690586090531787,\n",
              " '200756072': 0.24196248004519805,\n",
              " '100034443': 0.690586090531787,\n",
              " '200780849': 0.690586090531787,\n",
              " '200777735': -4.237784044369042,\n",
              " '0140104263': 0.690586090531787,\n",
              " '0200677269': -0.9157482517523339,\n",
              " '0200789344': 5.845293045265893,\n",
              " '200854853': 0.8260547710497649,\n",
              " '200744584': 0.690586090531787,\n",
              " '0200553372': -5.7547069547341065,\n",
              " '100030565': 0.690586090531787,\n",
              " '200820380': 1.0202874103199429,\n",
              " '0100026809': -0.6090461898637782,\n",
              " '100027744': 0.690586090531787,\n",
              " '0200767729': -0.9040344196273999,\n",
              " '200779906': 0.8166207102969778,\n",
              " '200705372': 0.4840434610685836,\n",
              " '0200692711': 0.690586090531787,\n",
              " '200759082': 0.690586090531787,\n",
              " '0140105963': 0.690586090531787,\n",
              " '0100035971': 2.8692311002493742,\n",
              " '0200712836': 4.445293045265893,\n",
              " '0100046480': 1.2239541103429081,\n",
              " '0100058003': 0.690586090531787,\n",
              " '200803720': -2.5600564370708376,\n",
              " '0200472086': -0.2191424788707821,\n",
              " '0100043961': 0.690586090531787,\n",
              " '200782772': 0.690586090531787,\n",
              " '0200791792': 0.40928731025104753,\n",
              " '0100047527': -5.154706954734107,\n",
              " '0100012698': -0.925239225407043,\n",
              " '200799342': -1.2200462899326736,\n",
              " '0100053926': 0.690586090531787,\n",
              " '100004536': 0.690586090531787,\n",
              " '100046726': 0.690586090531787,\n",
              " '0100049962': -5.497046990414941,\n",
              " '200744707': -0.6090461898637782,\n",
              " '0200494102': 5.171949727331022,\n",
              " '0200761342': 0.0019539102051172597,\n",
              " '200529372': 0.690586090531787,\n",
              " '100031970': 0.690586090531787,\n",
              " '0200900212': -2.3323065807490173,\n",
              " '0200983712': 0.36684580441202264,\n",
              " 'CC5050': 30.348292213626923,\n",
              " '0200246495': -1.5083167020929524,\n",
              " '0100010082': 0.690586090531787,\n",
              " '0200236583': 1.2239541103429081,\n",
              " '0200793319': -6.202830405939439,\n",
              " '0200077933': 0.690586090531787,\n",
              " '0100021633': 0.690586090531787,\n",
              " '0200624321': 0.0019539102051172597,\n",
              " '200526831': 0.8166207102969778,\n",
              " '0200508192': 0.690586090531787,\n",
              " '0200124052': -10.063745638021901,\n",
              " '0100054867': -0.6547069547341064,\n",
              " '0100004335': 1.4216247143210712,\n",
              " '0100016691': 2.431407601135172,\n",
              " '100043892': -0.6333568926642417,\n",
              " '0200789266': 0.690586090531787,\n",
              " '100036168': 0.690586090531787,\n",
              " '0200593992': 0.690586090531787,\n",
              " '0200498283': 0.690586090531787,\n",
              " '0200706331': 0.38823127193556295,\n",
              " '200452014': 0.6129540102740126,\n",
              " '200799538': 0.690586090531787,\n",
              " '0200406153': 0.690586090531787,\n",
              " '0200902149': 4.07528791066442,\n",
              " '100008001': -2.034713090024534,\n",
              " '0100046469': 0.690586090531787,\n",
              " '200076137': 0.690586090531787,\n",
              " '0200400844': 0.690586090531787,\n",
              " '0100043956': 1.6312875103888382,\n",
              " '0100052318': 0.690586090531787,\n",
              " '0200782249': 0.0019539102051172597,\n",
              " '0100049747': 21.386957412616457,\n",
              " '0100058056': 0.690586090531787,\n",
              " '0100053793': 0.690586090531787,\n",
              " '200773364': 0.5341724383069636,\n",
              " '0200198605': 0.0019539102051172597,\n",
              " '0200773492': 0.690586090531787,\n",
              " '200755288': 0.690586090531787,\n",
              " '0200739386': 0.690586090531787,\n",
              " '0100048218': 0.690586090531787,\n",
              " '0100055160': -0.20171278981784785,\n",
              " '0100024767': 1.7017017692781689,\n",
              " '0100052112': -0.8127128898867433,\n",
              " '100036009': 0.690586090531787,\n",
              " '0100031642': 0.690586090531787,\n",
              " '0200939804': 0.690586090531787,\n",
              " '200229974': -1.0163795899097086,\n",
              " '200018877': 0.690586090531787,\n",
              " '200786288': -0.5707354488404649,\n",
              " '0100053298': 11.814622511537095,\n",
              " '0140102142': 0.690586090531787,\n",
              " '0200307138': -2.092768556378248,\n",
              " '0100027772': -2.238379790047499,\n",
              " '0100004803': 0.690586090531787,\n",
              " '0200399802': 0.690586090531787,\n",
              " '0100051489': 0.690586090531787,\n",
              " '0100026939': 1.0452930452658935,\n",
              " '0200628215': 0.690586090531787,\n",
              " '200783734': 0.690586090531787,\n",
              " '0200606231': 0.36684580441202264,\n",
              " '0200773094': 0.690586090531787,\n",
              " '0100028210': 4.820356757361338,\n",
              " '0100032041': 0.690586090531787,\n",
              " '0100029677': 7.685289590505596,\n",
              " '0100036773': -2.034713090024534,\n",
              " '200540723': 0.690586090531787,\n",
              " '0200720238': 1.5070187490657911,\n",
              " '200580232': -2.4420464900704646,\n",
              " '100050703': 0.690586090531787,\n",
              " '100049661': 0.690586090531787,\n",
              " '0200814091': 0.690586090531787,\n",
              " '0140101904': 0.690586090531787,\n",
              " '0200397526': 0.690586090531787,\n",
              " '0200773620': 0.38823127193556295,\n",
              " '0200742419': 0.40928731025104753,\n",
              " '0200735741': 0.690586090531787,\n",
              " '0200229491': 5.093621410779246,\n",
              " '0200494781': 0.40928731025104753,\n",
              " '0100050370': 0.690586090531787,\n",
              " '200458253': 0.690586090531787,\n",
              " '0100035833': -0.6090461898637782,\n",
              " '0140103311': -0.4874157262928409,\n",
              " '200723794': 0.690586090531787,\n",
              " '0200721330': 1.228994405240508,\n",
              " '0100043975': 0.690586090531787,\n",
              " '200769369': 0.690586090531787,\n",
              " '0100031723': -1.2200462899326736,\n",
              " '0200826820': 0.690586090531787,\n",
              " '200980828': 0.690586090531787,\n",
              " '0200734891': 0.690586090531787,\n",
              " '0140101555': 4.585961444048217,\n",
              " '0200341093': 2.007612997603876,\n",
              " '0200911716': 0.690586090531787,\n",
              " '0100029811': 2.853287710526629,\n",
              " '100046468': 0.690586090531787,\n",
              " '0200917385': 0.690586090531787,\n",
              " '200793122': 0.0019539102051172597,\n",
              " '0200417804': 0.690586090531787,\n",
              " '0200516657': 0.40928731025104753,\n",
              " '0200737496': 0.690586090531787,\n",
              " '0200711899': -1.217121558149844,\n",
              " '0200999003': 0.690586090531787,\n",
              " '100036039': 0.09634893919276166,\n",
              " '200789077': 1.1872294010079494,\n",
              " '0200731119': -0.405379489840813,\n",
              " '100036292': 0.40928731025104753,\n",
              " '0200040366': 0.36684580441202264,\n",
              " '100035578': 0.690586090531787,\n",
              " '0200413833': -9.24388570857688,\n",
              " '200719526': 0.690586090531787,\n",
              " '0200164995': 0.690586090531787,\n",
              " '100000217': 3.8908192648491786,\n",
              " '200387240': 0.8166207102969778,\n",
              " '100047388': 0.690586090531787,\n",
              " '0200913718': -4.886046890346045,\n",
              " '0140103394': 0.690586090531787,\n",
              " '0200630112': 0.690586090531787,\n",
              " '0200955967': 0.690586090531787,\n",
              " '0200774517': 0.0019539102051172597,\n",
              " '0100053305': 0.690586090531787,\n",
              " '200861551': 0.690586090531787,\n",
              " '200827835': 0.690586090531787,\n",
              " '200708411': -4.071380090254185,\n",
              " '200792734': 6.4326480799179615,\n",
              " '0200762166': 0.690586090531787,\n",
              " '0100043888': 0.690586090531787,\n",
              " '0200540723': -0.6090461898637782,\n",
              " '200754118': 0.690586090531787,\n",
              " '100047417': 0.690586090531787,\n",
              " '0200749730': 2.5773487675065727,\n",
              " '0200255310': 1.6312875103888382,\n",
              " '200673194': 0.690586090531787,\n",
              " '0100046048': 0.36684580441202264,\n",
              " '0200982290': 0.8166207102969778,\n",
              " '0200705985': 0.690586090531787,\n",
              " '200763814': 1.1452930452658936,\n",
              " '0100046487': 0.690586090531787,\n",
              " 'CC6964': 20.81999456393165,\n",
              " '0100053090': -2.0547069547341064,\n",
              " '0200505720': 0.690586090531787,\n",
              " '0100055500': 0.690586090531787,\n",
              " '200149567': 0.690586090531787,\n",
              " '200129450': 0.690586090531787,\n",
              " '0100043962': 0.690586090531787,\n",
              " '0200512145': 0.690586090531787,\n",
              " '200726025': -1.831046390001569,\n",
              " '0200775660': 1.4276208103658732,\n",
              " '0200212683': 0.2056206102280824,\n",
              " '200511033': 0.690586090531787,\n",
              " '0200042747': 0.690586090531787,\n",
              " '0100024776': 2.0691952499515893,\n",
              " '0100052024': 0.40928731025104753,\n",
              " '200767520': 0.690586090531787,\n",
              " '0200734750': -0.405379489840813,\n",
              " '0100030419': 0.690586090531787,\n",
              " '0100047318': 0.690586090531787,\n",
              " '0200359490': 0.690586090531787,\n",
              " '0200707519': 0.09634893919276166,\n",
              " '0100030250': 1.8349542104118035,\n",
              " '0200406273': -0.405379489840813,\n",
              " '100046487': 0.690586090531787,\n",
              " ...}"
            ]
          },
          "metadata": {
            "tags": []
          },
          "execution_count": 55
        }
      ]
    },
    {
      "cell_type": "code",
      "metadata": {
        "id": "4LV1R-hr4S_R"
      },
      "source": [
        "train['cust_payment_terms'] = train['cust_payment_terms'].map(res)\n",
        "val1['cust_payment_terms'] = val1['cust_payment_terms'].map(res)\n",
        "local_test['cust_payment_terms'] = local_test['cust_payment_terms'].map(res)\n",
        "Test['cust_payment_terms'] =Test['cust_payment_terms'].map(res)\n",
        "\n",
        "train['cust_number'] = train['cust_number'].map(res1)\n",
        "val1['cust_number'] = val1['cust_number'].map(res1)\n",
        "local_test['cust_number'] = local_test['cust_number'].map(res1)\n",
        "Test['cust_number'] =Test['cust_number'].map(res1)\n",
        "\n",
        "\n",
        "# Mapping the encoded columns"
      ],
      "execution_count": null,
      "outputs": []
    },
    {
      "cell_type": "code",
      "metadata": {
        "id": "Nn6E9uKQ4S_R",
        "outputId": "c1ac14b1-d34d-4e62-87c7-00541d941636"
      },
      "source": [
        "train[\"business_code\"].unique()"
      ],
      "execution_count": null,
      "outputs": [
        {
          "output_type": "execute_result",
          "data": {
            "text/plain": [
              "array([2, 0, 5, 1, 3, 4])"
            ]
          },
          "metadata": {
            "tags": []
          },
          "execution_count": 57
        }
      ]
    },
    {
      "cell_type": "code",
      "metadata": {
        "id": "y0YCGqHt4S_R",
        "outputId": "8aebf60c-591f-4849-81cd-f06d88b5f5bc"
      },
      "source": [
        "train[\"cust_number\"].unique()"
      ],
      "execution_count": null,
      "outputs": [
        {
          "output_type": "execute_result",
          "data": {
            "text/plain": [
              "array([ 5.25879577e+00,  1.02028741e+00,  2.49278399e+00,  6.90586091e-01,\n",
              "        2.04529305e+00,  2.54881030e+00,  1.55250109e+00,  5.04069961e+00,\n",
              "        1.14411182e+01,  5.69423171e+00,  2.57452930e+01,  4.48488038e+00,\n",
              "        5.79693216e+00,  1.46877083e+00, -2.43720592e+00,  4.09287310e-01,\n",
              "        5.97827842e-01,  3.58661711e+00, -1.97710733e+00, -6.09046190e-01,\n",
              "        5.20428976e+00,  8.95843015e+00,  2.62510174e-01, -1.07118039e+00,\n",
              "        1.10546411e+00,  1.52528344e-02, -7.38678461e-01,  3.83598224e+00,\n",
              "        2.38935386e+01,  2.55106082e+00,  4.34908888e+01,  3.89081926e+00,\n",
              "        3.97338983e+00, -2.19142479e-01, -1.03952608e+00,  8.90740741e-01,\n",
              "       -3.30085986e+00,  6.12954010e-01,  2.81298780e-01,  2.85328771e+00,\n",
              "       -2.07469087e-01,  1.85475520e+01,  1.24529305e+00, -5.44941538e+00,\n",
              "        3.44330098e+01,  2.12295327e+00,  1.99358410e+00,  1.22395411e+00,\n",
              "       -2.24527387e+00,  1.70170177e+00, -1.94682739e+00,  3.84844934e+00,\n",
              "       -1.51684447e-01, -6.40343348e+00,  2.42989651e-01,  2.66391324e+01,\n",
              "        1.12149533e-01, -1.46031688e+00,  3.73243627e+00,  2.15590587e+00,\n",
              "        1.57480514e+00,  1.09636189e+00, -4.87415726e-01,  1.89041534e+00,\n",
              "        1.33962051e+00, -4.49230769e-01,  1.73622882e+00,  1.42162471e+00,\n",
              "        9.59259259e-01,  6.06060606e-02,  4.27272727e-01,  1.18577503e+00,\n",
              "        4.03612465e-01,  8.35636431e-01,  2.54143646e+00,  4.65741029e-02,\n",
              "       -3.77892708e-01,  1.59154926e+00,  5.56459295e-01, -8.98820227e-01,\n",
              "        1.44365348e-01,  1.21804505e+00,  1.76666667e+00,  1.15555556e+00,\n",
              "       -1.00984420e+01, -4.40243901e+00,  1.33940182e+00,  3.39883179e-01,\n",
              "       -7.59064327e+00,  1.42612027e-02,  7.94117086e-01,  1.83495421e+00,\n",
              "        1.13576915e+00, -5.25641022e+00,  8.07215467e+00,  4.12275182e-01,\n",
              "        1.02422046e+00,  6.78160920e-01,  1.65517150e+00,  5.50635547e-01,\n",
              "       -4.75573780e+00,  2.44595431e+00,  1.64248705e+00,  5.58064533e-01,\n",
              "        1.17635874e+00, -7.04598044e-01,  5.77632080e-01,  2.48932039e+00,\n",
              "        9.25405405e+00,  4.40149254e+01,  4.68210778e-01,  3.58050743e+00,\n",
              "        1.80471124e+01,  1.72352941e+00,  5.10204085e-01, -4.00998447e+00,\n",
              "        2.27892572e-01,  5.49853377e+01, -3.61143925e+00,  1.01110332e+00,\n",
              "        2.99789601e+00,  2.41378517e+00,  3.55382105e-01,  6.41722641e-01,\n",
              "        1.94967153e+00,  7.72622967e-02, -3.40132611e-01,  1.24201342e+00,\n",
              "        5.35087907e-01, -2.77498106e+00, -9.38461272e-01,  3.95349221e+00,\n",
              "        1.55553454e+00,  1.39782835e+00, -4.66470588e+00,  1.37949438e+00,\n",
              "       -4.35082741e-02,  4.38523045e-01, -3.84000000e+00,  2.33745910e+00,\n",
              "        3.64480905e+00,  3.89871391e+00, -6.12251948e+00, -2.44589796e+00,\n",
              "        6.81162582e-01,  4.97355012e+00,  1.61216160e+00, -6.66283514e-01,\n",
              "       -4.12367326e+00, -3.46156876e-01,  1.45293045e-01, -4.25044755e+00,\n",
              "        2.55045451e+00,  8.26054771e-01,  3.04529305e+00,  9.21174240e-01,\n",
              "        1.08655345e+00, -3.60654339e+00, -8.36431227e-01, -2.84937989e+00,\n",
              "       -2.59821682e-01, -5.35395555e-01,  1.86259619e+00, -1.13799489e+01,\n",
              "        8.33344769e+00,  1.43830457e+00,  8.11320803e+00,  1.45642509e+00,\n",
              "       -2.03489408e+00,  3.04649122e+00, -2.03471309e+00, -1.54706955e-01,\n",
              "        1.68818857e+00,  1.80396266e+00,  1.81209927e-01, -9.67949655e-01,\n",
              "        3.80362739e-01,  5.43287605e-01,  5.77171230e-01,  6.31582400e-01,\n",
              "       -7.09488413e+00,  1.17809600e+00, -2.92572849e-01,  1.57922601e+00,\n",
              "       -4.86600929e-01,  5.46022242e+00,  1.40190374e+00,  1.15983226e+00,\n",
              "       -4.84482758e+00,  8.38989909e-01,  2.14974767e+00,  1.40981944e+00,\n",
              "       -2.78538813e+00, -3.85470695e+00, -1.71293977e+00,  8.16620710e-01,\n",
              "       -7.13020948e+00,  2.57787005e-01, -1.00036527e+00,  4.84948855e-01,\n",
              "        6.27575214e-01, -6.89548712e-01, -5.31740187e-01, -1.26831286e-01,\n",
              "        5.33595424e-01, -1.44695763e+00,  5.88349467e-01,  1.20866115e+01,\n",
              "        1.45321249e+00,  1.41325384e+00,  4.60956305e-01,  8.66319403e+00,\n",
              "        8.97427426e-01, -8.34838079e+00, -9.25239225e-01, -1.12442749e+00,\n",
              "        2.45909437e+00,  1.73788230e+00,  4.91240743e+00,  3.51068834e-01,\n",
              "       -1.18934192e-01,  5.00684891e-01, -2.55470695e+00, -4.99363054e+00,\n",
              "        3.78478482e+00, -1.14701175e+01,  6.62463697e+00,  8.38041578e+00,\n",
              "        3.45293045e-01,  4.00972592e+00, -2.55370651e+00,  1.08894511e+00,\n",
              "        2.27018931e+00,  3.93857782e+00,  5.56073281e-01, -7.23366172e+00,\n",
              "        4.45293045e-01,  3.49246367e+00,  7.66782631e-01,  4.63138536e+00,\n",
              "       -5.72912031e+00,  3.46428781e+00,  5.29728811e+00, -7.55470695e+00,\n",
              "        1.90067024e+00,  1.31846533e+00, -1.97383706e+00,  4.07528791e+00,\n",
              "        8.83183666e-01, -1.39916722e+00,  2.66576412e+01,  1.93789990e+00,\n",
              "        9.63489392e-02,  1.01349410e+00,  3.67541382e+00, -1.40080610e+00,\n",
              "       -5.33194056e-01,  3.23280074e-01, -3.41474560e-01,  7.94529305e+00,\n",
              "       -3.37107300e-01, -1.62402742e+00,  4.62926351e+00,  5.01311427e-01,\n",
              "        4.94993139e+00,  3.54529305e+00, -1.22004629e+00, -4.43376244e-01,\n",
              "        1.84529305e+00, -1.31679796e+00, -7.80311165e+00,  6.35609407e-01,\n",
              "        6.77879868e-01, -6.87933105e-01,  6.14073029e-02,  1.84764294e+00,\n",
              "        1.47469393e+00,  1.47803653e+00,  1.17029868e+00, -3.34136935e-01,\n",
              "        3.45041764e-01,  1.44929339e+00,  2.15553033e-01,  9.44842248e-01,\n",
              "       -9.91998249e-02,  8.60550508e-01, -1.25470695e+00,  1.95391021e-03,\n",
              "        1.04529305e+00,  1.97794104e+00,  2.69297316e+00,  5.34172438e-01,\n",
              "        7.99882055e-01,  6.01241118e-01,  5.03392709e+00,  3.64838019e+00,\n",
              "        2.11386436e+00, -4.53537792e-01,  1.55576060e+00,  1.46663198e+00,\n",
              "        7.74128851e+00, -9.80149644e-01, -4.88604689e+00, -8.33421609e-01,\n",
              "        3.36727283e+00, -9.54706955e-01, -4.03038249e-01,  1.22509019e+00,\n",
              "       -6.94453825e+00, -1.81536603e+00,  7.14092724e+00,  3.88231272e-01,\n",
              "       -4.28572209e+00,  1.89626591e+00,  3.38916099e-01,  9.62476945e-01,\n",
              "       -1.81414010e+00,  1.83704861e+00,  1.06522851e+01,  2.03862091e+00,\n",
              "       -1.57126326e-01,  1.18722940e+00,  1.17283055e+00,  1.43642292e+00,\n",
              "        1.07003174e+00,  1.52769564e+01,  5.37372926e-01,  1.18522162e+01,\n",
              "        1.33132130e-01, -2.11434332e+00, -2.05470695e+00,  7.95346086e-01,\n",
              "        8.14862191e+00, -2.01712790e-01, -9.73829618e+00,  1.11793710e+00,\n",
              "       -2.09089114e-01, -5.91128954e+00, -4.95922272e-02,  2.54529305e+00,\n",
              "       -4.57437818e+00,  5.39304820e+00, -3.26654521e+00,  7.04585239e+00,\n",
              "        1.37945908e+01,  3.70920842e+00,  7.18438774e-01,  1.13710288e+00,\n",
              "        1.33293805e+00,  1.42670782e+00, -1.95533394e-01,  2.31012804e+00,\n",
              "       -1.39111905e+00,  2.16438477e+00,  2.52860037e-01, -1.10241929e+01,\n",
              "        2.35563188e+00, -3.33296800e+00,  4.57341527e+00,  2.17945578e+00,\n",
              "       -2.80766906e+00,  2.57734877e+00,  1.42762081e+00,  1.91184709e+01,\n",
              "       -6.33356893e-01,  9.97603092e+00,  8.45293045e-01, -3.94145074e+00,\n",
              "        2.05620610e-01,  3.01842806e-01,  1.14172688e+00, -5.03469172e+00,\n",
              "        2.86923110e+00,  4.84043461e-01,  7.03889876e+00,  3.45299577e+00,\n",
              "       -3.55470695e+00,  2.43111209e+00,  3.93665294e+00,  1.64165564e+00,\n",
              "        2.80271736e+00, -1.83104639e+00,  9.43484555e-01,  9.49839323e-01,\n",
              "       -3.71920077e+00,  1.06841396e+01, -1.25734671e+00,  5.07619972e+00,\n",
              "        1.61479863e+00,  7.39340726e+00,  1.75452930e+01, -3.68088570e+00,\n",
              "        9.71995937e-01, -1.03194303e+00, -5.08971359e+00,  4.32864276e+00,\n",
              "        1.02150796e+00,  9.58252475e+00,  3.43773732e+00,  7.48079958e-01,\n",
              "       -1.42371299e+00, -3.57179512e+00,  5.45293045e-01, -1.00428315e+00,\n",
              "       -7.76707884e-01, -3.21765554e+00, -4.05379490e-01, -7.02465605e+00,\n",
              "        2.07215455e-01,  3.16111343e+00,  2.71418247e+00,  3.59893693e+00,\n",
              "        2.42290106e-01,  9.24529305e+00,  2.45293045e-01,  2.05929858e+00,\n",
              "        3.01517227e+00,  2.22043890e-01, -3.36340136e-01, -3.05304659e+00,\n",
              "        4.20296677e+00,  3.61073581e-01, -1.50831670e+00, -2.09430499e+00,\n",
              "       -6.85470695e+00, -1.79510754e-01,  3.02238181e+00, -3.03992961e-02,\n",
              "        1.03201945e+00,  5.45876423e+00,  6.80113605e-01,  2.13952527e+00,\n",
              "        3.66845804e-01, -3.11435672e+00,  1.93528662e+01,  2.13751306e+00,\n",
              "       -8.01398302e-01, -1.21712156e+00, -5.89908672e+00,  1.54529305e+00,\n",
              "        2.36004288e+00, -1.01637959e+00, -4.07138009e+00,  9.45293045e-01,\n",
              "        1.47834372e+00, -2.09276856e+00,  1.63128751e+00, -1.35842273e+00,\n",
              "        1.73238166e+00,  1.29815655e+00,  1.26387827e+00, -8.12712890e-01,\n",
              "        1.30442706e+00,  2.64962101e+00,  1.91736841e+00, -1.22568010e+00,\n",
              "       -2.91468858e+00, -2.54706955e-01, -2.23055767e+00,  2.07386027e+00,\n",
              "       -5.30347422e+00,  4.62976676e-01,  2.64529305e+00, -8.54706955e-01,\n",
              "        7.25798730e-01,  3.66795451e+00,  1.08753081e+00, -1.88963210e+00,\n",
              "        1.34639689e+00,  1.65176372e+00,  1.40549562e+01,  1.64989566e+01,\n",
              "       -6.90882705e+00,  7.45293045e-01, -1.62737969e+00,  2.59360128e+00,\n",
              "        9.52834088e-01,  4.48262131e+00, -3.54706955e-01, -3.46037999e+00,\n",
              "       -1.71256231e+00,  3.30705460e+00, -4.90704875e+00,  3.32039797e+00,\n",
              "       -1.64486767e+00, -3.38347921e+00, -2.23837979e+00, -8.66533789e-01,\n",
              "        3.82665747e-01, -2.25470695e+00,  5.17194973e+00,  2.41962480e-01,\n",
              "       -4.23778404e+00, -9.15748252e-01,  5.84529305e+00, -5.75470695e+00,\n",
              "       -9.04034420e-01,  4.44529305e+00, -2.56005644e+00, -5.15470695e+00,\n",
              "       -5.49704699e+00, -2.33230658e+00,  3.03482922e+01, -6.20283041e+00,\n",
              "       -1.00637456e+01, -6.54706955e-01,  2.43140760e+00,  2.13869574e+01,\n",
              "       -5.70735449e-01,  1.18146225e+01,  4.82035676e+00,  7.68528959e+00,\n",
              "        1.50701875e+00, -2.44204649e+00,  5.09362141e+00,  1.22899441e+00,\n",
              "        4.58596144e+00,  2.00761300e+00, -9.24388571e+00,  6.43264808e+00,\n",
              "        1.14529305e+00,  2.08199946e+01,  2.06919525e+00, -1.07923812e+01,\n",
              "        3.05695441e+00,  3.26062111e+00,  2.24200831e+00,  3.62546265e+01,\n",
              "       -4.68238019e+00,  5.00810077e-01, -1.09547070e+01, -7.33004729e+00,\n",
              "        4.68628801e+00,  8.55595531e+00,  1.77321768e+00])"
            ]
          },
          "metadata": {
            "tags": []
          },
          "execution_count": 58
        }
      ]
    },
    {
      "cell_type": "code",
      "metadata": {
        "id": "whVlY7zy4S_S"
      },
      "source": [
        "Test = Test[Test['cust_payment_terms'].notna()]\n",
        "local_test = local_test[local_test['cust_payment_terms'].notna()]\n",
        "val = val[val['cust_payment_terms'].notna()]\n",
        "\n",
        "Test = Test[Test['cust_number'].notna()]\n",
        "local_test = local_test[local_test['cust_number'].notna()]\n",
        "val = val[val['cust_number'].notna()]"
      ],
      "execution_count": null,
      "outputs": []
    },
    {
      "cell_type": "code",
      "metadata": {
        "id": "mxOwHEoO4S_S",
        "outputId": "ff33074c-7af9-4bf3-fbd5-952693127cdc"
      },
      "source": [
        "train['cust_payment_terms'].unique()"
      ],
      "execution_count": null,
      "outputs": [
        {
          "output_type": "execute_result",
          "data": {
            "text/plain": [
              "array([ 8.67307692e+00,  6.31407407e+00,  1.96959064e+01,  1.06417112e+00,\n",
              "        5.59595537e+00,  1.31064624e+00,  1.61479863e+00,  2.54212062e+00,\n",
              "       -7.66341562e-01, -1.89094975e+00,  2.45210728e+00, -3.72138229e+00,\n",
              "        5.94405594e-01, -6.54318454e+00,  1.09858491e+01,  9.91847826e-02,\n",
              "       -3.88900454e+00, -1.49652007e+01,  1.58089669e+00,  6.90671031e-01,\n",
              "       -7.33116883e+00,  2.10890218e+00,  4.63797878e+00,  4.40149254e+01,\n",
              "       -7.62816120e+00,  1.24201342e+00, -1.04377104e+00,  8.11320803e+00,\n",
              "        1.36683809e+00,  6.57039111e+00,  6.90586091e-01,  4.78669615e+00,\n",
              "       -1.35028249e+01, -1.55554469e+00,  5.98571480e+00,  2.44529305e+00,\n",
              "       -5.56034298e+00,  2.85328771e+00,  1.21780178e+00,  3.82665747e-01,\n",
              "        2.85548764e+01,  8.26054771e-01,  5.34172438e-01,  1.26387827e+00,\n",
              "       -2.42343834e+01, -1.35470695e+00, -9.15363504e+00, -9.08283054e+00,\n",
              "        1.95391021e-03,  8.35636431e-01,  8.55595531e+00,  8.16620710e-01,\n",
              "       -6.81653941e+00])"
            ]
          },
          "metadata": {
            "tags": []
          },
          "execution_count": 60
        }
      ]
    },
    {
      "cell_type": "code",
      "metadata": {
        "id": "klQ0iW5a4S_S",
        "outputId": "379d198c-a139-4e79-ebdb-fe293ed9766b"
      },
      "source": [
        "train.head()"
      ],
      "execution_count": null,
      "outputs": [
        {
          "output_type": "execute_result",
          "data": {
            "text/html": [
              "<div>\n",
              "<style scoped>\n",
              "    .dataframe tbody tr th:only-of-type {\n",
              "        vertical-align: middle;\n",
              "    }\n",
              "\n",
              "    .dataframe tbody tr th {\n",
              "        vertical-align: top;\n",
              "    }\n",
              "\n",
              "    .dataframe thead th {\n",
              "        text-align: right;\n",
              "    }\n",
              "</style>\n",
              "<table border=\"1\" class=\"dataframe\">\n",
              "  <thead>\n",
              "    <tr style=\"text-align: right;\">\n",
              "      <th></th>\n",
              "      <th>business_code</th>\n",
              "      <th>cust_number</th>\n",
              "      <th>name_customer</th>\n",
              "      <th>clear_date</th>\n",
              "      <th>buisness_year</th>\n",
              "      <th>doc_id</th>\n",
              "      <th>posting_date</th>\n",
              "      <th>document_create_date.1</th>\n",
              "      <th>due_in_date</th>\n",
              "      <th>invoice_currency</th>\n",
              "      <th>total_open_amount</th>\n",
              "      <th>baseline_create_date</th>\n",
              "      <th>cust_payment_terms</th>\n",
              "      <th>isOpen</th>\n",
              "      <th>Target_days</th>\n",
              "    </tr>\n",
              "  </thead>\n",
              "  <tbody>\n",
              "    <tr>\n",
              "      <th>12094</th>\n",
              "      <td>2</td>\n",
              "      <td>5.258796</td>\n",
              "      <td>WAL MA in</td>\n",
              "      <td>2019-02-14</td>\n",
              "      <td>2019.0</td>\n",
              "      <td>1.990563e+09</td>\n",
              "      <td>2018-12-30</td>\n",
              "      <td>2018-12-30</td>\n",
              "      <td>2019-02-03</td>\n",
              "      <td>USD</td>\n",
              "      <td>16416.00</td>\n",
              "      <td>2018-12-30</td>\n",
              "      <td>8.673077</td>\n",
              "      <td>0</td>\n",
              "      <td>11</td>\n",
              "    </tr>\n",
              "    <tr>\n",
              "      <th>12464</th>\n",
              "      <td>0</td>\n",
              "      <td>1.020287</td>\n",
              "      <td>LONGO</td>\n",
              "      <td>2019-01-16</td>\n",
              "      <td>2019.0</td>\n",
              "      <td>2.960521e+09</td>\n",
              "      <td>2018-12-30</td>\n",
              "      <td>2018-12-30</td>\n",
              "      <td>2019-01-12</td>\n",
              "      <td>CAD</td>\n",
              "      <td>52525.82</td>\n",
              "      <td>2019-01-02</td>\n",
              "      <td>6.314074</td>\n",
              "      <td>0</td>\n",
              "      <td>4</td>\n",
              "    </tr>\n",
              "    <tr>\n",
              "      <th>33048</th>\n",
              "      <td>0</td>\n",
              "      <td>2.492784</td>\n",
              "      <td>COSTCO</td>\n",
              "      <td>2019-01-18</td>\n",
              "      <td>2019.0</td>\n",
              "      <td>2.960520e+09</td>\n",
              "      <td>2018-12-31</td>\n",
              "      <td>2018-12-31</td>\n",
              "      <td>2019-01-13</td>\n",
              "      <td>CAD</td>\n",
              "      <td>80827.93</td>\n",
              "      <td>2019-01-03</td>\n",
              "      <td>6.314074</td>\n",
              "      <td>0</td>\n",
              "      <td>5</td>\n",
              "    </tr>\n",
              "    <tr>\n",
              "      <th>41158</th>\n",
              "      <td>5</td>\n",
              "      <td>0.690586</td>\n",
              "      <td>ALIMENTO corp</td>\n",
              "      <td>2019-05-24</td>\n",
              "      <td>2019.0</td>\n",
              "      <td>1.991820e+09</td>\n",
              "      <td>2018-12-31</td>\n",
              "      <td>2018-12-31</td>\n",
              "      <td>2019-02-14</td>\n",
              "      <td>USD</td>\n",
              "      <td>18409.73</td>\n",
              "      <td>2018-12-31</td>\n",
              "      <td>19.695906</td>\n",
              "      <td>0</td>\n",
              "      <td>99</td>\n",
              "    </tr>\n",
              "    <tr>\n",
              "      <th>8045</th>\n",
              "      <td>2</td>\n",
              "      <td>2.045293</td>\n",
              "      <td>JOSE us</td>\n",
              "      <td>2019-02-12</td>\n",
              "      <td>2019.0</td>\n",
              "      <td>1.990563e+09</td>\n",
              "      <td>2018-12-31</td>\n",
              "      <td>2018-12-31</td>\n",
              "      <td>2019-02-04</td>\n",
              "      <td>USD</td>\n",
              "      <td>29841.11</td>\n",
              "      <td>2018-12-31</td>\n",
              "      <td>8.673077</td>\n",
              "      <td>0</td>\n",
              "      <td>8</td>\n",
              "    </tr>\n",
              "  </tbody>\n",
              "</table>\n",
              "</div>"
            ],
            "text/plain": [
              "       business_code  cust_number  name_customer clear_date  buisness_year  \\\n",
              "12094              2     5.258796      WAL MA in 2019-02-14         2019.0   \n",
              "12464              0     1.020287        LONGO   2019-01-16         2019.0   \n",
              "33048              0     2.492784        COSTCO  2019-01-18         2019.0   \n",
              "41158              5     0.690586  ALIMENTO corp 2019-05-24         2019.0   \n",
              "8045               2     2.045293        JOSE us 2019-02-12         2019.0   \n",
              "\n",
              "             doc_id posting_date document_create_date.1 due_in_date  \\\n",
              "12094  1.990563e+09   2018-12-30             2018-12-30  2019-02-03   \n",
              "12464  2.960521e+09   2018-12-30             2018-12-30  2019-01-12   \n",
              "33048  2.960520e+09   2018-12-31             2018-12-31  2019-01-13   \n",
              "41158  1.991820e+09   2018-12-31             2018-12-31  2019-02-14   \n",
              "8045   1.990563e+09   2018-12-31             2018-12-31  2019-02-04   \n",
              "\n",
              "      invoice_currency  total_open_amount baseline_create_date  \\\n",
              "12094              USD           16416.00           2018-12-30   \n",
              "12464              CAD           52525.82           2019-01-02   \n",
              "33048              CAD           80827.93           2019-01-03   \n",
              "41158              USD           18409.73           2018-12-31   \n",
              "8045               USD           29841.11           2018-12-31   \n",
              "\n",
              "       cust_payment_terms  isOpen  Target_days  \n",
              "12094            8.673077       0           11  \n",
              "12464            6.314074       0            4  \n",
              "33048            6.314074       0            5  \n",
              "41158           19.695906       0           99  \n",
              "8045             8.673077       0            8  "
            ]
          },
          "metadata": {
            "tags": []
          },
          "execution_count": 61
        }
      ]
    },
    {
      "cell_type": "code",
      "metadata": {
        "id": "2VZ__qId4S_T",
        "outputId": "7d5803bc-98fb-4ac6-93b6-f1488ea4fb32"
      },
      "source": [
        "train.info()"
      ],
      "execution_count": null,
      "outputs": [
        {
          "output_type": "stream",
          "text": [
            "<class 'pandas.core.frame.DataFrame'>\n",
            "Int64Index: 25781 entries, 12094 to 20570\n",
            "Data columns (total 15 columns):\n",
            " #   Column                  Non-Null Count  Dtype         \n",
            "---  ------                  --------------  -----         \n",
            " 0   business_code           25781 non-null  int32         \n",
            " 1   cust_number             25781 non-null  float64       \n",
            " 2   name_customer           25781 non-null  object        \n",
            " 3   clear_date              25781 non-null  datetime64[ns]\n",
            " 4   buisness_year           25781 non-null  float64       \n",
            " 5   doc_id                  25781 non-null  float64       \n",
            " 6   posting_date            25781 non-null  datetime64[ns]\n",
            " 7   document_create_date.1  25781 non-null  datetime64[ns]\n",
            " 8   due_in_date             25781 non-null  datetime64[ns]\n",
            " 9   invoice_currency        25781 non-null  object        \n",
            " 10  total_open_amount       25781 non-null  float64       \n",
            " 11  baseline_create_date    25781 non-null  datetime64[ns]\n",
            " 12  cust_payment_terms      25781 non-null  float64       \n",
            " 13  isOpen                  25781 non-null  int64         \n",
            " 14  Target_days             25781 non-null  int64         \n",
            "dtypes: datetime64[ns](5), float64(5), int32(1), int64(2), object(2)\n",
            "memory usage: 4.1+ MB\n"
          ],
          "name": "stdout"
        }
      ]
    },
    {
      "cell_type": "code",
      "metadata": {
        "id": "gVtxu0Le4S_T"
      },
      "source": [
        "train['buisness_year']=train['buisness_year'].astype(int)     # Changing float to int."
      ],
      "execution_count": null,
      "outputs": []
    },
    {
      "cell_type": "code",
      "metadata": {
        "id": "EtDX9jOx4S_U",
        "outputId": "9040fa80-f007-4092-bd01-5f29c064b76a"
      },
      "source": [
        "train[\"business_code\"].unique()"
      ],
      "execution_count": null,
      "outputs": [
        {
          "output_type": "execute_result",
          "data": {
            "text/plain": [
              "array([2, 0, 5, 1, 3, 4])"
            ]
          },
          "metadata": {
            "tags": []
          },
          "execution_count": 64
        }
      ]
    },
    {
      "cell_type": "markdown",
      "metadata": {
        "id": "BqO7MznL4S_U"
      },
      "source": [
        "### Now the Remaining Categorical Variables are:"
      ]
    },
    {
      "cell_type": "code",
      "metadata": {
        "id": "bfISY1Eq4S_U",
        "outputId": "c2ee031a-69f1-4f13-ad54-ba51c57f990f"
      },
      "source": [
        "o = train.describe(include=\"O\")\n",
        "o"
      ],
      "execution_count": null,
      "outputs": [
        {
          "output_type": "execute_result",
          "data": {
            "text/html": [
              "<div>\n",
              "<style scoped>\n",
              "    .dataframe tbody tr th:only-of-type {\n",
              "        vertical-align: middle;\n",
              "    }\n",
              "\n",
              "    .dataframe tbody tr th {\n",
              "        vertical-align: top;\n",
              "    }\n",
              "\n",
              "    .dataframe thead th {\n",
              "        text-align: right;\n",
              "    }\n",
              "</style>\n",
              "<table border=\"1\" class=\"dataframe\">\n",
              "  <thead>\n",
              "    <tr style=\"text-align: right;\">\n",
              "      <th></th>\n",
              "      <th>name_customer</th>\n",
              "      <th>invoice_currency</th>\n",
              "    </tr>\n",
              "  </thead>\n",
              "  <tbody>\n",
              "    <tr>\n",
              "      <th>count</th>\n",
              "      <td>25781</td>\n",
              "      <td>25781</td>\n",
              "    </tr>\n",
              "    <tr>\n",
              "      <th>unique</th>\n",
              "      <td>3234</td>\n",
              "      <td>2</td>\n",
              "    </tr>\n",
              "    <tr>\n",
              "      <th>top</th>\n",
              "      <td>WAL-MAR llc</td>\n",
              "      <td>USD</td>\n",
              "    </tr>\n",
              "    <tr>\n",
              "      <th>freq</th>\n",
              "      <td>656</td>\n",
              "      <td>25078</td>\n",
              "    </tr>\n",
              "  </tbody>\n",
              "</table>\n",
              "</div>"
            ],
            "text/plain": [
              "       name_customer invoice_currency\n",
              "count          25781            25781\n",
              "unique          3234                2\n",
              "top      WAL-MAR llc              USD\n",
              "freq             656            25078"
            ]
          },
          "metadata": {
            "tags": []
          },
          "execution_count": 65
        }
      ]
    },
    {
      "cell_type": "markdown",
      "metadata": {
        "id": "Bth2RNvn4S_U"
      },
      "source": [
        "### Converting invoice_currency from CAD to USD"
      ]
    },
    {
      "cell_type": "code",
      "metadata": {
        "id": "psEFklW34S_U",
        "outputId": "74e96461-316e-4ae4-ff82-e53f455c4055"
      },
      "source": [
        "train[\"invoice_currency\"].unique()"
      ],
      "execution_count": null,
      "outputs": [
        {
          "output_type": "execute_result",
          "data": {
            "text/plain": [
              "array(['USD', 'CAD'], dtype=object)"
            ]
          },
          "metadata": {
            "tags": []
          },
          "execution_count": 66
        }
      ]
    },
    {
      "cell_type": "code",
      "metadata": {
        "id": "aRKevpmQ4S_V"
      },
      "source": [
        "train.loc[train.invoice_currency == \"CAD\", \"total_open_amount\"] = (train[\"total_open_amount\"]*.78)\n",
        "train.loc[train.invoice_currency == \"CAD\", \"invoice_currency\"] = \"USD\""
      ],
      "execution_count": null,
      "outputs": []
    },
    {
      "cell_type": "code",
      "metadata": {
        "id": "bZyoDC4i4S_V"
      },
      "source": [
        "val1.loc[val1.invoice_currency == \"CAD\", \"total_open_amount\"] = (val1[\"total_open_amount\"]*.78)\n",
        "val1.loc[val1.invoice_currency == \"CAD\", \"invoice_currency\"] = \"USD\""
      ],
      "execution_count": null,
      "outputs": []
    },
    {
      "cell_type": "code",
      "metadata": {
        "id": "DrM3E4BO4S_V"
      },
      "source": [
        "local_test.loc[local_test.invoice_currency == \"CAD\", \"total_open_amount\"] = (local_test[\"total_open_amount\"]*.78)\n",
        "local_test.loc[local_test.invoice_currency == \"CAD\", \"invoice_currency\"] = \"USD\""
      ],
      "execution_count": null,
      "outputs": []
    },
    {
      "cell_type": "code",
      "metadata": {
        "id": "SjBRN_Mx4S_V"
      },
      "source": [
        "Test.loc[Test.invoice_currency == \"CAD\", \"total_open_amount\"] = (Test[\"total_open_amount\"]*.78)\n",
        "Test.loc[Test.invoice_currency == \"CAD\", \"invoice_currency\"] = \"USD\""
      ],
      "execution_count": null,
      "outputs": []
    },
    {
      "cell_type": "code",
      "metadata": {
        "id": "0kMNh_1U4S_W"
      },
      "source": [
        "train.loc[train.invoice_currency == \"CAD\", \"invoice_currency\"] = \"USD\""
      ],
      "execution_count": null,
      "outputs": []
    },
    {
      "cell_type": "code",
      "metadata": {
        "id": "g2RsvhzO4S_W",
        "outputId": "0317f4f5-ad2e-47af-ada4-ffff2dc3aabf"
      },
      "source": [
        "train[\"invoice_currency\"].unique()"
      ],
      "execution_count": null,
      "outputs": [
        {
          "output_type": "execute_result",
          "data": {
            "text/plain": [
              "array(['USD'], dtype=object)"
            ]
          },
          "metadata": {
            "tags": []
          },
          "execution_count": 72
        }
      ]
    },
    {
      "cell_type": "code",
      "metadata": {
        "id": "eS7JYr3r4S_W",
        "outputId": "70dfbf0f-5525-426c-9008-4f82547e3637"
      },
      "source": [
        "train.head()"
      ],
      "execution_count": null,
      "outputs": [
        {
          "output_type": "execute_result",
          "data": {
            "text/html": [
              "<div>\n",
              "<style scoped>\n",
              "    .dataframe tbody tr th:only-of-type {\n",
              "        vertical-align: middle;\n",
              "    }\n",
              "\n",
              "    .dataframe tbody tr th {\n",
              "        vertical-align: top;\n",
              "    }\n",
              "\n",
              "    .dataframe thead th {\n",
              "        text-align: right;\n",
              "    }\n",
              "</style>\n",
              "<table border=\"1\" class=\"dataframe\">\n",
              "  <thead>\n",
              "    <tr style=\"text-align: right;\">\n",
              "      <th></th>\n",
              "      <th>business_code</th>\n",
              "      <th>cust_number</th>\n",
              "      <th>name_customer</th>\n",
              "      <th>clear_date</th>\n",
              "      <th>buisness_year</th>\n",
              "      <th>doc_id</th>\n",
              "      <th>posting_date</th>\n",
              "      <th>document_create_date.1</th>\n",
              "      <th>due_in_date</th>\n",
              "      <th>invoice_currency</th>\n",
              "      <th>total_open_amount</th>\n",
              "      <th>baseline_create_date</th>\n",
              "      <th>cust_payment_terms</th>\n",
              "      <th>isOpen</th>\n",
              "      <th>Target_days</th>\n",
              "    </tr>\n",
              "  </thead>\n",
              "  <tbody>\n",
              "    <tr>\n",
              "      <th>12094</th>\n",
              "      <td>2</td>\n",
              "      <td>5.258796</td>\n",
              "      <td>WAL MA in</td>\n",
              "      <td>2019-02-14</td>\n",
              "      <td>2019</td>\n",
              "      <td>1.990563e+09</td>\n",
              "      <td>2018-12-30</td>\n",
              "      <td>2018-12-30</td>\n",
              "      <td>2019-02-03</td>\n",
              "      <td>USD</td>\n",
              "      <td>16416.0000</td>\n",
              "      <td>2018-12-30</td>\n",
              "      <td>8.673077</td>\n",
              "      <td>0</td>\n",
              "      <td>11</td>\n",
              "    </tr>\n",
              "    <tr>\n",
              "      <th>12464</th>\n",
              "      <td>0</td>\n",
              "      <td>1.020287</td>\n",
              "      <td>LONGO</td>\n",
              "      <td>2019-01-16</td>\n",
              "      <td>2019</td>\n",
              "      <td>2.960521e+09</td>\n",
              "      <td>2018-12-30</td>\n",
              "      <td>2018-12-30</td>\n",
              "      <td>2019-01-12</td>\n",
              "      <td>USD</td>\n",
              "      <td>40970.1396</td>\n",
              "      <td>2019-01-02</td>\n",
              "      <td>6.314074</td>\n",
              "      <td>0</td>\n",
              "      <td>4</td>\n",
              "    </tr>\n",
              "    <tr>\n",
              "      <th>33048</th>\n",
              "      <td>0</td>\n",
              "      <td>2.492784</td>\n",
              "      <td>COSTCO</td>\n",
              "      <td>2019-01-18</td>\n",
              "      <td>2019</td>\n",
              "      <td>2.960520e+09</td>\n",
              "      <td>2018-12-31</td>\n",
              "      <td>2018-12-31</td>\n",
              "      <td>2019-01-13</td>\n",
              "      <td>USD</td>\n",
              "      <td>63045.7854</td>\n",
              "      <td>2019-01-03</td>\n",
              "      <td>6.314074</td>\n",
              "      <td>0</td>\n",
              "      <td>5</td>\n",
              "    </tr>\n",
              "    <tr>\n",
              "      <th>41158</th>\n",
              "      <td>5</td>\n",
              "      <td>0.690586</td>\n",
              "      <td>ALIMENTO corp</td>\n",
              "      <td>2019-05-24</td>\n",
              "      <td>2019</td>\n",
              "      <td>1.991820e+09</td>\n",
              "      <td>2018-12-31</td>\n",
              "      <td>2018-12-31</td>\n",
              "      <td>2019-02-14</td>\n",
              "      <td>USD</td>\n",
              "      <td>18409.7300</td>\n",
              "      <td>2018-12-31</td>\n",
              "      <td>19.695906</td>\n",
              "      <td>0</td>\n",
              "      <td>99</td>\n",
              "    </tr>\n",
              "    <tr>\n",
              "      <th>8045</th>\n",
              "      <td>2</td>\n",
              "      <td>2.045293</td>\n",
              "      <td>JOSE us</td>\n",
              "      <td>2019-02-12</td>\n",
              "      <td>2019</td>\n",
              "      <td>1.990563e+09</td>\n",
              "      <td>2018-12-31</td>\n",
              "      <td>2018-12-31</td>\n",
              "      <td>2019-02-04</td>\n",
              "      <td>USD</td>\n",
              "      <td>29841.1100</td>\n",
              "      <td>2018-12-31</td>\n",
              "      <td>8.673077</td>\n",
              "      <td>0</td>\n",
              "      <td>8</td>\n",
              "    </tr>\n",
              "  </tbody>\n",
              "</table>\n",
              "</div>"
            ],
            "text/plain": [
              "       business_code  cust_number  name_customer clear_date  buisness_year  \\\n",
              "12094              2     5.258796      WAL MA in 2019-02-14           2019   \n",
              "12464              0     1.020287        LONGO   2019-01-16           2019   \n",
              "33048              0     2.492784        COSTCO  2019-01-18           2019   \n",
              "41158              5     0.690586  ALIMENTO corp 2019-05-24           2019   \n",
              "8045               2     2.045293        JOSE us 2019-02-12           2019   \n",
              "\n",
              "             doc_id posting_date document_create_date.1 due_in_date  \\\n",
              "12094  1.990563e+09   2018-12-30             2018-12-30  2019-02-03   \n",
              "12464  2.960521e+09   2018-12-30             2018-12-30  2019-01-12   \n",
              "33048  2.960520e+09   2018-12-31             2018-12-31  2019-01-13   \n",
              "41158  1.991820e+09   2018-12-31             2018-12-31  2019-02-14   \n",
              "8045   1.990563e+09   2018-12-31             2018-12-31  2019-02-04   \n",
              "\n",
              "      invoice_currency  total_open_amount baseline_create_date  \\\n",
              "12094              USD         16416.0000           2018-12-30   \n",
              "12464              USD         40970.1396           2019-01-02   \n",
              "33048              USD         63045.7854           2019-01-03   \n",
              "41158              USD         18409.7300           2018-12-31   \n",
              "8045               USD         29841.1100           2018-12-31   \n",
              "\n",
              "       cust_payment_terms  isOpen  Target_days  \n",
              "12094            8.673077       0           11  \n",
              "12464            6.314074       0            4  \n",
              "33048            6.314074       0            5  \n",
              "41158           19.695906       0           99  \n",
              "8045             8.673077       0            8  "
            ]
          },
          "metadata": {
            "tags": []
          },
          "execution_count": 73
        }
      ]
    },
    {
      "cell_type": "markdown",
      "metadata": {
        "id": "KhIisZ9M4S_W"
      },
      "source": [
        "Now invoice_currency is of no use.We will remove it in Feature Selection."
      ]
    },
    {
      "cell_type": "markdown",
      "metadata": {
        "id": "hLiVoWct4S_W"
      },
      "source": [
        "## Making features out of date."
      ]
    },
    {
      "cell_type": "code",
      "metadata": {
        "id": "cTGrD3Yk4S_X"
      },
      "source": [
        "## Extracting useful info from due_date column for ML model to understand\n",
        "train['day_of_due'] =  train['due_in_date'].dt.day\n",
        "train['month_of_due'] =  train['due_in_date'].dt.month\n",
        "train['year_of_due'] =  train['due_in_date'].dt.year\n",
        "train['weekday_of_due'] =  train['due_in_date'].dt.quarter\n",
        "train['quarter_of_due'] =  train['due_in_date'].dt.quarter\n",
        "\n",
        "# Mapping same changes on validation set\n",
        "val1['day_of_due'] =  val1['due_in_date'].dt.day\n",
        "val1['month_of_due'] =  val1['due_in_date'].dt.month\n",
        "val1['year_of_due'] =  val1['due_in_date'].dt.year\n",
        "val1['weekday_of_due'] =  val1['due_in_date'].dt.quarter\n",
        "val1['quarter_of_due'] =  val1['due_in_date'].dt.quarter\n",
        "\n",
        "\n",
        "# Mapping same changes on local_test set\n",
        "local_test['day_of_due'] =  local_test['due_in_date'].dt.day\n",
        "local_test['month_of_due'] =  local_test['due_in_date'].dt.month\n",
        "local_test['year_of_due'] =  local_test['due_in_date'].dt.year\n",
        "local_test['weekday_of_due'] =  local_test['due_in_date'].dt.quarter\n",
        "local_test['quarter_of_due'] =  local_test['due_in_date'].dt.quarter\n",
        "\n",
        "# Mapping same changes on test set\n",
        "Test['day_of_due'] =  Test['due_in_date'].dt.day\n",
        "Test['month_of_due'] =  Test['due_in_date'].dt.month\n",
        "Test['year_of_due'] =  Test['due_in_date'].dt.year\n",
        "Test['weekday_of_due'] =  Test['due_in_date'].dt.quarter\n",
        "Test['quarter_of_due'] =  Test['due_in_date'].dt.quarter"
      ],
      "execution_count": null,
      "outputs": []
    },
    {
      "cell_type": "code",
      "metadata": {
        "id": "27oOZG864S_X"
      },
      "source": [
        "## Extracting useful info from document_create_date.1 column for ML model to understand\n",
        "train['day_document_creation'] =  train['document_create_date.1'].dt.day\n",
        "train['month_of_document_creation'] =  train['document_create_date.1'].dt.month\n",
        "train['year_of_document_creation'] =  train['document_create_date.1'].dt.year\n",
        "train['weekday_of_document_creation'] =  train['document_create_date.1'].dt.dayofweek\n",
        "train['quarter_of_document_creation'] =  train['document_create_date.1'].dt.quarter\n",
        "\n",
        "\n",
        "# Mapping same changes on local_test set\n",
        "local_test['day_document_creation'] =  local_test['document_create_date.1'].dt.day\n",
        "local_test['month_of_document_creation'] =  local_test['document_create_date.1'].dt.month\n",
        "local_test['year_of_document_creation'] =  local_test['document_create_date.1'].dt.year\n",
        "local_test['weekday_of_document_creation'] =  local_test['document_create_date.1'].dt.dayofweek\n",
        "local_test['quarter_of_document_creation'] =  local_test['document_create_date.1'].dt.quarter\n",
        "\n",
        "# Mapping same changes on validation set\n",
        "val1['day_document_creation'] =  val1['document_create_date.1'].dt.day\n",
        "val1['month_of_document_creation'] =  val1['document_create_date.1'].dt.month\n",
        "val1['year_of_document_creation'] =  val1['document_create_date.1'].dt.year\n",
        "val1['weekday_of_document_creation'] =  val1['document_create_date.1'].dt.dayofweek\n",
        "val1['quarter_of_document_creation'] =  val1['document_create_date.1'].dt.quarter\n",
        "\n",
        "# Mapping same changes on test set\n",
        "Test['day_document_creation'] =  Test['document_create_date.1'].dt.day\n",
        "Test['month_of_document_creation'] =  Test['document_create_date.1'].dt.month\n",
        "Test['year_of_document_creation'] =  Test['document_create_date.1'].dt.year\n",
        "Test['weekday_of_document_creation'] =  Test['document_create_date.1'].dt.dayofweek\n",
        "Test['quarter_of_document_creation'] =  Test['document_create_date.1'].dt.quarter"
      ],
      "execution_count": null,
      "outputs": []
    },
    {
      "cell_type": "code",
      "metadata": {
        "id": "oFH0EMHd4S_X",
        "outputId": "f1e958f5-6108-4558-a869-aaf2d6b0537d"
      },
      "source": [
        "train.head()"
      ],
      "execution_count": null,
      "outputs": [
        {
          "output_type": "execute_result",
          "data": {
            "text/html": [
              "<div>\n",
              "<style scoped>\n",
              "    .dataframe tbody tr th:only-of-type {\n",
              "        vertical-align: middle;\n",
              "    }\n",
              "\n",
              "    .dataframe tbody tr th {\n",
              "        vertical-align: top;\n",
              "    }\n",
              "\n",
              "    .dataframe thead th {\n",
              "        text-align: right;\n",
              "    }\n",
              "</style>\n",
              "<table border=\"1\" class=\"dataframe\">\n",
              "  <thead>\n",
              "    <tr style=\"text-align: right;\">\n",
              "      <th></th>\n",
              "      <th>business_code</th>\n",
              "      <th>cust_number</th>\n",
              "      <th>name_customer</th>\n",
              "      <th>clear_date</th>\n",
              "      <th>buisness_year</th>\n",
              "      <th>doc_id</th>\n",
              "      <th>posting_date</th>\n",
              "      <th>document_create_date.1</th>\n",
              "      <th>due_in_date</th>\n",
              "      <th>invoice_currency</th>\n",
              "      <th>...</th>\n",
              "      <th>day_of_due</th>\n",
              "      <th>month_of_due</th>\n",
              "      <th>year_of_due</th>\n",
              "      <th>weekday_of_due</th>\n",
              "      <th>quarter_of_due</th>\n",
              "      <th>day_document_creation</th>\n",
              "      <th>month_of_document_creation</th>\n",
              "      <th>year_of_document_creation</th>\n",
              "      <th>weekday_of_document_creation</th>\n",
              "      <th>quarter_of_document_creation</th>\n",
              "    </tr>\n",
              "  </thead>\n",
              "  <tbody>\n",
              "    <tr>\n",
              "      <th>12094</th>\n",
              "      <td>2</td>\n",
              "      <td>5.258796</td>\n",
              "      <td>WAL MA in</td>\n",
              "      <td>2019-02-14</td>\n",
              "      <td>2019</td>\n",
              "      <td>1.990563e+09</td>\n",
              "      <td>2018-12-30</td>\n",
              "      <td>2018-12-30</td>\n",
              "      <td>2019-02-03</td>\n",
              "      <td>USD</td>\n",
              "      <td>...</td>\n",
              "      <td>3</td>\n",
              "      <td>2</td>\n",
              "      <td>2019</td>\n",
              "      <td>1</td>\n",
              "      <td>1</td>\n",
              "      <td>30</td>\n",
              "      <td>12</td>\n",
              "      <td>2018</td>\n",
              "      <td>6</td>\n",
              "      <td>4</td>\n",
              "    </tr>\n",
              "    <tr>\n",
              "      <th>12464</th>\n",
              "      <td>0</td>\n",
              "      <td>1.020287</td>\n",
              "      <td>LONGO</td>\n",
              "      <td>2019-01-16</td>\n",
              "      <td>2019</td>\n",
              "      <td>2.960521e+09</td>\n",
              "      <td>2018-12-30</td>\n",
              "      <td>2018-12-30</td>\n",
              "      <td>2019-01-12</td>\n",
              "      <td>USD</td>\n",
              "      <td>...</td>\n",
              "      <td>12</td>\n",
              "      <td>1</td>\n",
              "      <td>2019</td>\n",
              "      <td>1</td>\n",
              "      <td>1</td>\n",
              "      <td>30</td>\n",
              "      <td>12</td>\n",
              "      <td>2018</td>\n",
              "      <td>6</td>\n",
              "      <td>4</td>\n",
              "    </tr>\n",
              "    <tr>\n",
              "      <th>33048</th>\n",
              "      <td>0</td>\n",
              "      <td>2.492784</td>\n",
              "      <td>COSTCO</td>\n",
              "      <td>2019-01-18</td>\n",
              "      <td>2019</td>\n",
              "      <td>2.960520e+09</td>\n",
              "      <td>2018-12-31</td>\n",
              "      <td>2018-12-31</td>\n",
              "      <td>2019-01-13</td>\n",
              "      <td>USD</td>\n",
              "      <td>...</td>\n",
              "      <td>13</td>\n",
              "      <td>1</td>\n",
              "      <td>2019</td>\n",
              "      <td>1</td>\n",
              "      <td>1</td>\n",
              "      <td>31</td>\n",
              "      <td>12</td>\n",
              "      <td>2018</td>\n",
              "      <td>0</td>\n",
              "      <td>4</td>\n",
              "    </tr>\n",
              "    <tr>\n",
              "      <th>41158</th>\n",
              "      <td>5</td>\n",
              "      <td>0.690586</td>\n",
              "      <td>ALIMENTO corp</td>\n",
              "      <td>2019-05-24</td>\n",
              "      <td>2019</td>\n",
              "      <td>1.991820e+09</td>\n",
              "      <td>2018-12-31</td>\n",
              "      <td>2018-12-31</td>\n",
              "      <td>2019-02-14</td>\n",
              "      <td>USD</td>\n",
              "      <td>...</td>\n",
              "      <td>14</td>\n",
              "      <td>2</td>\n",
              "      <td>2019</td>\n",
              "      <td>1</td>\n",
              "      <td>1</td>\n",
              "      <td>31</td>\n",
              "      <td>12</td>\n",
              "      <td>2018</td>\n",
              "      <td>0</td>\n",
              "      <td>4</td>\n",
              "    </tr>\n",
              "    <tr>\n",
              "      <th>8045</th>\n",
              "      <td>2</td>\n",
              "      <td>2.045293</td>\n",
              "      <td>JOSE us</td>\n",
              "      <td>2019-02-12</td>\n",
              "      <td>2019</td>\n",
              "      <td>1.990563e+09</td>\n",
              "      <td>2018-12-31</td>\n",
              "      <td>2018-12-31</td>\n",
              "      <td>2019-02-04</td>\n",
              "      <td>USD</td>\n",
              "      <td>...</td>\n",
              "      <td>4</td>\n",
              "      <td>2</td>\n",
              "      <td>2019</td>\n",
              "      <td>1</td>\n",
              "      <td>1</td>\n",
              "      <td>31</td>\n",
              "      <td>12</td>\n",
              "      <td>2018</td>\n",
              "      <td>0</td>\n",
              "      <td>4</td>\n",
              "    </tr>\n",
              "  </tbody>\n",
              "</table>\n",
              "<p>5 rows × 25 columns</p>\n",
              "</div>"
            ],
            "text/plain": [
              "       business_code  cust_number  name_customer clear_date  buisness_year  \\\n",
              "12094              2     5.258796      WAL MA in 2019-02-14           2019   \n",
              "12464              0     1.020287        LONGO   2019-01-16           2019   \n",
              "33048              0     2.492784        COSTCO  2019-01-18           2019   \n",
              "41158              5     0.690586  ALIMENTO corp 2019-05-24           2019   \n",
              "8045               2     2.045293        JOSE us 2019-02-12           2019   \n",
              "\n",
              "             doc_id posting_date document_create_date.1 due_in_date  \\\n",
              "12094  1.990563e+09   2018-12-30             2018-12-30  2019-02-03   \n",
              "12464  2.960521e+09   2018-12-30             2018-12-30  2019-01-12   \n",
              "33048  2.960520e+09   2018-12-31             2018-12-31  2019-01-13   \n",
              "41158  1.991820e+09   2018-12-31             2018-12-31  2019-02-14   \n",
              "8045   1.990563e+09   2018-12-31             2018-12-31  2019-02-04   \n",
              "\n",
              "      invoice_currency  ...  day_of_due month_of_due  year_of_due  \\\n",
              "12094              USD  ...           3            2         2019   \n",
              "12464              USD  ...          12            1         2019   \n",
              "33048              USD  ...          13            1         2019   \n",
              "41158              USD  ...          14            2         2019   \n",
              "8045               USD  ...           4            2         2019   \n",
              "\n",
              "       weekday_of_due  quarter_of_due  day_document_creation  \\\n",
              "12094               1               1                     30   \n",
              "12464               1               1                     30   \n",
              "33048               1               1                     31   \n",
              "41158               1               1                     31   \n",
              "8045                1               1                     31   \n",
              "\n",
              "       month_of_document_creation  year_of_document_creation  \\\n",
              "12094                          12                       2018   \n",
              "12464                          12                       2018   \n",
              "33048                          12                       2018   \n",
              "41158                          12                       2018   \n",
              "8045                           12                       2018   \n",
              "\n",
              "       weekday_of_document_creation  quarter_of_document_creation  \n",
              "12094                             6                             4  \n",
              "12464                             6                             4  \n",
              "33048                             0                             4  \n",
              "41158                             0                             4  \n",
              "8045                              0                             4  \n",
              "\n",
              "[5 rows x 25 columns]"
            ]
          },
          "metadata": {
            "tags": []
          },
          "execution_count": 76
        }
      ]
    },
    {
      "cell_type": "code",
      "metadata": {
        "id": "QxSxQdpa4S_X",
        "outputId": "979c9fb5-ca8b-49c5-9cd2-bafb3b017bdd"
      },
      "source": [
        "train.shape"
      ],
      "execution_count": null,
      "outputs": [
        {
          "output_type": "execute_result",
          "data": {
            "text/plain": [
              "(25781, 25)"
            ]
          },
          "metadata": {
            "tags": []
          },
          "execution_count": 77
        }
      ]
    },
    {
      "cell_type": "markdown",
      "metadata": {
        "id": "3CrA1wTF4S_X"
      },
      "source": [
        "# Feature Selection"
      ]
    },
    {
      "cell_type": "markdown",
      "metadata": {
        "id": "cWAPbfcG4S_Y"
      },
      "source": [
        "### Since the number of features are not very big we can handle the features manually through Filter method."
      ]
    },
    {
      "cell_type": "markdown",
      "metadata": {
        "id": "-omuN2_h4S_Y"
      },
      "source": [
        "#### Correlation of features:"
      ]
    },
    {
      "cell_type": "code",
      "metadata": {
        "scrolled": true,
        "id": "eevI8e3c4S_Y",
        "outputId": "a67f70dd-85cb-4a82-da5d-4e0d82e198c5"
      },
      "source": [
        "correlation_matrix = train.corr()\n",
        "correlated_features = set()\n",
        "correlation_matrix"
      ],
      "execution_count": null,
      "outputs": [
        {
          "output_type": "execute_result",
          "data": {
            "text/html": [
              "<div>\n",
              "<style scoped>\n",
              "    .dataframe tbody tr th:only-of-type {\n",
              "        vertical-align: middle;\n",
              "    }\n",
              "\n",
              "    .dataframe tbody tr th {\n",
              "        vertical-align: top;\n",
              "    }\n",
              "\n",
              "    .dataframe thead th {\n",
              "        text-align: right;\n",
              "    }\n",
              "</style>\n",
              "<table border=\"1\" class=\"dataframe\">\n",
              "  <thead>\n",
              "    <tr style=\"text-align: right;\">\n",
              "      <th></th>\n",
              "      <th>business_code</th>\n",
              "      <th>cust_number</th>\n",
              "      <th>buisness_year</th>\n",
              "      <th>doc_id</th>\n",
              "      <th>total_open_amount</th>\n",
              "      <th>cust_payment_terms</th>\n",
              "      <th>isOpen</th>\n",
              "      <th>Target_days</th>\n",
              "      <th>day_of_due</th>\n",
              "      <th>month_of_due</th>\n",
              "      <th>year_of_due</th>\n",
              "      <th>weekday_of_due</th>\n",
              "      <th>quarter_of_due</th>\n",
              "      <th>day_document_creation</th>\n",
              "      <th>month_of_document_creation</th>\n",
              "      <th>year_of_document_creation</th>\n",
              "      <th>weekday_of_document_creation</th>\n",
              "      <th>quarter_of_document_creation</th>\n",
              "    </tr>\n",
              "  </thead>\n",
              "  <tbody>\n",
              "    <tr>\n",
              "      <th>business_code</th>\n",
              "      <td>1.000000</td>\n",
              "      <td>0.078410</td>\n",
              "      <td>NaN</td>\n",
              "      <td>-0.274981</td>\n",
              "      <td>-0.024044</td>\n",
              "      <td>0.116799</td>\n",
              "      <td>NaN</td>\n",
              "      <td>0.072404</td>\n",
              "      <td>0.002368</td>\n",
              "      <td>0.092038</td>\n",
              "      <td>NaN</td>\n",
              "      <td>0.086495</td>\n",
              "      <td>0.086495</td>\n",
              "      <td>0.003623</td>\n",
              "      <td>0.056898</td>\n",
              "      <td>-0.012866</td>\n",
              "      <td>0.008089</td>\n",
              "      <td>0.056737</td>\n",
              "    </tr>\n",
              "    <tr>\n",
              "      <th>cust_number</th>\n",
              "      <td>0.078410</td>\n",
              "      <td>1.000000</td>\n",
              "      <td>NaN</td>\n",
              "      <td>0.124534</td>\n",
              "      <td>-0.037768</td>\n",
              "      <td>0.834819</td>\n",
              "      <td>NaN</td>\n",
              "      <td>0.641118</td>\n",
              "      <td>0.001049</td>\n",
              "      <td>-0.031570</td>\n",
              "      <td>NaN</td>\n",
              "      <td>-0.030634</td>\n",
              "      <td>-0.030634</td>\n",
              "      <td>0.004585</td>\n",
              "      <td>-0.023805</td>\n",
              "      <td>-0.003917</td>\n",
              "      <td>-0.005573</td>\n",
              "      <td>-0.020014</td>\n",
              "    </tr>\n",
              "    <tr>\n",
              "      <th>buisness_year</th>\n",
              "      <td>NaN</td>\n",
              "      <td>NaN</td>\n",
              "      <td>NaN</td>\n",
              "      <td>NaN</td>\n",
              "      <td>NaN</td>\n",
              "      <td>NaN</td>\n",
              "      <td>NaN</td>\n",
              "      <td>NaN</td>\n",
              "      <td>NaN</td>\n",
              "      <td>NaN</td>\n",
              "      <td>NaN</td>\n",
              "      <td>NaN</td>\n",
              "      <td>NaN</td>\n",
              "      <td>NaN</td>\n",
              "      <td>NaN</td>\n",
              "      <td>NaN</td>\n",
              "      <td>NaN</td>\n",
              "      <td>NaN</td>\n",
              "    </tr>\n",
              "    <tr>\n",
              "      <th>doc_id</th>\n",
              "      <td>-0.274981</td>\n",
              "      <td>0.124534</td>\n",
              "      <td>NaN</td>\n",
              "      <td>1.000000</td>\n",
              "      <td>-0.002737</td>\n",
              "      <td>0.146395</td>\n",
              "      <td>NaN</td>\n",
              "      <td>0.088828</td>\n",
              "      <td>-0.015890</td>\n",
              "      <td>-0.199394</td>\n",
              "      <td>NaN</td>\n",
              "      <td>-0.178083</td>\n",
              "      <td>-0.178083</td>\n",
              "      <td>-0.014387</td>\n",
              "      <td>-0.190032</td>\n",
              "      <td>-0.047002</td>\n",
              "      <td>-0.016318</td>\n",
              "      <td>-0.179003</td>\n",
              "    </tr>\n",
              "    <tr>\n",
              "      <th>total_open_amount</th>\n",
              "      <td>-0.024044</td>\n",
              "      <td>-0.037768</td>\n",
              "      <td>NaN</td>\n",
              "      <td>-0.002737</td>\n",
              "      <td>1.000000</td>\n",
              "      <td>0.023912</td>\n",
              "      <td>NaN</td>\n",
              "      <td>-0.007414</td>\n",
              "      <td>-0.010148</td>\n",
              "      <td>-0.009250</td>\n",
              "      <td>NaN</td>\n",
              "      <td>-0.007015</td>\n",
              "      <td>-0.007015</td>\n",
              "      <td>0.016212</td>\n",
              "      <td>-0.002813</td>\n",
              "      <td>-0.002238</td>\n",
              "      <td>-0.009689</td>\n",
              "      <td>-0.005431</td>\n",
              "    </tr>\n",
              "    <tr>\n",
              "      <th>cust_payment_terms</th>\n",
              "      <td>0.116799</td>\n",
              "      <td>0.834819</td>\n",
              "      <td>NaN</td>\n",
              "      <td>0.146395</td>\n",
              "      <td>0.023912</td>\n",
              "      <td>1.000000</td>\n",
              "      <td>NaN</td>\n",
              "      <td>0.604474</td>\n",
              "      <td>-0.003109</td>\n",
              "      <td>-0.065261</td>\n",
              "      <td>NaN</td>\n",
              "      <td>-0.061077</td>\n",
              "      <td>-0.061077</td>\n",
              "      <td>0.010467</td>\n",
              "      <td>-0.020134</td>\n",
              "      <td>-0.019571</td>\n",
              "      <td>-0.006655</td>\n",
              "      <td>-0.015169</td>\n",
              "    </tr>\n",
              "    <tr>\n",
              "      <th>isOpen</th>\n",
              "      <td>NaN</td>\n",
              "      <td>NaN</td>\n",
              "      <td>NaN</td>\n",
              "      <td>NaN</td>\n",
              "      <td>NaN</td>\n",
              "      <td>NaN</td>\n",
              "      <td>NaN</td>\n",
              "      <td>NaN</td>\n",
              "      <td>NaN</td>\n",
              "      <td>NaN</td>\n",
              "      <td>NaN</td>\n",
              "      <td>NaN</td>\n",
              "      <td>NaN</td>\n",
              "      <td>NaN</td>\n",
              "      <td>NaN</td>\n",
              "      <td>NaN</td>\n",
              "      <td>NaN</td>\n",
              "      <td>NaN</td>\n",
              "    </tr>\n",
              "    <tr>\n",
              "      <th>Target_days</th>\n",
              "      <td>0.072404</td>\n",
              "      <td>0.641118</td>\n",
              "      <td>NaN</td>\n",
              "      <td>0.088828</td>\n",
              "      <td>-0.007414</td>\n",
              "      <td>0.604474</td>\n",
              "      <td>NaN</td>\n",
              "      <td>1.000000</td>\n",
              "      <td>-0.014976</td>\n",
              "      <td>-0.048383</td>\n",
              "      <td>NaN</td>\n",
              "      <td>-0.044968</td>\n",
              "      <td>-0.044968</td>\n",
              "      <td>-0.010412</td>\n",
              "      <td>-0.019062</td>\n",
              "      <td>-0.029696</td>\n",
              "      <td>0.004510</td>\n",
              "      <td>-0.016020</td>\n",
              "    </tr>\n",
              "    <tr>\n",
              "      <th>day_of_due</th>\n",
              "      <td>0.002368</td>\n",
              "      <td>0.001049</td>\n",
              "      <td>NaN</td>\n",
              "      <td>-0.015890</td>\n",
              "      <td>-0.010148</td>\n",
              "      <td>-0.003109</td>\n",
              "      <td>NaN</td>\n",
              "      <td>-0.014976</td>\n",
              "      <td>1.000000</td>\n",
              "      <td>-0.076215</td>\n",
              "      <td>NaN</td>\n",
              "      <td>-0.082929</td>\n",
              "      <td>-0.082929</td>\n",
              "      <td>-0.357906</td>\n",
              "      <td>0.076085</td>\n",
              "      <td>0.010922</td>\n",
              "      <td>0.003354</td>\n",
              "      <td>0.062213</td>\n",
              "    </tr>\n",
              "    <tr>\n",
              "      <th>month_of_due</th>\n",
              "      <td>0.092038</td>\n",
              "      <td>-0.031570</td>\n",
              "      <td>NaN</td>\n",
              "      <td>-0.199394</td>\n",
              "      <td>-0.009250</td>\n",
              "      <td>-0.065261</td>\n",
              "      <td>NaN</td>\n",
              "      <td>-0.048383</td>\n",
              "      <td>-0.076215</td>\n",
              "      <td>1.000000</td>\n",
              "      <td>NaN</td>\n",
              "      <td>0.955094</td>\n",
              "      <td>0.955094</td>\n",
              "      <td>0.028396</td>\n",
              "      <td>0.969008</td>\n",
              "      <td>0.026719</td>\n",
              "      <td>0.001476</td>\n",
              "      <td>0.919735</td>\n",
              "    </tr>\n",
              "    <tr>\n",
              "      <th>year_of_due</th>\n",
              "      <td>NaN</td>\n",
              "      <td>NaN</td>\n",
              "      <td>NaN</td>\n",
              "      <td>NaN</td>\n",
              "      <td>NaN</td>\n",
              "      <td>NaN</td>\n",
              "      <td>NaN</td>\n",
              "      <td>NaN</td>\n",
              "      <td>NaN</td>\n",
              "      <td>NaN</td>\n",
              "      <td>NaN</td>\n",
              "      <td>NaN</td>\n",
              "      <td>NaN</td>\n",
              "      <td>NaN</td>\n",
              "      <td>NaN</td>\n",
              "      <td>NaN</td>\n",
              "      <td>NaN</td>\n",
              "      <td>NaN</td>\n",
              "    </tr>\n",
              "    <tr>\n",
              "      <th>weekday_of_due</th>\n",
              "      <td>0.086495</td>\n",
              "      <td>-0.030634</td>\n",
              "      <td>NaN</td>\n",
              "      <td>-0.178083</td>\n",
              "      <td>-0.007015</td>\n",
              "      <td>-0.061077</td>\n",
              "      <td>NaN</td>\n",
              "      <td>-0.044968</td>\n",
              "      <td>-0.082929</td>\n",
              "      <td>0.955094</td>\n",
              "      <td>NaN</td>\n",
              "      <td>1.000000</td>\n",
              "      <td>1.000000</td>\n",
              "      <td>0.028421</td>\n",
              "      <td>0.924657</td>\n",
              "      <td>0.021881</td>\n",
              "      <td>-0.008308</td>\n",
              "      <td>0.895588</td>\n",
              "    </tr>\n",
              "    <tr>\n",
              "      <th>quarter_of_due</th>\n",
              "      <td>0.086495</td>\n",
              "      <td>-0.030634</td>\n",
              "      <td>NaN</td>\n",
              "      <td>-0.178083</td>\n",
              "      <td>-0.007015</td>\n",
              "      <td>-0.061077</td>\n",
              "      <td>NaN</td>\n",
              "      <td>-0.044968</td>\n",
              "      <td>-0.082929</td>\n",
              "      <td>0.955094</td>\n",
              "      <td>NaN</td>\n",
              "      <td>1.000000</td>\n",
              "      <td>1.000000</td>\n",
              "      <td>0.028421</td>\n",
              "      <td>0.924657</td>\n",
              "      <td>0.021881</td>\n",
              "      <td>-0.008308</td>\n",
              "      <td>0.895588</td>\n",
              "    </tr>\n",
              "    <tr>\n",
              "      <th>day_document_creation</th>\n",
              "      <td>0.003623</td>\n",
              "      <td>0.004585</td>\n",
              "      <td>NaN</td>\n",
              "      <td>-0.014387</td>\n",
              "      <td>0.016212</td>\n",
              "      <td>0.010467</td>\n",
              "      <td>NaN</td>\n",
              "      <td>-0.010412</td>\n",
              "      <td>-0.357906</td>\n",
              "      <td>0.028396</td>\n",
              "      <td>NaN</td>\n",
              "      <td>0.028421</td>\n",
              "      <td>0.028421</td>\n",
              "      <td>1.000000</td>\n",
              "      <td>-0.124421</td>\n",
              "      <td>-0.025550</td>\n",
              "      <td>0.008665</td>\n",
              "      <td>-0.123467</td>\n",
              "    </tr>\n",
              "    <tr>\n",
              "      <th>month_of_document_creation</th>\n",
              "      <td>0.056898</td>\n",
              "      <td>-0.023805</td>\n",
              "      <td>NaN</td>\n",
              "      <td>-0.190032</td>\n",
              "      <td>-0.002813</td>\n",
              "      <td>-0.020134</td>\n",
              "      <td>NaN</td>\n",
              "      <td>-0.019062</td>\n",
              "      <td>0.076085</td>\n",
              "      <td>0.969008</td>\n",
              "      <td>NaN</td>\n",
              "      <td>0.924657</td>\n",
              "      <td>0.924657</td>\n",
              "      <td>-0.124421</td>\n",
              "      <td>1.000000</td>\n",
              "      <td>-0.040225</td>\n",
              "      <td>0.002109</td>\n",
              "      <td>0.949554</td>\n",
              "    </tr>\n",
              "    <tr>\n",
              "      <th>year_of_document_creation</th>\n",
              "      <td>-0.012866</td>\n",
              "      <td>-0.003917</td>\n",
              "      <td>NaN</td>\n",
              "      <td>-0.047002</td>\n",
              "      <td>-0.002238</td>\n",
              "      <td>-0.019571</td>\n",
              "      <td>NaN</td>\n",
              "      <td>-0.029696</td>\n",
              "      <td>0.010922</td>\n",
              "      <td>0.026719</td>\n",
              "      <td>NaN</td>\n",
              "      <td>0.021881</td>\n",
              "      <td>0.021881</td>\n",
              "      <td>-0.025550</td>\n",
              "      <td>-0.040225</td>\n",
              "      <td>1.000000</td>\n",
              "      <td>0.005668</td>\n",
              "      <td>-0.034073</td>\n",
              "    </tr>\n",
              "    <tr>\n",
              "      <th>weekday_of_document_creation</th>\n",
              "      <td>0.008089</td>\n",
              "      <td>-0.005573</td>\n",
              "      <td>NaN</td>\n",
              "      <td>-0.016318</td>\n",
              "      <td>-0.009689</td>\n",
              "      <td>-0.006655</td>\n",
              "      <td>NaN</td>\n",
              "      <td>0.004510</td>\n",
              "      <td>0.003354</td>\n",
              "      <td>0.001476</td>\n",
              "      <td>NaN</td>\n",
              "      <td>-0.008308</td>\n",
              "      <td>-0.008308</td>\n",
              "      <td>0.008665</td>\n",
              "      <td>0.002109</td>\n",
              "      <td>0.005668</td>\n",
              "      <td>1.000000</td>\n",
              "      <td>-0.016748</td>\n",
              "    </tr>\n",
              "    <tr>\n",
              "      <th>quarter_of_document_creation</th>\n",
              "      <td>0.056737</td>\n",
              "      <td>-0.020014</td>\n",
              "      <td>NaN</td>\n",
              "      <td>-0.179003</td>\n",
              "      <td>-0.005431</td>\n",
              "      <td>-0.015169</td>\n",
              "      <td>NaN</td>\n",
              "      <td>-0.016020</td>\n",
              "      <td>0.062213</td>\n",
              "      <td>0.919735</td>\n",
              "      <td>NaN</td>\n",
              "      <td>0.895588</td>\n",
              "      <td>0.895588</td>\n",
              "      <td>-0.123467</td>\n",
              "      <td>0.949554</td>\n",
              "      <td>-0.034073</td>\n",
              "      <td>-0.016748</td>\n",
              "      <td>1.000000</td>\n",
              "    </tr>\n",
              "  </tbody>\n",
              "</table>\n",
              "</div>"
            ],
            "text/plain": [
              "                              business_code  cust_number  buisness_year  \\\n",
              "business_code                      1.000000     0.078410            NaN   \n",
              "cust_number                        0.078410     1.000000            NaN   \n",
              "buisness_year                           NaN          NaN            NaN   \n",
              "doc_id                            -0.274981     0.124534            NaN   \n",
              "total_open_amount                 -0.024044    -0.037768            NaN   \n",
              "cust_payment_terms                 0.116799     0.834819            NaN   \n",
              "isOpen                                  NaN          NaN            NaN   \n",
              "Target_days                        0.072404     0.641118            NaN   \n",
              "day_of_due                         0.002368     0.001049            NaN   \n",
              "month_of_due                       0.092038    -0.031570            NaN   \n",
              "year_of_due                             NaN          NaN            NaN   \n",
              "weekday_of_due                     0.086495    -0.030634            NaN   \n",
              "quarter_of_due                     0.086495    -0.030634            NaN   \n",
              "day_document_creation              0.003623     0.004585            NaN   \n",
              "month_of_document_creation         0.056898    -0.023805            NaN   \n",
              "year_of_document_creation         -0.012866    -0.003917            NaN   \n",
              "weekday_of_document_creation       0.008089    -0.005573            NaN   \n",
              "quarter_of_document_creation       0.056737    -0.020014            NaN   \n",
              "\n",
              "                                doc_id  total_open_amount  cust_payment_terms  \\\n",
              "business_code                -0.274981          -0.024044            0.116799   \n",
              "cust_number                   0.124534          -0.037768            0.834819   \n",
              "buisness_year                      NaN                NaN                 NaN   \n",
              "doc_id                        1.000000          -0.002737            0.146395   \n",
              "total_open_amount            -0.002737           1.000000            0.023912   \n",
              "cust_payment_terms            0.146395           0.023912            1.000000   \n",
              "isOpen                             NaN                NaN                 NaN   \n",
              "Target_days                   0.088828          -0.007414            0.604474   \n",
              "day_of_due                   -0.015890          -0.010148           -0.003109   \n",
              "month_of_due                 -0.199394          -0.009250           -0.065261   \n",
              "year_of_due                        NaN                NaN                 NaN   \n",
              "weekday_of_due               -0.178083          -0.007015           -0.061077   \n",
              "quarter_of_due               -0.178083          -0.007015           -0.061077   \n",
              "day_document_creation        -0.014387           0.016212            0.010467   \n",
              "month_of_document_creation   -0.190032          -0.002813           -0.020134   \n",
              "year_of_document_creation    -0.047002          -0.002238           -0.019571   \n",
              "weekday_of_document_creation -0.016318          -0.009689           -0.006655   \n",
              "quarter_of_document_creation -0.179003          -0.005431           -0.015169   \n",
              "\n",
              "                              isOpen  Target_days  day_of_due  month_of_due  \\\n",
              "business_code                    NaN     0.072404    0.002368      0.092038   \n",
              "cust_number                      NaN     0.641118    0.001049     -0.031570   \n",
              "buisness_year                    NaN          NaN         NaN           NaN   \n",
              "doc_id                           NaN     0.088828   -0.015890     -0.199394   \n",
              "total_open_amount                NaN    -0.007414   -0.010148     -0.009250   \n",
              "cust_payment_terms               NaN     0.604474   -0.003109     -0.065261   \n",
              "isOpen                           NaN          NaN         NaN           NaN   \n",
              "Target_days                      NaN     1.000000   -0.014976     -0.048383   \n",
              "day_of_due                       NaN    -0.014976    1.000000     -0.076215   \n",
              "month_of_due                     NaN    -0.048383   -0.076215      1.000000   \n",
              "year_of_due                      NaN          NaN         NaN           NaN   \n",
              "weekday_of_due                   NaN    -0.044968   -0.082929      0.955094   \n",
              "quarter_of_due                   NaN    -0.044968   -0.082929      0.955094   \n",
              "day_document_creation            NaN    -0.010412   -0.357906      0.028396   \n",
              "month_of_document_creation       NaN    -0.019062    0.076085      0.969008   \n",
              "year_of_document_creation        NaN    -0.029696    0.010922      0.026719   \n",
              "weekday_of_document_creation     NaN     0.004510    0.003354      0.001476   \n",
              "quarter_of_document_creation     NaN    -0.016020    0.062213      0.919735   \n",
              "\n",
              "                              year_of_due  weekday_of_due  quarter_of_due  \\\n",
              "business_code                         NaN        0.086495        0.086495   \n",
              "cust_number                           NaN       -0.030634       -0.030634   \n",
              "buisness_year                         NaN             NaN             NaN   \n",
              "doc_id                                NaN       -0.178083       -0.178083   \n",
              "total_open_amount                     NaN       -0.007015       -0.007015   \n",
              "cust_payment_terms                    NaN       -0.061077       -0.061077   \n",
              "isOpen                                NaN             NaN             NaN   \n",
              "Target_days                           NaN       -0.044968       -0.044968   \n",
              "day_of_due                            NaN       -0.082929       -0.082929   \n",
              "month_of_due                          NaN        0.955094        0.955094   \n",
              "year_of_due                           NaN             NaN             NaN   \n",
              "weekday_of_due                        NaN        1.000000        1.000000   \n",
              "quarter_of_due                        NaN        1.000000        1.000000   \n",
              "day_document_creation                 NaN        0.028421        0.028421   \n",
              "month_of_document_creation            NaN        0.924657        0.924657   \n",
              "year_of_document_creation             NaN        0.021881        0.021881   \n",
              "weekday_of_document_creation          NaN       -0.008308       -0.008308   \n",
              "quarter_of_document_creation          NaN        0.895588        0.895588   \n",
              "\n",
              "                              day_document_creation  \\\n",
              "business_code                              0.003623   \n",
              "cust_number                                0.004585   \n",
              "buisness_year                                   NaN   \n",
              "doc_id                                    -0.014387   \n",
              "total_open_amount                          0.016212   \n",
              "cust_payment_terms                         0.010467   \n",
              "isOpen                                          NaN   \n",
              "Target_days                               -0.010412   \n",
              "day_of_due                                -0.357906   \n",
              "month_of_due                               0.028396   \n",
              "year_of_due                                     NaN   \n",
              "weekday_of_due                             0.028421   \n",
              "quarter_of_due                             0.028421   \n",
              "day_document_creation                      1.000000   \n",
              "month_of_document_creation                -0.124421   \n",
              "year_of_document_creation                 -0.025550   \n",
              "weekday_of_document_creation               0.008665   \n",
              "quarter_of_document_creation              -0.123467   \n",
              "\n",
              "                              month_of_document_creation  \\\n",
              "business_code                                   0.056898   \n",
              "cust_number                                    -0.023805   \n",
              "buisness_year                                        NaN   \n",
              "doc_id                                         -0.190032   \n",
              "total_open_amount                              -0.002813   \n",
              "cust_payment_terms                             -0.020134   \n",
              "isOpen                                               NaN   \n",
              "Target_days                                    -0.019062   \n",
              "day_of_due                                      0.076085   \n",
              "month_of_due                                    0.969008   \n",
              "year_of_due                                          NaN   \n",
              "weekday_of_due                                  0.924657   \n",
              "quarter_of_due                                  0.924657   \n",
              "day_document_creation                          -0.124421   \n",
              "month_of_document_creation                      1.000000   \n",
              "year_of_document_creation                      -0.040225   \n",
              "weekday_of_document_creation                    0.002109   \n",
              "quarter_of_document_creation                    0.949554   \n",
              "\n",
              "                              year_of_document_creation  \\\n",
              "business_code                                 -0.012866   \n",
              "cust_number                                   -0.003917   \n",
              "buisness_year                                       NaN   \n",
              "doc_id                                        -0.047002   \n",
              "total_open_amount                             -0.002238   \n",
              "cust_payment_terms                            -0.019571   \n",
              "isOpen                                              NaN   \n",
              "Target_days                                   -0.029696   \n",
              "day_of_due                                     0.010922   \n",
              "month_of_due                                   0.026719   \n",
              "year_of_due                                         NaN   \n",
              "weekday_of_due                                 0.021881   \n",
              "quarter_of_due                                 0.021881   \n",
              "day_document_creation                         -0.025550   \n",
              "month_of_document_creation                    -0.040225   \n",
              "year_of_document_creation                      1.000000   \n",
              "weekday_of_document_creation                   0.005668   \n",
              "quarter_of_document_creation                  -0.034073   \n",
              "\n",
              "                              weekday_of_document_creation  \\\n",
              "business_code                                     0.008089   \n",
              "cust_number                                      -0.005573   \n",
              "buisness_year                                          NaN   \n",
              "doc_id                                           -0.016318   \n",
              "total_open_amount                                -0.009689   \n",
              "cust_payment_terms                               -0.006655   \n",
              "isOpen                                                 NaN   \n",
              "Target_days                                       0.004510   \n",
              "day_of_due                                        0.003354   \n",
              "month_of_due                                      0.001476   \n",
              "year_of_due                                            NaN   \n",
              "weekday_of_due                                   -0.008308   \n",
              "quarter_of_due                                   -0.008308   \n",
              "day_document_creation                             0.008665   \n",
              "month_of_document_creation                        0.002109   \n",
              "year_of_document_creation                         0.005668   \n",
              "weekday_of_document_creation                      1.000000   \n",
              "quarter_of_document_creation                     -0.016748   \n",
              "\n",
              "                              quarter_of_document_creation  \n",
              "business_code                                     0.056737  \n",
              "cust_number                                      -0.020014  \n",
              "buisness_year                                          NaN  \n",
              "doc_id                                           -0.179003  \n",
              "total_open_amount                                -0.005431  \n",
              "cust_payment_terms                               -0.015169  \n",
              "isOpen                                                 NaN  \n",
              "Target_days                                      -0.016020  \n",
              "day_of_due                                        0.062213  \n",
              "month_of_due                                      0.919735  \n",
              "year_of_due                                            NaN  \n",
              "weekday_of_due                                    0.895588  \n",
              "quarter_of_due                                    0.895588  \n",
              "day_document_creation                            -0.123467  \n",
              "month_of_document_creation                        0.949554  \n",
              "year_of_document_creation                        -0.034073  \n",
              "weekday_of_document_creation                     -0.016748  \n",
              "quarter_of_document_creation                      1.000000  "
            ]
          },
          "metadata": {
            "tags": []
          },
          "execution_count": 78
        }
      ]
    },
    {
      "cell_type": "code",
      "metadata": {
        "scrolled": true,
        "id": "3kHO1cwg4S_Y",
        "outputId": "2bbad329-881c-4e74-9cf2-60631b29959d"
      },
      "source": [
        "#Heatmap Using Pearson Correlation\n",
        "plt.figure(figsize=(12,10))\n",
        "cor = train.corr()\n",
        "sns.heatmap(cor, annot=True, cmap=plt.cm.CMRmap_r)\n",
        "plt.show()"
      ],
      "execution_count": null,
      "outputs": [
        {
          "output_type": "display_data",
          "data": {
            "image/png": "[encoded data removed]",
            "text/plain": [
              "<Figure size 864x720 with 2 Axes>"
            ]
          },
          "metadata": {
            "tags": [],
            "needs_background": "light"
          }
        }
      ]
    },
    {
      "cell_type": "markdown",
      "metadata": {
        "id": "5yrULvdi4S_Z"
      },
      "source": [
        "Extracting all correlated independent variables so that we can drop the."
      ]
    },
    {
      "cell_type": "code",
      "metadata": {
        "id": "QoqChYM_4S_Z"
      },
      "source": [
        "for i in range(len(correlation_matrix .columns)):\n",
        "    for j in range(i):\n",
        "        if abs(correlation_matrix.iloc[i, j]) > 0.85:\n",
        "            colname = correlation_matrix.columns[i]\n",
        "            correlated_features.add(colname)"
      ],
      "execution_count": null,
      "outputs": []
    },
    {
      "cell_type": "code",
      "metadata": {
        "id": "9zGeBbzS4S_Z",
        "outputId": "5296f0f2-ae18-4c87-f7b7-78cfb34fa24f"
      },
      "source": [
        "print(correlated_features)  # Indepent correlated features"
      ],
      "execution_count": null,
      "outputs": [
        {
          "output_type": "stream",
          "text": [
            "{'month_of_document_creation', 'quarter_of_document_creation', 'weekday_of_due', 'quarter_of_due'}\n"
          ],
          "name": "stdout"
        }
      ]
    },
    {
      "cell_type": "markdown",
      "metadata": {
        "id": "-Ceh4VpQ4S_Z"
      },
      "source": [
        "Dropping all independent correlated features:"
      ]
    },
    {
      "cell_type": "code",
      "metadata": {
        "id": "Zs_OS1O54S_a"
      },
      "source": [
        "train.drop(labels=correlated_features, axis=1, inplace=True)\n",
        "val1.drop(labels=correlated_features, axis=1, inplace=True)\n",
        "local_test.drop(labels=correlated_features, axis=1, inplace=True)\n",
        "Test.drop(labels=correlated_features, axis=1, inplace=True)"
      ],
      "execution_count": null,
      "outputs": []
    },
    {
      "cell_type": "markdown",
      "metadata": {
        "id": "oc7veoTt4S_a"
      },
      "source": [
        "### Checking for Quasi Constant"
      ]
    },
    {
      "cell_type": "code",
      "metadata": {
        "id": "tLC5AINT4S_b",
        "outputId": "32b5d6f7-c3ad-4f43-b909-cb852b7346a5"
      },
      "source": [
        "num_col = train._get_numeric_data().columns\n",
        "num_col\n",
        "# Extracting all numerical features"
      ],
      "execution_count": null,
      "outputs": [
        {
          "output_type": "execute_result",
          "data": {
            "text/plain": [
              "Index(['business_code', 'cust_number', 'buisness_year', 'doc_id',\n",
              "       'total_open_amount', 'cust_payment_terms', 'isOpen', 'Target_days',\n",
              "       'day_of_due', 'month_of_due', 'year_of_due', 'day_document_creation',\n",
              "       'year_of_document_creation', 'weekday_of_document_creation'],\n",
              "      dtype='object')"
            ]
          },
          "metadata": {
            "tags": []
          },
          "execution_count": 83
        }
      ]
    },
    {
      "cell_type": "code",
      "metadata": {
        "id": "Pd5lbU8e4S_c",
        "outputId": "2c1722de-73cc-4343-adee-5248925bd5b1"
      },
      "source": [
        "train_copy = train[num_col]\n",
        "train_copy.head()"
      ],
      "execution_count": null,
      "outputs": [
        {
          "output_type": "execute_result",
          "data": {
            "text/html": [
              "<div>\n",
              "<style scoped>\n",
              "    .dataframe tbody tr th:only-of-type {\n",
              "        vertical-align: middle;\n",
              "    }\n",
              "\n",
              "    .dataframe tbody tr th {\n",
              "        vertical-align: top;\n",
              "    }\n",
              "\n",
              "    .dataframe thead th {\n",
              "        text-align: right;\n",
              "    }\n",
              "</style>\n",
              "<table border=\"1\" class=\"dataframe\">\n",
              "  <thead>\n",
              "    <tr style=\"text-align: right;\">\n",
              "      <th></th>\n",
              "      <th>business_code</th>\n",
              "      <th>cust_number</th>\n",
              "      <th>buisness_year</th>\n",
              "      <th>doc_id</th>\n",
              "      <th>total_open_amount</th>\n",
              "      <th>cust_payment_terms</th>\n",
              "      <th>isOpen</th>\n",
              "      <th>Target_days</th>\n",
              "      <th>day_of_due</th>\n",
              "      <th>month_of_due</th>\n",
              "      <th>year_of_due</th>\n",
              "      <th>day_document_creation</th>\n",
              "      <th>year_of_document_creation</th>\n",
              "      <th>weekday_of_document_creation</th>\n",
              "    </tr>\n",
              "  </thead>\n",
              "  <tbody>\n",
              "    <tr>\n",
              "      <th>12094</th>\n",
              "      <td>2</td>\n",
              "      <td>5.258796</td>\n",
              "      <td>2019</td>\n",
              "      <td>1.990563e+09</td>\n",
              "      <td>16416.0000</td>\n",
              "      <td>8.673077</td>\n",
              "      <td>0</td>\n",
              "      <td>11</td>\n",
              "      <td>3</td>\n",
              "      <td>2</td>\n",
              "      <td>2019</td>\n",
              "      <td>30</td>\n",
              "      <td>2018</td>\n",
              "      <td>6</td>\n",
              "    </tr>\n",
              "    <tr>\n",
              "      <th>12464</th>\n",
              "      <td>0</td>\n",
              "      <td>1.020287</td>\n",
              "      <td>2019</td>\n",
              "      <td>2.960521e+09</td>\n",
              "      <td>40970.1396</td>\n",
              "      <td>6.314074</td>\n",
              "      <td>0</td>\n",
              "      <td>4</td>\n",
              "      <td>12</td>\n",
              "      <td>1</td>\n",
              "      <td>2019</td>\n",
              "      <td>30</td>\n",
              "      <td>2018</td>\n",
              "      <td>6</td>\n",
              "    </tr>\n",
              "    <tr>\n",
              "      <th>33048</th>\n",
              "      <td>0</td>\n",
              "      <td>2.492784</td>\n",
              "      <td>2019</td>\n",
              "      <td>2.960520e+09</td>\n",
              "      <td>63045.7854</td>\n",
              "      <td>6.314074</td>\n",
              "      <td>0</td>\n",
              "      <td>5</td>\n",
              "      <td>13</td>\n",
              "      <td>1</td>\n",
              "      <td>2019</td>\n",
              "      <td>31</td>\n",
              "      <td>2018</td>\n",
              "      <td>0</td>\n",
              "    </tr>\n",
              "    <tr>\n",
              "      <th>41158</th>\n",
              "      <td>5</td>\n",
              "      <td>0.690586</td>\n",
              "      <td>2019</td>\n",
              "      <td>1.991820e+09</td>\n",
              "      <td>18409.7300</td>\n",
              "      <td>19.695906</td>\n",
              "      <td>0</td>\n",
              "      <td>99</td>\n",
              "      <td>14</td>\n",
              "      <td>2</td>\n",
              "      <td>2019</td>\n",
              "      <td>31</td>\n",
              "      <td>2018</td>\n",
              "      <td>0</td>\n",
              "    </tr>\n",
              "    <tr>\n",
              "      <th>8045</th>\n",
              "      <td>2</td>\n",
              "      <td>2.045293</td>\n",
              "      <td>2019</td>\n",
              "      <td>1.990563e+09</td>\n",
              "      <td>29841.1100</td>\n",
              "      <td>8.673077</td>\n",
              "      <td>0</td>\n",
              "      <td>8</td>\n",
              "      <td>4</td>\n",
              "      <td>2</td>\n",
              "      <td>2019</td>\n",
              "      <td>31</td>\n",
              "      <td>2018</td>\n",
              "      <td>0</td>\n",
              "    </tr>\n",
              "  </tbody>\n",
              "</table>\n",
              "</div>"
            ],
            "text/plain": [
              "       business_code  cust_number  buisness_year        doc_id  \\\n",
              "12094              2     5.258796           2019  1.990563e+09   \n",
              "12464              0     1.020287           2019  2.960521e+09   \n",
              "33048              0     2.492784           2019  2.960520e+09   \n",
              "41158              5     0.690586           2019  1.991820e+09   \n",
              "8045               2     2.045293           2019  1.990563e+09   \n",
              "\n",
              "       total_open_amount  cust_payment_terms  isOpen  Target_days  day_of_due  \\\n",
              "12094         16416.0000            8.673077       0           11           3   \n",
              "12464         40970.1396            6.314074       0            4          12   \n",
              "33048         63045.7854            6.314074       0            5          13   \n",
              "41158         18409.7300           19.695906       0           99          14   \n",
              "8045          29841.1100            8.673077       0            8           4   \n",
              "\n",
              "       month_of_due  year_of_due  day_document_creation  \\\n",
              "12094             2         2019                     30   \n",
              "12464             1         2019                     30   \n",
              "33048             1         2019                     31   \n",
              "41158             2         2019                     31   \n",
              "8045              2         2019                     31   \n",
              "\n",
              "       year_of_document_creation  weekday_of_document_creation  \n",
              "12094                       2018                             6  \n",
              "12464                       2018                             6  \n",
              "33048                       2018                             0  \n",
              "41158                       2018                             0  \n",
              "8045                        2018                             0  "
            ]
          },
          "metadata": {
            "tags": []
          },
          "execution_count": 84
        }
      ]
    },
    {
      "cell_type": "code",
      "metadata": {
        "id": "XVtOMBrA4S_d",
        "outputId": "12596cb0-9d83-44b3-e505-720a30e7eb99"
      },
      "source": [
        "train.shape"
      ],
      "execution_count": null,
      "outputs": [
        {
          "output_type": "execute_result",
          "data": {
            "text/plain": [
              "(25781, 21)"
            ]
          },
          "metadata": {
            "tags": []
          },
          "execution_count": 85
        }
      ]
    },
    {
      "cell_type": "code",
      "metadata": {
        "id": "qpEVdEDZ4S_d"
      },
      "source": [
        "from sklearn.feature_selection import VarianceThreshold\n",
        "vts = VarianceThreshold(threshold=0.1)"
      ],
      "execution_count": null,
      "outputs": []
    },
    {
      "cell_type": "code",
      "metadata": {
        "id": "nenfIBfm4S_e",
        "outputId": "2fe5b7c1-2df5-40c9-b0e2-08f71a39efea"
      },
      "source": [
        "vts.fit(train_copy)"
      ],
      "execution_count": null,
      "outputs": [
        {
          "output_type": "execute_result",
          "data": {
            "text/plain": [
              "VarianceThreshold(threshold=0.1)"
            ]
          },
          "metadata": {
            "tags": []
          },
          "execution_count": 87
        }
      ]
    },
    {
      "cell_type": "code",
      "metadata": {
        "id": "NzqknJwG4S_e",
        "outputId": "163857eb-7195-4da4-ea19-f80f059e6cc7"
      },
      "source": [
        "train_copy.columns[list(vts.get_support())]  # Printing columns which passed quasi constant test.Rest will be dropped."
      ],
      "execution_count": null,
      "outputs": [
        {
          "output_type": "execute_result",
          "data": {
            "text/plain": [
              "Index(['business_code', 'cust_number', 'doc_id', 'total_open_amount',\n",
              "       'cust_payment_terms', 'Target_days', 'day_of_due', 'month_of_due',\n",
              "       'day_document_creation', 'weekday_of_document_creation'],\n",
              "      dtype='object')"
            ]
          },
          "metadata": {
            "tags": []
          },
          "execution_count": 88
        }
      ]
    },
    {
      "cell_type": "code",
      "metadata": {
        "id": "FjnIqZdX4S_f",
        "outputId": "d89d78a7-e254-4ad3-9651-cdb18a079da2"
      },
      "source": [
        "train.shape # for checking number of rows."
      ],
      "execution_count": null,
      "outputs": [
        {
          "output_type": "execute_result",
          "data": {
            "text/plain": [
              "(25781, 21)"
            ]
          },
          "metadata": {
            "tags": []
          },
          "execution_count": 89
        }
      ]
    },
    {
      "cell_type": "markdown",
      "metadata": {
        "id": "DDjHn8bw4S_g"
      },
      "source": [
        "Equality check for posting_date and document_create_date.1."
      ]
    },
    {
      "cell_type": "code",
      "metadata": {
        "id": "SvYTn4ez4S_g",
        "outputId": "8bd23c9d-caa7-4caf-d63f-3fdf467cc4d2"
      },
      "source": [
        "a=0\n",
        "for i in range(25781):\n",
        "    if((train['posting_date'].iloc[i])==train['document_create_date.1'].iloc[i]):\n",
        "        a=a+1\n",
        "print(a)\n"
      ],
      "execution_count": null,
      "outputs": [
        {
          "output_type": "stream",
          "text": [
            "25781\n"
          ],
          "name": "stdout"
        }
      ]
    },
    {
      "cell_type": "markdown",
      "metadata": {
        "id": "T5nKOcOI4S_h"
      },
      "source": [
        "#### Also, dropping the `name_customer` and `doc_id` column as for generalization, the cust_number is itself enough\n",
        "#### Dropping the `posting_date` as it is same as `document_create_date` as checked above.\n",
        "#### Dropping the `invoice_currency` as it is of no use now as we have changed the `total_open_amount` according to its currency \n",
        "#### Dropping the `year_of_document_creation` , `year_of_due`  is very low correlated with our target variable."
      ]
    },
    {
      "cell_type": "code",
      "metadata": {
        "id": "-pd4aXIO4S_h"
      },
      "source": [
        "train.drop(labels =['posting_date','invoice_currency','name_customer','buisness_year','isOpen','document_create_date.1','due_in_date','doc_id','baseline_create_date','clear_date','year_of_due','year_of_document_creation'], axis = 1,inplace=True)\n",
        "val1.drop(labels = ['posting_date','invoice_currency','name_customer','buisness_year','isOpen','document_create_date.1','due_in_date','doc_id','baseline_create_date','clear_date','year_of_due','year_of_document_creation'], axis = 1,inplace=True)\n",
        "local_test.drop(labels =['posting_date','invoice_currency','name_customer','buisness_year','isOpen','document_create_date.1','due_in_date','doc_id','baseline_create_date','clear_date','year_of_due','year_of_document_creation'], axis = 1,inplace=True)\n",
        "Test.drop(labels =['posting_date','invoice_currency','name_customer','buisness_year','isOpen','document_create_date.1','due_in_date','doc_id','baseline_create_date','year_of_due','year_of_document_creation'], axis = 1,inplace=True)"
      ],
      "execution_count": null,
      "outputs": []
    },
    {
      "cell_type": "code",
      "metadata": {
        "id": "5mB7OMx64S_i",
        "outputId": "40825635-04f0-4e74-bda8-00c61219c869"
      },
      "source": [
        "train.head()"
      ],
      "execution_count": null,
      "outputs": [
        {
          "output_type": "execute_result",
          "data": {
            "text/html": [
              "<div>\n",
              "<style scoped>\n",
              "    .dataframe tbody tr th:only-of-type {\n",
              "        vertical-align: middle;\n",
              "    }\n",
              "\n",
              "    .dataframe tbody tr th {\n",
              "        vertical-align: top;\n",
              "    }\n",
              "\n",
              "    .dataframe thead th {\n",
              "        text-align: right;\n",
              "    }\n",
              "</style>\n",
              "<table border=\"1\" class=\"dataframe\">\n",
              "  <thead>\n",
              "    <tr style=\"text-align: right;\">\n",
              "      <th></th>\n",
              "      <th>business_code</th>\n",
              "      <th>cust_number</th>\n",
              "      <th>total_open_amount</th>\n",
              "      <th>cust_payment_terms</th>\n",
              "      <th>Target_days</th>\n",
              "      <th>day_of_due</th>\n",
              "      <th>month_of_due</th>\n",
              "      <th>day_document_creation</th>\n",
              "      <th>weekday_of_document_creation</th>\n",
              "    </tr>\n",
              "  </thead>\n",
              "  <tbody>\n",
              "    <tr>\n",
              "      <th>12094</th>\n",
              "      <td>2</td>\n",
              "      <td>5.258796</td>\n",
              "      <td>16416.0000</td>\n",
              "      <td>8.673077</td>\n",
              "      <td>11</td>\n",
              "      <td>3</td>\n",
              "      <td>2</td>\n",
              "      <td>30</td>\n",
              "      <td>6</td>\n",
              "    </tr>\n",
              "    <tr>\n",
              "      <th>12464</th>\n",
              "      <td>0</td>\n",
              "      <td>1.020287</td>\n",
              "      <td>40970.1396</td>\n",
              "      <td>6.314074</td>\n",
              "      <td>4</td>\n",
              "      <td>12</td>\n",
              "      <td>1</td>\n",
              "      <td>30</td>\n",
              "      <td>6</td>\n",
              "    </tr>\n",
              "    <tr>\n",
              "      <th>33048</th>\n",
              "      <td>0</td>\n",
              "      <td>2.492784</td>\n",
              "      <td>63045.7854</td>\n",
              "      <td>6.314074</td>\n",
              "      <td>5</td>\n",
              "      <td>13</td>\n",
              "      <td>1</td>\n",
              "      <td>31</td>\n",
              "      <td>0</td>\n",
              "    </tr>\n",
              "    <tr>\n",
              "      <th>41158</th>\n",
              "      <td>5</td>\n",
              "      <td>0.690586</td>\n",
              "      <td>18409.7300</td>\n",
              "      <td>19.695906</td>\n",
              "      <td>99</td>\n",
              "      <td>14</td>\n",
              "      <td>2</td>\n",
              "      <td>31</td>\n",
              "      <td>0</td>\n",
              "    </tr>\n",
              "    <tr>\n",
              "      <th>8045</th>\n",
              "      <td>2</td>\n",
              "      <td>2.045293</td>\n",
              "      <td>29841.1100</td>\n",
              "      <td>8.673077</td>\n",
              "      <td>8</td>\n",
              "      <td>4</td>\n",
              "      <td>2</td>\n",
              "      <td>31</td>\n",
              "      <td>0</td>\n",
              "    </tr>\n",
              "  </tbody>\n",
              "</table>\n",
              "</div>"
            ],
            "text/plain": [
              "       business_code  cust_number  total_open_amount  cust_payment_terms  \\\n",
              "12094              2     5.258796         16416.0000            8.673077   \n",
              "12464              0     1.020287         40970.1396            6.314074   \n",
              "33048              0     2.492784         63045.7854            6.314074   \n",
              "41158              5     0.690586         18409.7300           19.695906   \n",
              "8045               2     2.045293         29841.1100            8.673077   \n",
              "\n",
              "       Target_days  day_of_due  month_of_due  day_document_creation  \\\n",
              "12094           11           3             2                     30   \n",
              "12464            4          12             1                     30   \n",
              "33048            5          13             1                     31   \n",
              "41158           99          14             2                     31   \n",
              "8045             8           4             2                     31   \n",
              "\n",
              "       weekday_of_document_creation  \n",
              "12094                             6  \n",
              "12464                             6  \n",
              "33048                             0  \n",
              "41158                             0  \n",
              "8045                              0  "
            ]
          },
          "metadata": {
            "tags": []
          },
          "execution_count": 92
        }
      ]
    },
    {
      "cell_type": "markdown",
      "metadata": {
        "id": "4gSin8SL4S_i"
      },
      "source": [
        "## Handling Skewness"
      ]
    },
    {
      "cell_type": "code",
      "metadata": {
        "id": "fD1-s9U34S_i",
        "outputId": "6e0e2c64-f218-4010-cada-59a6e07796a2"
      },
      "source": [
        "train.skew() #before handling skewness"
      ],
      "execution_count": null,
      "outputs": [
        {
          "output_type": "execute_result",
          "data": {
            "text/plain": [
              "business_code                   6.244061\n",
              "cust_number                     4.875044\n",
              "total_open_amount               1.151461\n",
              "cust_payment_terms              4.045405\n",
              "Target_days                     3.615198\n",
              "day_of_due                      0.039864\n",
              "month_of_due                    0.062007\n",
              "day_document_creation          -0.033117\n",
              "weekday_of_document_creation    0.170565\n",
              "dtype: float64"
            ]
          },
          "metadata": {
            "tags": []
          },
          "execution_count": 93
        }
      ]
    },
    {
      "cell_type": "code",
      "metadata": {
        "id": "mgy6hgsK4S_j"
      },
      "source": [
        "from scipy import stats"
      ],
      "execution_count": null,
      "outputs": []
    },
    {
      "cell_type": "code",
      "metadata": {
        "id": "mr5tLfO84S_j"
      },
      "source": [
        "train['total_open_amount'] = stats.boxcox(train['total_open_amount'])[0]\n",
        "train['cust_payment_terms'] = np.log(train['cust_payment_terms'])\n",
        "train['cust_number'] = np.log(train['cust_number'])\n",
        "train['Target_days'] = np.sqrt(train['Target_days'])\n",
        "train['business_code'] = np.sqrt(train['business_code'])"
      ],
      "execution_count": null,
      "outputs": []
    },
    {
      "cell_type": "code",
      "metadata": {
        "id": "ujrnaC9P4S_k"
      },
      "source": [
        "val1['total_open_amount'] = stats.boxcox(val1['total_open_amount'])[0]\n",
        "val1['cust_payment_terms'] = np.log(val1['cust_payment_terms'])\n",
        "val1['cust_number'] = np.log(val1['cust_number'])\n",
        "val1['Target_days'] = np.sqrt(val1['Target_days'])\n",
        "val1['business_code'] = np.sqrt(val1['business_code'])"
      ],
      "execution_count": null,
      "outputs": []
    },
    {
      "cell_type": "code",
      "metadata": {
        "id": "j55Z-TOP4S_k"
      },
      "source": [
        "local_test['total_open_amount'] = stats.boxcox(local_test['total_open_amount'])[0]\n",
        "local_test['cust_payment_terms'] = np.log(local_test['cust_payment_terms'])\n",
        "local_test['cust_number'] = np.log(local_test['cust_number'])\n",
        "local_test['Target_days'] = np.sqrt(local_test['Target_days'])\n",
        "local_test['business_code'] = np.sqrt(local_test['business_code'])"
      ],
      "execution_count": null,
      "outputs": []
    },
    {
      "cell_type": "code",
      "metadata": {
        "id": "zphoDVG64S_l"
      },
      "source": [
        "Test['total_open_amount'] = stats.boxcox(Test['total_open_amount'])[0]\n",
        "Test['cust_payment_terms'] = np.log(Test['cust_payment_terms'])\n",
        "Test['cust_number'] = np.log(Test['cust_number'])\n",
        "Test['Target_days'] = np.sqrt(Test['Target_days'])\n",
        "Test['business_code'] = np.sqrt(Test['business_code'])"
      ],
      "execution_count": null,
      "outputs": []
    },
    {
      "cell_type": "code",
      "metadata": {
        "id": "WIDKSP8C4S_l",
        "outputId": "6d1f5187-c34b-4f9b-c38e-801ee3b25bfe"
      },
      "source": [
        "train.skew() #after handling skewness"
      ],
      "execution_count": null,
      "outputs": [
        {
          "output_type": "execute_result",
          "data": {
            "text/plain": [
              "business_code                   0.412485\n",
              "cust_number                    -0.106822\n",
              "total_open_amount              -0.121562\n",
              "cust_payment_terms              0.550214\n",
              "Target_days                     2.341974\n",
              "day_of_due                      0.039864\n",
              "month_of_due                    0.062007\n",
              "day_document_creation          -0.033117\n",
              "weekday_of_document_creation    0.170565\n",
              "dtype: float64"
            ]
          },
          "metadata": {
            "tags": []
          },
          "execution_count": 99
        }
      ]
    },
    {
      "cell_type": "markdown",
      "metadata": {
        "id": "bc-B7l934S_m"
      },
      "source": [
        "Removing null values if any"
      ]
    },
    {
      "cell_type": "code",
      "metadata": {
        "id": "SxpyKowL4S_m"
      },
      "source": [
        "train.dropna(inplace=True)\n",
        "local_test.dropna(inplace=True)\n",
        "val1.dropna(inplace=True)"
      ],
      "execution_count": null,
      "outputs": []
    },
    {
      "cell_type": "markdown",
      "metadata": {
        "id": "vCUWYRaI4S_n"
      },
      "source": [
        "## Standardization :"
      ]
    },
    {
      "cell_type": "markdown",
      "metadata": {
        "id": "n8HEaGTr4S_n"
      },
      "source": [
        "X_train consist of all independent features of train dataset and Y_train our dependent variable.Same for other sets also."
      ]
    },
    {
      "cell_type": "code",
      "metadata": {
        "id": "9Oc9lvUL4S_o"
      },
      "source": [
        "X_train = train.drop(labels = ['Target_days'],axis = 1,inplace = False)\n",
        "Y_train = train['Target_days']"
      ],
      "execution_count": null,
      "outputs": []
    },
    {
      "cell_type": "code",
      "metadata": {
        "id": "d7IF0nHf4S_o"
      },
      "source": [
        "X_local_test = local_test.drop(labels = ['Target_days'],axis = 1,inplace = False)\n",
        "Y_local_test = local_test['Target_days']\n",
        "X_val = val1.drop(labels = ['Target_days'],axis = 1,inplace = False)\n",
        "Y_val = val1['Target_days']\n",
        "Test.drop(labels = ['Target_days','clear_date'],axis = 1,inplace = True)"
      ],
      "execution_count": null,
      "outputs": []
    },
    {
      "cell_type": "markdown",
      "metadata": {
        "id": "NG23FQ2s4S_p"
      },
      "source": [
        "Standardizing only independent features."
      ]
    },
    {
      "cell_type": "code",
      "metadata": {
        "id": "8j9xHWjS4S_p"
      },
      "source": [
        "from sklearn import preprocessing\n",
        "# Getting column names first\n",
        "names = X_train.columns\n",
        "# Creating the Scaler object\n",
        "scaler = preprocessing.StandardScaler()\n",
        "# Fitting our data on the scaler object\n",
        "scaled_df = scaler.fit_transform(X_train)\n",
        "X_train = pd.DataFrame(scaled_df, columns=names)\n",
        "\n",
        "# Same for other sets"
      ],
      "execution_count": null,
      "outputs": []
    },
    {
      "cell_type": "code",
      "metadata": {
        "id": "Ssyq_Uci4S_q"
      },
      "source": [
        "val_names = X_val.columns\n",
        "scaler = preprocessing.StandardScaler()\n",
        "scaled_df = scaler.fit_transform(X_val)\n",
        "X_val = pd.DataFrame(scaled_df, columns=val_names)"
      ],
      "execution_count": null,
      "outputs": []
    },
    {
      "cell_type": "code",
      "metadata": {
        "id": "GwJDQcbo4S_q"
      },
      "source": [
        "local_names =X_local_test.columns\n",
        "scaler = preprocessing.StandardScaler()\n",
        "scaled_df = scaler.fit_transform(X_local_test)\n",
        "X_local_test = pd.DataFrame(scaled_df, columns=local_names)"
      ],
      "execution_count": null,
      "outputs": []
    },
    {
      "cell_type": "code",
      "metadata": {
        "id": "xwFm97Jb4S_q"
      },
      "source": [
        "Test_names =Test.columns\n",
        "scaler = preprocessing.StandardScaler()\n",
        "scaled_df = scaler.fit_transform(Test)\n",
        "Test = pd.DataFrame(scaled_df, columns=Test_names)"
      ],
      "execution_count": null,
      "outputs": []
    },
    {
      "cell_type": "code",
      "metadata": {
        "id": "sDjnm_bS4S_r",
        "outputId": "89f89abb-82e3-4a74-a6e6-e5a1806b24a1"
      },
      "source": [
        "X_train.head()"
      ],
      "execution_count": null,
      "outputs": [
        {
          "output_type": "execute_result",
          "data": {
            "text/html": [
              "<div>\n",
              "<style scoped>\n",
              "    .dataframe tbody tr th:only-of-type {\n",
              "        vertical-align: middle;\n",
              "    }\n",
              "\n",
              "    .dataframe tbody tr th {\n",
              "        vertical-align: top;\n",
              "    }\n",
              "\n",
              "    .dataframe thead th {\n",
              "        text-align: right;\n",
              "    }\n",
              "</style>\n",
              "<table border=\"1\" class=\"dataframe\">\n",
              "  <thead>\n",
              "    <tr style=\"text-align: right;\">\n",
              "      <th></th>\n",
              "      <th>business_code</th>\n",
              "      <th>cust_number</th>\n",
              "      <th>total_open_amount</th>\n",
              "      <th>cust_payment_terms</th>\n",
              "      <th>day_of_due</th>\n",
              "      <th>month_of_due</th>\n",
              "      <th>day_document_creation</th>\n",
              "      <th>weekday_of_document_creation</th>\n",
              "    </tr>\n",
              "  </thead>\n",
              "  <tbody>\n",
              "    <tr>\n",
              "      <th>0</th>\n",
              "      <td>1.430577</td>\n",
              "      <td>0.966090</td>\n",
              "      <td>-0.101340</td>\n",
              "      <td>1.639941</td>\n",
              "      <td>-1.439418</td>\n",
              "      <td>-1.484491</td>\n",
              "      <td>1.595957</td>\n",
              "      <td>1.989711</td>\n",
              "    </tr>\n",
              "    <tr>\n",
              "      <th>1</th>\n",
              "      <td>-3.183412</td>\n",
              "      <td>-0.198947</td>\n",
              "      <td>0.696974</td>\n",
              "      <td>1.306122</td>\n",
              "      <td>-0.397682</td>\n",
              "      <td>-1.873442</td>\n",
              "      <td>1.595957</td>\n",
              "      <td>1.989711</td>\n",
              "    </tr>\n",
              "    <tr>\n",
              "      <th>2</th>\n",
              "      <td>-3.183412</td>\n",
              "      <td>0.435725</td>\n",
              "      <td>1.143657</td>\n",
              "      <td>1.306122</td>\n",
              "      <td>-0.281934</td>\n",
              "      <td>-1.873442</td>\n",
              "      <td>1.709182</td>\n",
              "      <td>-1.429401</td>\n",
              "    </tr>\n",
              "    <tr>\n",
              "      <th>3</th>\n",
              "      <td>4.111945</td>\n",
              "      <td>-0.476241</td>\n",
              "      <td>-0.011299</td>\n",
              "      <td>2.502438</td>\n",
              "      <td>-0.166186</td>\n",
              "      <td>-1.484491</td>\n",
              "      <td>1.709182</td>\n",
              "      <td>-1.429401</td>\n",
              "    </tr>\n",
              "    <tr>\n",
              "      <th>4</th>\n",
              "      <td>1.430577</td>\n",
              "      <td>0.295152</td>\n",
              "      <td>0.398763</td>\n",
              "      <td>1.639941</td>\n",
              "      <td>-1.323670</td>\n",
              "      <td>-1.484491</td>\n",
              "      <td>1.709182</td>\n",
              "      <td>-1.429401</td>\n",
              "    </tr>\n",
              "  </tbody>\n",
              "</table>\n",
              "</div>"
            ],
            "text/plain": [
              "   business_code  cust_number  total_open_amount  cust_payment_terms  \\\n",
              "0       1.430577     0.966090          -0.101340            1.639941   \n",
              "1      -3.183412    -0.198947           0.696974            1.306122   \n",
              "2      -3.183412     0.435725           1.143657            1.306122   \n",
              "3       4.111945    -0.476241          -0.011299            2.502438   \n",
              "4       1.430577     0.295152           0.398763            1.639941   \n",
              "\n",
              "   day_of_due  month_of_due  day_document_creation  \\\n",
              "0   -1.439418     -1.484491               1.595957   \n",
              "1   -0.397682     -1.873442               1.595957   \n",
              "2   -0.281934     -1.873442               1.709182   \n",
              "3   -0.166186     -1.484491               1.709182   \n",
              "4   -1.323670     -1.484491               1.709182   \n",
              "\n",
              "   weekday_of_document_creation  \n",
              "0                      1.989711  \n",
              "1                      1.989711  \n",
              "2                     -1.429401  \n",
              "3                     -1.429401  \n",
              "4                     -1.429401  "
            ]
          },
          "metadata": {
            "tags": []
          },
          "execution_count": 107
        }
      ]
    },
    {
      "cell_type": "markdown",
      "metadata": {
        "id": "ueNm-fkV4S_r"
      },
      "source": [
        "# Modelling"
      ]
    },
    {
      "cell_type": "code",
      "metadata": {
        "id": "9RdqxbuO4S_r"
      },
      "source": [
        "from sklearn.linear_model import LinearRegression\n",
        "from sklearn.svm import SVR\n",
        "from sklearn.tree import DecisionTreeRegressor\n",
        "from sklearn.ensemble import RandomForestRegressor\n",
        "import xgboost as xgb\n",
        "from sklearn.datasets import load_boston\n",
        "from sklearn.metrics import mean_squared_error\n",
        "from sklearn.metrics import r2_score"
      ],
      "execution_count": null,
      "outputs": []
    },
    {
      "cell_type": "code",
      "metadata": {
        "id": "3DLbmFV04S_s",
        "outputId": "7e809794-7afa-4a6e-d839-b522fccd4fdb"
      },
      "source": [
        "train.isnull().sum()"
      ],
      "execution_count": null,
      "outputs": [
        {
          "output_type": "execute_result",
          "data": {
            "text/plain": [
              "business_code                   0\n",
              "cust_number                     0\n",
              "total_open_amount               0\n",
              "cust_payment_terms              0\n",
              "Target_days                     0\n",
              "day_of_due                      0\n",
              "month_of_due                    0\n",
              "day_document_creation           0\n",
              "weekday_of_document_creation    0\n",
              "dtype: int64"
            ]
          },
          "metadata": {
            "tags": []
          },
          "execution_count": 109
        }
      ]
    },
    {
      "cell_type": "code",
      "metadata": {
        "id": "Rb1wz5s74S_s"
      },
      "source": [
        "# Defining Lists to Store in the Results and Names of Algorithms\n",
        "MSE_Score = []\n",
        "R2_Score = []\n",
        "Algorithm = []"
      ],
      "execution_count": null,
      "outputs": []
    },
    {
      "cell_type": "markdown",
      "metadata": {
        "id": "GmMgJ-q34S_t"
      },
      "source": [
        "## Linear Regression"
      ]
    },
    {
      "cell_type": "code",
      "metadata": {
        "id": "b2HsjPDS4S_t"
      },
      "source": [
        "# Fitting Simple Linear Regression to the Training Set\n",
        "Algorithm.append('Linear Regression')\n",
        "clf = LinearRegression()\n",
        "clf.fit(X_train, Y_train)\n",
        "\n",
        "# Predicting the Test Set Results\n",
        "predicted = clf.predict(X_local_test)"
      ],
      "execution_count": null,
      "outputs": []
    },
    {
      "cell_type": "code",
      "metadata": {
        "id": "kZsd_dwd4S_t"
      },
      "source": [
        "MSE_Score.append(mean_squared_error(Y_local_test, predicted))\n",
        "R2_Score.append(r2_score(Y_local_test, predicted))"
      ],
      "execution_count": null,
      "outputs": []
    },
    {
      "cell_type": "markdown",
      "metadata": {
        "id": "4tC8GQ8T4S_u"
      },
      "source": [
        "## Random Forest Regressor Tree"
      ]
    },
    {
      "cell_type": "code",
      "metadata": {
        "id": "QU0nmLM64S_u"
      },
      "source": [
        "# Fitting Random Forest Regressor Tree to the Training Set\n",
        "Algorithm.append('Random Forest Regressor')\n",
        "clf = RandomForestRegressor()\n",
        "clf.fit(X_train, Y_train)\n",
        "\n",
        "# Predicting the Test Set Results\n",
        "predicted = clf.predict(X_local_test)"
      ],
      "execution_count": null,
      "outputs": []
    },
    {
      "cell_type": "code",
      "metadata": {
        "id": "9fod497Q4S_u"
      },
      "source": [
        "MSE_Score.append(mean_squared_error(Y_local_test, predicted))\n",
        "R2_Score.append(r2_score(Y_local_test, predicted))"
      ],
      "execution_count": null,
      "outputs": []
    },
    {
      "cell_type": "markdown",
      "metadata": {
        "id": "ffyO7S1x4S_u"
      },
      "source": [
        "## XGBoost Regressor"
      ]
    },
    {
      "cell_type": "code",
      "metadata": {
        "id": "sCcrr64F4S_v"
      },
      "source": [
        "# Fitting XGBoost Regressor to the Training Set\n",
        "Algorithm.append('XGB Regressor')\n",
        "clf = xgb.XGBRegressor()\n",
        "clf.fit(X_train, Y_train)\n",
        "\n",
        "# Predicting the Test Set Results\n",
        "predicted = clf.predict(X_local_test)"
      ],
      "execution_count": null,
      "outputs": []
    },
    {
      "cell_type": "code",
      "metadata": {
        "id": "sZNqzm-M4S_v"
      },
      "source": [
        "MSE_Score.append(mean_squared_error(Y_local_test, predicted))\n",
        "R2_Score.append(r2_score(Y_local_test, predicted))"
      ],
      "execution_count": null,
      "outputs": []
    },
    {
      "cell_type": "markdown",
      "metadata": {
        "id": "lZ2mP0lX4S_v"
      },
      "source": [
        "## Decision Tree Regressor"
      ]
    },
    {
      "cell_type": "code",
      "metadata": {
        "id": "x9axr1LL4S_w"
      },
      "source": [
        "Algorithm.append('Decision Tree Regressor')\n",
        "clf = DecisionTreeRegressor()\n",
        "clf.fit(X_train, Y_train)\n",
        "\n",
        "# Predicting the Test Set Results\n",
        "predicted = clf.predict(X_local_test)"
      ],
      "execution_count": null,
      "outputs": []
    },
    {
      "cell_type": "code",
      "metadata": {
        "id": "IcX4NA7-4S_w"
      },
      "source": [
        "MSE_Score.append(mean_squared_error(Y_local_test, predicted))\n",
        "R2_Score.append(r2_score(Y_local_test, predicted))"
      ],
      "execution_count": null,
      "outputs": []
    },
    {
      "cell_type": "markdown",
      "metadata": {
        "id": "Zx5E8TdO4S_w"
      },
      "source": [
        "## SVR"
      ]
    },
    {
      "cell_type": "code",
      "metadata": {
        "id": "M7H92SPv4S_x"
      },
      "source": [
        "# Fitting SVR to the Training Set\n",
        "Algorithm.append('Support Vector Regression')\n",
        "clf = SVR()\n",
        "clf.fit(X_train, Y_train)\n",
        "\n",
        "# Predicting the Test Set Results\n",
        "predicted = clf.predict(X_local_test)"
      ],
      "execution_count": null,
      "outputs": []
    },
    {
      "cell_type": "code",
      "metadata": {
        "id": "6Bj_OK7E4S_1"
      },
      "source": [
        "MSE_Score.append(mean_squared_error(Y_local_test, predicted))\n",
        "R2_Score.append(r2_score(Y_local_test, predicted))"
      ],
      "execution_count": null,
      "outputs": []
    },
    {
      "cell_type": "markdown",
      "metadata": {
        "id": "DbDiCWej4S_2"
      },
      "source": [
        "# Model Accuracy"
      ]
    },
    {
      "cell_type": "code",
      "metadata": {
        "id": "Z4bQTpHd4S_2",
        "outputId": "d2df5ca6-efdf-4ea3-aa18-010be5a7f530"
      },
      "source": [
        "score = pd.DataFrame(list(zip(Algorithm,MSE_Score,R2_Score)), columns = ['Algorithm' , 'MSE_Score' , 'R2_Score'])\n",
        "score"
      ],
      "execution_count": null,
      "outputs": [
        {
          "output_type": "execute_result",
          "data": {
            "text/html": [
              "<div>\n",
              "<style scoped>\n",
              "    .dataframe tbody tr th:only-of-type {\n",
              "        vertical-align: middle;\n",
              "    }\n",
              "\n",
              "    .dataframe tbody tr th {\n",
              "        vertical-align: top;\n",
              "    }\n",
              "\n",
              "    .dataframe thead th {\n",
              "        text-align: right;\n",
              "    }\n",
              "</style>\n",
              "<table border=\"1\" class=\"dataframe\">\n",
              "  <thead>\n",
              "    <tr style=\"text-align: right;\">\n",
              "      <th></th>\n",
              "      <th>Algorithm</th>\n",
              "      <th>MSE_Score</th>\n",
              "      <th>R2_Score</th>\n",
              "    </tr>\n",
              "  </thead>\n",
              "  <tbody>\n",
              "    <tr>\n",
              "      <th>0</th>\n",
              "      <td>Linear Regression</td>\n",
              "      <td>1.433816</td>\n",
              "      <td>0.385905</td>\n",
              "    </tr>\n",
              "    <tr>\n",
              "      <th>1</th>\n",
              "      <td>Random Forest Regressor</td>\n",
              "      <td>1.417261</td>\n",
              "      <td>0.392996</td>\n",
              "    </tr>\n",
              "    <tr>\n",
              "      <th>2</th>\n",
              "      <td>XGB Regressor</td>\n",
              "      <td>1.527654</td>\n",
              "      <td>0.345715</td>\n",
              "    </tr>\n",
              "    <tr>\n",
              "      <th>3</th>\n",
              "      <td>Decision Tree Regressor</td>\n",
              "      <td>2.909950</td>\n",
              "      <td>-0.246314</td>\n",
              "    </tr>\n",
              "    <tr>\n",
              "      <th>4</th>\n",
              "      <td>Support Vector Regression</td>\n",
              "      <td>1.113454</td>\n",
              "      <td>0.523114</td>\n",
              "    </tr>\n",
              "  </tbody>\n",
              "</table>\n",
              "</div>"
            ],
            "text/plain": [
              "                   Algorithm  MSE_Score  R2_Score\n",
              "0          Linear Regression   1.433816  0.385905\n",
              "1    Random Forest Regressor   1.417261  0.392996\n",
              "2              XGB Regressor   1.527654  0.345715\n",
              "3    Decision Tree Regressor   2.909950 -0.246314\n",
              "4  Support Vector Regression   1.113454  0.523114"
            ]
          },
          "metadata": {
            "tags": []
          },
          "execution_count": 121
        }
      ]
    },
    {
      "cell_type": "markdown",
      "metadata": {
        "id": "h6YQQcAY4S_2"
      },
      "source": [
        "Now prediction on actual Test Set"
      ]
    },
    {
      "cell_type": "code",
      "metadata": {
        "id": "GLgHfJhV4S_2"
      },
      "source": [
        "X_Test = Test"
      ],
      "execution_count": null,
      "outputs": []
    },
    {
      "cell_type": "code",
      "metadata": {
        "scrolled": true,
        "id": "eqz4RAMM4S_3",
        "outputId": "884aff28-2d57-4152-ba8f-93fc1cb46432"
      },
      "source": [
        "X_Test.head()"
      ],
      "execution_count": null,
      "outputs": [
        {
          "output_type": "execute_result",
          "data": {
            "text/html": [
              "<div>\n",
              "<style scoped>\n",
              "    .dataframe tbody tr th:only-of-type {\n",
              "        vertical-align: middle;\n",
              "    }\n",
              "\n",
              "    .dataframe tbody tr th {\n",
              "        vertical-align: top;\n",
              "    }\n",
              "\n",
              "    .dataframe thead th {\n",
              "        text-align: right;\n",
              "    }\n",
              "</style>\n",
              "<table border=\"1\" class=\"dataframe\">\n",
              "  <thead>\n",
              "    <tr style=\"text-align: right;\">\n",
              "      <th></th>\n",
              "      <th>business_code</th>\n",
              "      <th>cust_number</th>\n",
              "      <th>total_open_amount</th>\n",
              "      <th>cust_payment_terms</th>\n",
              "      <th>day_of_due</th>\n",
              "      <th>month_of_due</th>\n",
              "      <th>day_document_creation</th>\n",
              "      <th>weekday_of_document_creation</th>\n",
              "    </tr>\n",
              "  </thead>\n",
              "  <tbody>\n",
              "    <tr>\n",
              "      <th>0</th>\n",
              "      <td>0.235820</td>\n",
              "      <td>NaN</td>\n",
              "      <td>-0.376078</td>\n",
              "      <td>-2.851631</td>\n",
              "      <td>-0.340167</td>\n",
              "      <td>-1.392538</td>\n",
              "      <td>1.284992</td>\n",
              "      <td>0.147586</td>\n",
              "    </tr>\n",
              "    <tr>\n",
              "      <th>1</th>\n",
              "      <td>0.235820</td>\n",
              "      <td>NaN</td>\n",
              "      <td>0.383451</td>\n",
              "      <td>NaN</td>\n",
              "      <td>-0.340167</td>\n",
              "      <td>-1.392538</td>\n",
              "      <td>1.284992</td>\n",
              "      <td>0.147586</td>\n",
              "    </tr>\n",
              "    <tr>\n",
              "      <th>2</th>\n",
              "      <td>-3.525902</td>\n",
              "      <td>1.313023</td>\n",
              "      <td>1.510343</td>\n",
              "      <td>1.563676</td>\n",
              "      <td>-0.821334</td>\n",
              "      <td>-1.392538</td>\n",
              "      <td>1.284992</td>\n",
              "      <td>0.147586</td>\n",
              "    </tr>\n",
              "    <tr>\n",
              "      <th>3</th>\n",
              "      <td>-3.525902</td>\n",
              "      <td>1.313023</td>\n",
              "      <td>0.850809</td>\n",
              "      <td>1.563676</td>\n",
              "      <td>0.140999</td>\n",
              "      <td>-1.392538</td>\n",
              "      <td>1.284992</td>\n",
              "      <td>0.147586</td>\n",
              "    </tr>\n",
              "    <tr>\n",
              "      <th>4</th>\n",
              "      <td>0.235820</td>\n",
              "      <td>0.326447</td>\n",
              "      <td>0.043240</td>\n",
              "      <td>-0.107668</td>\n",
              "      <td>-0.340167</td>\n",
              "      <td>-1.392538</td>\n",
              "      <td>1.284992</td>\n",
              "      <td>0.147586</td>\n",
              "    </tr>\n",
              "  </tbody>\n",
              "</table>\n",
              "</div>"
            ],
            "text/plain": [
              "   business_code  cust_number  total_open_amount  cust_payment_terms  \\\n",
              "0       0.235820          NaN          -0.376078           -2.851631   \n",
              "1       0.235820          NaN           0.383451                 NaN   \n",
              "2      -3.525902     1.313023           1.510343            1.563676   \n",
              "3      -3.525902     1.313023           0.850809            1.563676   \n",
              "4       0.235820     0.326447           0.043240           -0.107668   \n",
              "\n",
              "   day_of_due  month_of_due  day_document_creation  \\\n",
              "0   -0.340167     -1.392538               1.284992   \n",
              "1   -0.340167     -1.392538               1.284992   \n",
              "2   -0.821334     -1.392538               1.284992   \n",
              "3    0.140999     -1.392538               1.284992   \n",
              "4   -0.340167     -1.392538               1.284992   \n",
              "\n",
              "   weekday_of_document_creation  \n",
              "0                      0.147586  \n",
              "1                      0.147586  \n",
              "2                      0.147586  \n",
              "3                      0.147586  \n",
              "4                      0.147586  "
            ]
          },
          "metadata": {
            "tags": []
          },
          "execution_count": 124
        }
      ]
    },
    {
      "cell_type": "code",
      "metadata": {
        "id": "WYcysRig4S_3"
      },
      "source": [
        "X_Test.dropna(axis = 0,inplace=True) #dropping null values if any"
      ],
      "execution_count": null,
      "outputs": []
    },
    {
      "cell_type": "code",
      "metadata": {
        "scrolled": true,
        "id": "MQDxPqUj4S_3",
        "outputId": "82df8265-2504-40ca-b4cf-2dc46683cd51"
      },
      "source": [
        "X_Test.head()"
      ],
      "execution_count": null,
      "outputs": [
        {
          "output_type": "execute_result",
          "data": {
            "text/html": [
              "<div>\n",
              "<style scoped>\n",
              "    .dataframe tbody tr th:only-of-type {\n",
              "        vertical-align: middle;\n",
              "    }\n",
              "\n",
              "    .dataframe tbody tr th {\n",
              "        vertical-align: top;\n",
              "    }\n",
              "\n",
              "    .dataframe thead th {\n",
              "        text-align: right;\n",
              "    }\n",
              "</style>\n",
              "<table border=\"1\" class=\"dataframe\">\n",
              "  <thead>\n",
              "    <tr style=\"text-align: right;\">\n",
              "      <th></th>\n",
              "      <th>business_code</th>\n",
              "      <th>cust_number</th>\n",
              "      <th>total_open_amount</th>\n",
              "      <th>cust_payment_terms</th>\n",
              "      <th>day_of_due</th>\n",
              "      <th>month_of_due</th>\n",
              "      <th>day_document_creation</th>\n",
              "      <th>weekday_of_document_creation</th>\n",
              "    </tr>\n",
              "  </thead>\n",
              "  <tbody>\n",
              "    <tr>\n",
              "      <th>2</th>\n",
              "      <td>-3.525902</td>\n",
              "      <td>1.313023</td>\n",
              "      <td>1.510343</td>\n",
              "      <td>1.563676</td>\n",
              "      <td>-0.821334</td>\n",
              "      <td>-1.392538</td>\n",
              "      <td>1.284992</td>\n",
              "      <td>0.147586</td>\n",
              "    </tr>\n",
              "    <tr>\n",
              "      <th>3</th>\n",
              "      <td>-3.525902</td>\n",
              "      <td>1.313023</td>\n",
              "      <td>0.850809</td>\n",
              "      <td>1.563676</td>\n",
              "      <td>0.140999</td>\n",
              "      <td>-1.392538</td>\n",
              "      <td>1.284992</td>\n",
              "      <td>0.147586</td>\n",
              "    </tr>\n",
              "    <tr>\n",
              "      <th>4</th>\n",
              "      <td>0.235820</td>\n",
              "      <td>0.326447</td>\n",
              "      <td>0.043240</td>\n",
              "      <td>-0.107668</td>\n",
              "      <td>-0.340167</td>\n",
              "      <td>-1.392538</td>\n",
              "      <td>1.284992</td>\n",
              "      <td>0.147586</td>\n",
              "    </tr>\n",
              "    <tr>\n",
              "      <th>5</th>\n",
              "      <td>0.235820</td>\n",
              "      <td>0.332859</td>\n",
              "      <td>-0.773433</td>\n",
              "      <td>-0.107668</td>\n",
              "      <td>-0.340167</td>\n",
              "      <td>-1.392538</td>\n",
              "      <td>1.284992</td>\n",
              "      <td>0.147586</td>\n",
              "    </tr>\n",
              "    <tr>\n",
              "      <th>9</th>\n",
              "      <td>0.235820</td>\n",
              "      <td>-0.726140</td>\n",
              "      <td>-0.434919</td>\n",
              "      <td>-0.107668</td>\n",
              "      <td>-0.340167</td>\n",
              "      <td>-1.392538</td>\n",
              "      <td>1.284992</td>\n",
              "      <td>0.147586</td>\n",
              "    </tr>\n",
              "  </tbody>\n",
              "</table>\n",
              "</div>"
            ],
            "text/plain": [
              "   business_code  cust_number  total_open_amount  cust_payment_terms  \\\n",
              "2      -3.525902     1.313023           1.510343            1.563676   \n",
              "3      -3.525902     1.313023           0.850809            1.563676   \n",
              "4       0.235820     0.326447           0.043240           -0.107668   \n",
              "5       0.235820     0.332859          -0.773433           -0.107668   \n",
              "9       0.235820    -0.726140          -0.434919           -0.107668   \n",
              "\n",
              "   day_of_due  month_of_due  day_document_creation  \\\n",
              "2   -0.821334     -1.392538               1.284992   \n",
              "3    0.140999     -1.392538               1.284992   \n",
              "4   -0.340167     -1.392538               1.284992   \n",
              "5   -0.340167     -1.392538               1.284992   \n",
              "9   -0.340167     -1.392538               1.284992   \n",
              "\n",
              "   weekday_of_document_creation  \n",
              "2                      0.147586  \n",
              "3                      0.147586  \n",
              "4                      0.147586  \n",
              "5                      0.147586  \n",
              "9                      0.147586  "
            ]
          },
          "metadata": {
            "tags": []
          },
          "execution_count": 126
        }
      ]
    },
    {
      "cell_type": "code",
      "metadata": {
        "id": "oI_gglKY4S_4"
      },
      "source": [
        "#Y_Test = Test['Target_days']"
      ],
      "execution_count": null,
      "outputs": []
    },
    {
      "cell_type": "code",
      "metadata": {
        "id": "7PyO4Tb74S_4"
      },
      "source": [
        "# Fitting SVR to the Training Set as it gave the best results.\n",
        "Algorithm.append('Support Vector Regression')\n",
        "clf = SVR()\n",
        "clf.fit(X_train, Y_train)\n",
        "\n",
        "# Predicting the Test Set Results\n",
        "predicted = clf.predict(X_Test)"
      ],
      "execution_count": null,
      "outputs": []
    },
    {
      "cell_type": "code",
      "metadata": {
        "id": "ZpasVzQZ4S_4"
      },
      "source": [
        "predicted = [round(num) for num in predicted] # Rounding up the predicted values.\n",
        "predicted"
      ],
      "execution_count": null,
      "outputs": []
    },
    {
      "cell_type": "code",
      "metadata": {
        "scrolled": true,
        "id": "KguJzDy94S_5",
        "outputId": "58d2c66e-8e3e-47f1-a068-a186610c5653"
      },
      "source": [
        "max(predicted)"
      ],
      "execution_count": null,
      "outputs": [
        {
          "output_type": "execute_result",
          "data": {
            "text/plain": [
              "7.0"
            ]
          },
          "metadata": {
            "tags": []
          },
          "execution_count": 132
        }
      ]
    },
    {
      "cell_type": "code",
      "metadata": {
        "id": "mKx10B3a4S_5"
      },
      "source": [
        "X_Test['delay'] = predicted"
      ],
      "execution_count": null,
      "outputs": []
    },
    {
      "cell_type": "code",
      "metadata": {
        "scrolled": true,
        "id": "LAl7tVzd4S_5",
        "outputId": "69d8e6fd-6aa2-4ec3-898a-975dc4b981a9"
      },
      "source": [
        "Test.head()"
      ],
      "execution_count": null,
      "outputs": [
        {
          "output_type": "execute_result",
          "data": {
            "text/html": [
              "<div>\n",
              "<style scoped>\n",
              "    .dataframe tbody tr th:only-of-type {\n",
              "        vertical-align: middle;\n",
              "    }\n",
              "\n",
              "    .dataframe tbody tr th {\n",
              "        vertical-align: top;\n",
              "    }\n",
              "\n",
              "    .dataframe thead th {\n",
              "        text-align: right;\n",
              "    }\n",
              "</style>\n",
              "<table border=\"1\" class=\"dataframe\">\n",
              "  <thead>\n",
              "    <tr style=\"text-align: right;\">\n",
              "      <th></th>\n",
              "      <th>business_code</th>\n",
              "      <th>cust_number</th>\n",
              "      <th>total_open_amount</th>\n",
              "      <th>cust_payment_terms</th>\n",
              "      <th>day_of_due</th>\n",
              "      <th>month_of_due</th>\n",
              "      <th>day_document_creation</th>\n",
              "      <th>weekday_of_document_creation</th>\n",
              "      <th>delay</th>\n",
              "    </tr>\n",
              "  </thead>\n",
              "  <tbody>\n",
              "    <tr>\n",
              "      <th>2</th>\n",
              "      <td>-3.525902</td>\n",
              "      <td>1.313023</td>\n",
              "      <td>1.510343</td>\n",
              "      <td>1.563676</td>\n",
              "      <td>-0.821334</td>\n",
              "      <td>-1.392538</td>\n",
              "      <td>1.284992</td>\n",
              "      <td>0.147586</td>\n",
              "      <td>3.0</td>\n",
              "    </tr>\n",
              "    <tr>\n",
              "      <th>3</th>\n",
              "      <td>-3.525902</td>\n",
              "      <td>1.313023</td>\n",
              "      <td>0.850809</td>\n",
              "      <td>1.563676</td>\n",
              "      <td>0.140999</td>\n",
              "      <td>-1.392538</td>\n",
              "      <td>1.284992</td>\n",
              "      <td>0.147586</td>\n",
              "      <td>3.0</td>\n",
              "    </tr>\n",
              "    <tr>\n",
              "      <th>4</th>\n",
              "      <td>0.235820</td>\n",
              "      <td>0.326447</td>\n",
              "      <td>0.043240</td>\n",
              "      <td>-0.107668</td>\n",
              "      <td>-0.340167</td>\n",
              "      <td>-1.392538</td>\n",
              "      <td>1.284992</td>\n",
              "      <td>0.147586</td>\n",
              "      <td>1.0</td>\n",
              "    </tr>\n",
              "    <tr>\n",
              "      <th>5</th>\n",
              "      <td>0.235820</td>\n",
              "      <td>0.332859</td>\n",
              "      <td>-0.773433</td>\n",
              "      <td>-0.107668</td>\n",
              "      <td>-0.340167</td>\n",
              "      <td>-1.392538</td>\n",
              "      <td>1.284992</td>\n",
              "      <td>0.147586</td>\n",
              "      <td>1.0</td>\n",
              "    </tr>\n",
              "    <tr>\n",
              "      <th>9</th>\n",
              "      <td>0.235820</td>\n",
              "      <td>-0.726140</td>\n",
              "      <td>-0.434919</td>\n",
              "      <td>-0.107668</td>\n",
              "      <td>-0.340167</td>\n",
              "      <td>-1.392538</td>\n",
              "      <td>1.284992</td>\n",
              "      <td>0.147586</td>\n",
              "      <td>1.0</td>\n",
              "    </tr>\n",
              "  </tbody>\n",
              "</table>\n",
              "</div>"
            ],
            "text/plain": [
              "   business_code  cust_number  total_open_amount  cust_payment_terms  \\\n",
              "2      -3.525902     1.313023           1.510343            1.563676   \n",
              "3      -3.525902     1.313023           0.850809            1.563676   \n",
              "4       0.235820     0.326447           0.043240           -0.107668   \n",
              "5       0.235820     0.332859          -0.773433           -0.107668   \n",
              "9       0.235820    -0.726140          -0.434919           -0.107668   \n",
              "\n",
              "   day_of_due  month_of_due  day_document_creation  \\\n",
              "2   -0.821334     -1.392538               1.284992   \n",
              "3    0.140999     -1.392538               1.284992   \n",
              "4   -0.340167     -1.392538               1.284992   \n",
              "5   -0.340167     -1.392538               1.284992   \n",
              "9   -0.340167     -1.392538               1.284992   \n",
              "\n",
              "   weekday_of_document_creation  delay  \n",
              "2                      0.147586    3.0  \n",
              "3                      0.147586    3.0  \n",
              "4                      0.147586    1.0  \n",
              "5                      0.147586    1.0  \n",
              "9                      0.147586    1.0  "
            ]
          },
          "metadata": {
            "tags": []
          },
          "execution_count": 134
        }
      ]
    }
  ]
}